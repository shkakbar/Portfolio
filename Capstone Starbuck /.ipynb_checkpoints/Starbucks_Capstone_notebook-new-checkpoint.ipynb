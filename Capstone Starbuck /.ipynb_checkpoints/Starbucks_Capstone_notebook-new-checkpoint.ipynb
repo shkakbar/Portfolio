{
 "cells": [
  {
   "cell_type": "markdown",
   "metadata": {},
   "source": [
    "# Starbucks Capstone Challenge\n",
    "\n",
    "### Introduction\n",
    "\n",
    "This data set contains simulated data that mimics customer behavior on the Starbucks rewards mobile app. Once every few days, Starbucks sends out an offer to users of the mobile app. An offer can be merely an advertisement for a drink or an actual offer such as a discount or BOGO (buy one get one free). Some users might not receive any offer during certain weeks. \n",
    "\n",
    "Not all users receive the same offer, and that is the challenge to solve with this data set.\n",
    "\n",
    "Your task is to combine transaction, demographic and offer data to determine which demographic groups respond best to which offer type. This data set is a simplified version of the real Starbucks app because the underlying simulator only has one product whereas Starbucks actually sells dozens of products.\n",
    "\n",
    "Every offer has a validity period before the offer expires. As an example, a BOGO offer might be valid for only 5 days. You'll see in the data set that informational offers have a validity period even though these ads are merely providing information about a product; for example, if an informational offer has 7 days of validity, you can assume the customer is feeling the influence of the offer for 7 days after receiving the advertisement.\n",
    "\n",
    "You'll be given transactional data showing user purchases made on the app including the timestamp of purchase and the amount of money spent on a purchase. This transactional data also has a record for each offer that a user receives as well as a record for when a user actually views the offer. There are also records for when a user completes an offer. \n",
    "\n",
    "Keep in mind as well that someone using the app might make a purchase through the app without having received an offer or seen an offer.\n",
    "\n",
    "### Example\n",
    "\n",
    "To give an example, a user could receive a discount offer buy 10 dollars get 2 off on Monday. The offer is valid for 10 days from receipt. If the customer accumulates at least 10 dollars in purchases during the validity period, the customer completes the offer.\n",
    "\n",
    "However, there are a few things to watch out for in this data set. Customers do not opt into the offers that they receive; in other words, a user can receive an offer, never actually view the offer, and still complete the offer. For example, a user might receive the \"buy 10 dollars get 2 dollars off offer\", but the user never opens the offer during the 10 day validity period. The customer spends 15 dollars during those ten days. There will be an offer completion record in the data set; however, the customer was not influenced by the offer because the customer never viewed the offer.\n",
    "\n",
    "### Cleaning\n",
    "\n",
    "This makes data cleaning especially important and tricky.\n",
    "\n",
    "You'll also want to take into account that some demographic groups will make purchases even if they don't receive an offer. From a business perspective, if a customer is going to make a 10 dollar purchase without an offer anyway, you wouldn't want to send a buy 10 dollars get 2 dollars off offer. You'll want to try to assess what a certain demographic group will buy when not receiving any offers.\n",
    "\n",
    "### Final Advice\n",
    "\n",
    "Because this is a capstone project, you are free to analyze the data any way you see fit. For example, you could build a machine learning model that predicts how much someone will spend based on demographics and offer type. Or you could build a model that predicts whether or not someone will respond to an offer. Or, you don't need to build a machine learning model at all. You could develop a set of heuristics that determine what offer you should send to each customer (i.e., 75 percent of women customers who were 35 years old responded to offer A vs 40 percent from the same demographic to offer B, so send offer A)."
   ]
  },
  {
   "cell_type": "markdown",
   "metadata": {},
   "source": [
    "# Data Sets\n",
    "\n",
    "The data is contained in three files:\n",
    "\n",
    "* portfolio.json - containing offer ids and meta data about each offer (duration, type, etc.)\n",
    "* profile.json - demographic data for each customer\n",
    "* transcript.json - records for transactions, offers received, offers viewed, and offers completed\n",
    "\n",
    "Here is the schema and explanation of each variable in the files:\n",
    "\n",
    "**portfolio.json**\n",
    "* id (string) - offer id\n",
    "* offer_type (string) - type of offer ie BOGO, discount, informational\n",
    "* difficulty (int) - minimum required spend to complete an offer\n",
    "* reward (int) - reward given for completing an offer\n",
    "* duration (int) - time for offer to be open, in days\n",
    "* channels (list of strings)\n",
    "\n",
    "**profile.json**\n",
    "* age (int) - age of the customer \n",
    "* became_member_on (int) - date when customer created an app account\n",
    "* gender (str) - gender of the customer (note some entries contain 'O' for other rather than M or F)\n",
    "* id (str) - customer id\n",
    "* income (float) - customer's income\n",
    "\n",
    "**transcript.json**\n",
    "* event (str) - record description (ie transaction, offer received, offer viewed, etc.)\n",
    "* person (str) - customer id\n",
    "* time (int) - time in hours since start of test. The data begins at time t=0\n",
    "* value - (dict of strings) - either an offer id or transaction amount depending on the record\n",
    "\n",
    "**Note:** If you are using the workspace, you will need to go to the terminal and run the command `conda update pandas` before reading in the files. This is because the version of pandas in the workspace cannot read in the transcript.json file correctly, but the newest version of pandas can. You can access the termnal from the orange icon in the top left of this notebook.  \n",
    "\n",
    "You can see how to access the terminal and how the install works using the two images below.  First you need to access the terminal:\n",
    "\n",
    "<img src=\"pic1.png\"/>\n",
    "\n",
    "Then you will want to run the above command:\n",
    "\n",
    "<img src=\"pic2.png\"/>\n",
    "\n",
    "Finally, when you enter back into the notebook (use the jupyter icon again), you should be able to run the below cell without any errors."
   ]
  },
  {
   "cell_type": "code",
   "execution_count": 1,
   "metadata": {},
   "outputs": [
    {
     "name": "stdout",
     "output_type": "stream",
     "text": [
      "WARNING: pip is being invoked by an old script wrapper. This will fail in a future version of pip.\n",
      "Please see https://github.com/pypa/pip/issues/5599 for advice on fixing the underlying issue.\n",
      "To avoid this problem you can invoke Python with '-m pip' instead of running pip directly.\n",
      "Requirement already satisfied: progressbar in /Users/akbaralishaikh/opt/anaconda3/lib/python3.7/site-packages (2.5)\n"
     ]
    }
   ],
   "source": [
    "!pip install progressbar"
   ]
  },
  {
   "cell_type": "code",
   "execution_count": 2,
   "metadata": {},
   "outputs": [
    {
     "name": "stderr",
     "output_type": "stream",
     "text": [
      "UsageError: Line magic function `%` not found.\n"
     ]
    }
   ],
   "source": [
    "import pandas as pd\n",
    "import numpy as np\n",
    "import math, json, re, os\n",
    "\n",
    "import matplotlib.pyplot as plt\n",
    "import seaborn as sns\n",
    "from joblib import dump, load\n",
    "\n",
    "from sklearn.model_selection import train_test_split, RandomizedSearchCV, GridSearchCV\n",
    "from sklearn.preprocessing import MinMaxScaler\n",
    "from sklearn.metrics import accuracy_score, f1_score, fbeta_score, make_scorer\n",
    "from sklearn.linear_model import LogisticRegression\n",
    "from sklearn.ensemble import GradientBoostingClassifier, RandomForestClassifier\n",
    "\n",
    "from clean_data import * \n",
    "from exploratory_data_analysis import *\n",
    "\n",
    "% matplotlib inline"
   ]
  },
  {
   "cell_type": "markdown",
   "metadata": {},
   "source": [
    "## Read data from JSON file\n",
    "\n",
    "* Check dataframe and familiarise with data "
   ]
  },
  {
   "cell_type": "code",
   "execution_count": null,
   "metadata": {},
   "outputs": [],
   "source": [
    "# read in the json files\n",
    "portfolio = pd.read_json('data/portfolio.json', orient='records', lines=True)\n",
    "profile = pd.read_json('data/profile.json', orient='records', lines=True)\n",
    "transcript = pd.read_json('data/transcript.json', orient='records', lines=True)"
   ]
  },
  {
   "cell_type": "code",
   "execution_count": null,
   "metadata": {},
   "outputs": [],
   "source": [
    "portfolio.shape, profile.shape, transcript.shape"
   ]
  },
  {
   "cell_type": "code",
   "execution_count": null,
   "metadata": {},
   "outputs": [],
   "source": [
    "portfolio.info() # No missing values in portfolio dataframe"
   ]
  },
  {
   "cell_type": "code",
   "execution_count": null,
   "metadata": {},
   "outputs": [],
   "source": [
    "profile.info() # missing values in profile dataframe (gender and income)"
   ]
  },
  {
   "cell_type": "code",
   "execution_count": null,
   "metadata": {},
   "outputs": [],
   "source": [
    "profile.shape[0] - profile.isnull().sum() "
   ]
  },
  {
   "cell_type": "markdown",
   "metadata": {},
   "source": [
    "Profile dataframe has missing values (gender and income) "
   ]
  },
  {
   "cell_type": "code",
   "execution_count": null,
   "metadata": {},
   "outputs": [],
   "source": [
    "transcript.info() # No missing values in transcript dataframe"
   ]
  },
  {
   "cell_type": "code",
   "execution_count": null,
   "metadata": {},
   "outputs": [],
   "source": [
    "#pd.get_dummies()"
   ]
  },
  {
   "cell_type": "code",
   "execution_count": null,
   "metadata": {},
   "outputs": [],
   "source": [
    "# offer master database \n",
    "portfolio.head()"
   ]
  },
  {
   "cell_type": "code",
   "execution_count": null,
   "metadata": {},
   "outputs": [],
   "source": [
    "# Customer master \n",
    "profile.head()"
   ]
  },
  {
   "cell_type": "code",
   "execution_count": null,
   "metadata": {},
   "outputs": [],
   "source": [
    "transcript.head()"
   ]
  },
  {
   "cell_type": "code",
   "execution_count": null,
   "metadata": {},
   "outputs": [],
   "source": [
    "transcript['event'].value_counts()"
   ]
  },
  {
   "cell_type": "code",
   "execution_count": null,
   "metadata": {},
   "outputs": [],
   "source": [
    "transcript.columns"
   ]
  },
  {
   "cell_type": "code",
   "execution_count": null,
   "metadata": {},
   "outputs": [],
   "source": [
    "#transcript[['event', 'offerid', 'profileid', 'timedays', 'reward', 'amount']]\n",
    "#transcript.groupby(['offerid', 'profileid'])[['timedays', 'reward', 'amount', 'event']].head()"
   ]
  },
  {
   "cell_type": "code",
   "execution_count": null,
   "metadata": {},
   "outputs": [],
   "source": []
  },
  {
   "cell_type": "code",
   "execution_count": null,
   "metadata": {},
   "outputs": [],
   "source": [
    "#76277+57725 + 33579\n",
    "#57725 + 33579\n",
    "#transcript.groupby(['profileid', 'offerid'])['event'].count()"
   ]
  },
  {
   "cell_type": "code",
   "execution_count": null,
   "metadata": {},
   "outputs": [],
   "source": [
    "#portfolio = clean_portfolio() \n",
    "portfolio"
   ]
  },
  {
   "cell_type": "code",
   "execution_count": null,
   "metadata": {},
   "outputs": [],
   "source": [
    "profile.isnull().sum(axis=0) * 100 / profile.shape[0]"
   ]
  },
  {
   "cell_type": "code",
   "execution_count": null,
   "metadata": {},
   "outputs": [],
   "source": [
    "profile['gender'].value_counts()"
   ]
  },
  {
   "cell_type": "code",
   "execution_count": null,
   "metadata": {},
   "outputs": [],
   "source": [
    "# '%' sex split where gender is specified\n",
    "profile['gender'].value_counts()*100/ profile['gender'].count()"
   ]
  },
  {
   "cell_type": "code",
   "execution_count": null,
   "metadata": {},
   "outputs": [],
   "source": [
    "# '%' sex split as per overall profile count \n",
    "profile['gender'].value_counts()*100/ profile.count()[1]"
   ]
  },
  {
   "cell_type": "code",
   "execution_count": null,
   "metadata": {},
   "outputs": [],
   "source": [
    "# EDA Analysis"
   ]
  },
  {
   "cell_type": "code",
   "execution_count": null,
   "metadata": {},
   "outputs": [],
   "source": [
    "profile.isnull().sum() "
   ]
  },
  {
   "cell_type": "code",
   "execution_count": null,
   "metadata": {},
   "outputs": [],
   "source": [
    "profile.income.isnull().sum()"
   ]
  },
  {
   "cell_type": "code",
   "execution_count": null,
   "metadata": {},
   "outputs": [],
   "source": [
    "profile[profile['age']==118].count()"
   ]
  },
  {
   "cell_type": "code",
   "execution_count": null,
   "metadata": {},
   "outputs": [],
   "source": [
    "profile[profile['gender']=='O'].count()"
   ]
  },
  {
   "cell_type": "code",
   "execution_count": null,
   "metadata": {},
   "outputs": [],
   "source": [
    "profile.dropna(axis=0, inplace=True)"
   ]
  },
  {
   "cell_type": "code",
   "execution_count": null,
   "metadata": {},
   "outputs": [],
   "source": [
    "profile.shape"
   ]
  },
  {
   "cell_type": "code",
   "execution_count": null,
   "metadata": {},
   "outputs": [],
   "source": [
    "profile[profile['age']==118].count()"
   ]
  },
  {
   "cell_type": "code",
   "execution_count": null,
   "metadata": {},
   "outputs": [],
   "source": [
    "profile[profile['gender']=='O'].index"
   ]
  },
  {
   "cell_type": "code",
   "execution_count": null,
   "metadata": {},
   "outputs": [],
   "source": [
    "profile.drop(profile[profile['gender']=='O'].index, inplace=True)"
   ]
  },
  {
   "cell_type": "code",
   "execution_count": null,
   "metadata": {},
   "outputs": [],
   "source": [
    "profile.gender.unique()"
   ]
  },
  {
   "cell_type": "code",
   "execution_count": null,
   "metadata": {},
   "outputs": [],
   "source": [
    "portfolio.shape, profile.shape, transcript.shape"
   ]
  },
  {
   "cell_type": "code",
   "execution_count": null,
   "metadata": {},
   "outputs": [],
   "source": [
    "# Profile Shape + deleted Gender details which are not specified  + where age and income is not specified\n",
    "profile.shape[0] + 212 + 2175"
   ]
  },
  {
   "cell_type": "code",
   "execution_count": null,
   "metadata": {},
   "outputs": [],
   "source": [
    "profile.head()"
   ]
  },
  {
   "cell_type": "code",
   "execution_count": null,
   "metadata": {},
   "outputs": [],
   "source": [
    "profile.dtypes"
   ]
  },
  {
   "cell_type": "code",
   "execution_count": null,
   "metadata": {},
   "outputs": [],
   "source": [
    "profile['became_member_on'] = profile['became_member_on'].apply(lambda x:  pd.to_datetime(x, format='%Y%m%d'))\n",
    "\n",
    "profile['year'] = profile['became_member_on'].apply(lambda x: x.year)\n",
    "#profile['month'] = profile['became_member_on'].apply(lambda x: x.month)\n",
    "#profile['day'] = profile['became_member_on'].apply(lambda x: x.day)\n",
    "profile['weekday'] = profile['became_member_on'].apply(lambda x: x.weekday())\n",
    "profile['weekdayname'] = profile['became_member_on'].apply(lambda x: x.day_name())\n",
    "\n",
    "profile['gender'] = profile['gender'].apply(lambda x : 'Male' if (x == 'M') else 'Female')\n",
    "profile['gender'] = profile.gender.astype(str)\n",
    "\n",
    "# Change the columnn name of the profile dataframe from 'id' column to 'profileid'\n",
    "profile.rename(columns={\"id\": \"profileid\"}, inplace=True)\n",
    "\n",
    "# Change the columnn name of the portfolio dataframe from 'id' column to 'offerid'\n",
    "portfolio.rename(columns={\"id\": \"offerid\"}, inplace=True)\n",
    "\n",
    "# Change the columnn name of the transcript dataframe from 'person' column to 'customerid'\n",
    "transcript.rename(columns={'person': 'customerid'}, inplace=True)\n",
    "\n",
    "# Change the columnn name of the transcript dataframe from 'time' column to 'timedays'\n",
    "transcript.rename(columns={'time': 'timedays'}, inplace=True)"
   ]
  },
  {
   "cell_type": "code",
   "execution_count": null,
   "metadata": {},
   "outputs": [],
   "source": [
    "def impute_Age(arg_age):        \n",
    "    if (arg_age<=20):\n",
    "        return '0-20'\n",
    "    elif ((arg_age>20) & (arg_age<=40)):\n",
    "        return '20-40'\n",
    "    elif ((arg_age>40) & (arg_age<=60)):\n",
    "        return '40-60'\n",
    "    elif ((arg_age>60) & (arg_age<=80)):\n",
    "        return '60-80'\n",
    "    elif ((arg_age>80) & (arg_age<=100)):\n",
    "        return '80-100'\n",
    "    elif ((arg_age>100) & (arg_age<=120)):\n",
    "        return '110-120'\n",
    "    else:\n",
    "        return '120+'\n",
    "\n",
    "def impute_Age_number(arg_age):        \n",
    "    if (arg_age<=20):\n",
    "        return 1\n",
    "    elif ((arg_age>20) & (arg_age<=40)):\n",
    "        return 2\n",
    "    elif ((arg_age>40) & (arg_age<=60)):\n",
    "        return 3\n",
    "    elif ((arg_age>60) & (arg_age<=80)):\n",
    "        return 4\n",
    "    elif ((arg_age>80) & (arg_age<=100)):\n",
    "        return 5\n",
    "    elif ((arg_age>100) & (arg_age<=120)):\n",
    "        return 6\n",
    "    else:\n",
    "        return 7"
   ]
  },
  {
   "cell_type": "code",
   "execution_count": null,
   "metadata": {},
   "outputs": [],
   "source": [
    "profile['agegroup'] = profile['age'].apply(impute_Age)\n",
    "profile['agegroupnum'] = profile['age'].apply(impute_Age_number)"
   ]
  },
  {
   "cell_type": "code",
   "execution_count": null,
   "metadata": {},
   "outputs": [],
   "source": [
    "profile.head(2)"
   ]
  },
  {
   "cell_type": "code",
   "execution_count": null,
   "metadata": {},
   "outputs": [],
   "source": [
    "profile.dtypes"
   ]
  },
  {
   "cell_type": "code",
   "execution_count": null,
   "metadata": {},
   "outputs": [],
   "source": [
    "profile.gender.unique()"
   ]
  },
  {
   "cell_type": "code",
   "execution_count": null,
   "metadata": {},
   "outputs": [],
   "source": [
    "# -------- Profile Clean is done \n"
   ]
  },
  {
   "cell_type": "code",
   "execution_count": null,
   "metadata": {},
   "outputs": [],
   "source": [
    "# Now start with Transaction cleanup"
   ]
  },
  {
   "cell_type": "code",
   "execution_count": null,
   "metadata": {},
   "outputs": [],
   "source": [
    "transcript.head()"
   ]
  },
  {
   "cell_type": "code",
   "execution_count": null,
   "metadata": {
    "scrolled": true
   },
   "outputs": [],
   "source": [
    "val_split = transcript['value'].apply(pd.Series)"
   ]
  },
  {
   "cell_type": "code",
   "execution_count": null,
   "metadata": {},
   "outputs": [],
   "source": [
    "val_split['offer id'].isna().count(), val_split.count()#.head()"
   ]
  },
  {
   "cell_type": "code",
   "execution_count": null,
   "metadata": {},
   "outputs": [],
   "source": [
    "def mergeofferid(col):\n",
    "    offid_1 = col[0]\n",
    "    offid_2 = col[1]\n",
    "    \n",
    "\n",
    "    if ((offid_1=='') | pd.isnull(offid_1)): #| np.isnan(offid_1)):\n",
    "        return offid_2\n",
    "    elif ((offid_2=='') | pd.isnull(offid_2)):# | np.isnan(offid_2)):\n",
    "        return offid_1\n",
    "    else:\n",
    "        return \"NA\"\n",
    "\n",
    "val_split['offerid'] = val_split[['offer id', 'offer_id']].apply(mergeofferid, axis=1)"
   ]
  },
  {
   "cell_type": "code",
   "execution_count": null,
   "metadata": {},
   "outputs": [],
   "source": [
    "val_split.drop(['offer id','offer_id'], axis=1, inplace=True)#[val_split['offerid'].isna()]"
   ]
  },
  {
   "cell_type": "code",
   "execution_count": null,
   "metadata": {},
   "outputs": [],
   "source": [
    "#val_split.fillna(0, inplace=True)"
   ]
  },
  {
   "cell_type": "code",
   "execution_count": null,
   "metadata": {},
   "outputs": [],
   "source": [
    "val_split.head()"
   ]
  },
  {
   "cell_type": "code",
   "execution_count": null,
   "metadata": {},
   "outputs": [],
   "source": [
    "transcript.drop('value', axis=1, inplace=True)\n",
    "transcript.head()"
   ]
  },
  {
   "cell_type": "code",
   "execution_count": null,
   "metadata": {},
   "outputs": [],
   "source": [
    "transcript = pd.concat([transcript, val_split], axis=1)"
   ]
  },
  {
   "cell_type": "code",
   "execution_count": null,
   "metadata": {},
   "outputs": [],
   "source": [
    "transcript.columns"
   ]
  },
  {
   "cell_type": "code",
   "execution_count": null,
   "metadata": {},
   "outputs": [],
   "source": [
    "# Create a DataFrame that describes customer transactions\n",
    "column_order = ['event', 'offerid', 'customerid', 'timedays', 'reward', 'amount']\n",
    "transcript = transcript[column_order]\n",
    "    \n",
    "transcript.head()"
   ]
  },
  {
   "cell_type": "code",
   "execution_count": null,
   "metadata": {},
   "outputs": [],
   "source": [
    "#transcript.groupby(['offerid', 'event'])['amount','reward'].sum()\n",
    "transcript.groupby(['offerid'])['amount','reward'].sum()"
   ]
  },
  {
   "cell_type": "code",
   "execution_count": null,
   "metadata": {},
   "outputs": [],
   "source": [
    "# transcript clean up is complete"
   ]
  },
  {
   "cell_type": "code",
   "execution_count": null,
   "metadata": {},
   "outputs": [],
   "source": [
    "# -----------------"
   ]
  },
  {
   "cell_type": "code",
   "execution_count": null,
   "metadata": {},
   "outputs": [],
   "source": [
    "transcript.rename(columns={\"customerid\": \"profileid\"}, inplace=True)\n",
    "transcript.head(2)"
   ]
  },
  {
   "cell_type": "code",
   "execution_count": null,
   "metadata": {},
   "outputs": [],
   "source": [
    "profile.head(2)"
   ]
  },
  {
   "cell_type": "code",
   "execution_count": null,
   "metadata": {},
   "outputs": [],
   "source": [
    "portfolio.head(2)"
   ]
  },
  {
   "cell_type": "code",
   "execution_count": null,
   "metadata": {},
   "outputs": [],
   "source": [
    "########------------ \n",
    "#aaa"
   ]
  },
  {
   "cell_type": "code",
   "execution_count": null,
   "metadata": {},
   "outputs": [],
   "source": [
    "#clean_data = transcript.merge(portfolio, on='offerid')\n",
    "clean_data = pd.merge(transcript, portfolio,  how='left', left_on=['offerid'], right_on = ['offerid'])\n"
   ]
  },
  {
   "cell_type": "code",
   "execution_count": null,
   "metadata": {},
   "outputs": [],
   "source": [
    "clean_data.rename(columns={\"reward_x\": \"customerreward\"}, inplace=True)\n",
    "clean_data.rename(columns={\"reward_y\": \"offerreward\"}, inplace=True)\n"
   ]
  },
  {
   "cell_type": "code",
   "execution_count": null,
   "metadata": {},
   "outputs": [],
   "source": [
    "clean_data.head(2)"
   ]
  },
  {
   "cell_type": "code",
   "execution_count": null,
   "metadata": {},
   "outputs": [],
   "source": []
  },
  {
   "cell_type": "code",
   "execution_count": null,
   "metadata": {},
   "outputs": [],
   "source": [
    "#clean_data = clean_data.merge(transcript, on=['profileid'])\n",
    "clean_data = pd.merge(clean_data, profile,  how='left', \n",
    "                      left_on=['profileid'], \n",
    "                      right_on = ['profileid'])"
   ]
  },
  {
   "cell_type": "code",
   "execution_count": null,
   "metadata": {},
   "outputs": [],
   "source": [
    "clean_data.columns"
   ]
  },
  {
   "cell_type": "code",
   "execution_count": null,
   "metadata": {},
   "outputs": [],
   "source": [
    "clean_data.rename(columns={\"offer_type\": \"offertype\"}, inplace=True)\n",
    "clean_data.rename(columns={\"became_member_on\": \"becamememberon\"}, inplace=True)"
   ]
  },
  {
   "cell_type": "code",
   "execution_count": null,
   "metadata": {},
   "outputs": [],
   "source": [
    "clean_data.head(5)"
   ]
  },
  {
   "cell_type": "code",
   "execution_count": null,
   "metadata": {},
   "outputs": [],
   "source": [
    "# prepare exploratory graph"
   ]
  },
  {
   "cell_type": "code",
   "execution_count": null,
   "metadata": {},
   "outputs": [],
   "source": [
    "clean_data.columns"
   ]
  },
  {
   "cell_type": "code",
   "execution_count": null,
   "metadata": {},
   "outputs": [],
   "source": [
    "plt.figure(figsize=(6,3))\n",
    "sns.boxplot(x='gender', y='income', data=clean_data)"
   ]
  },
  {
   "cell_type": "code",
   "execution_count": null,
   "metadata": {},
   "outputs": [],
   "source": [
    "plt.figure(figsize=(18,6))\n",
    "sns.boxplot(x='event', y='income', hue='gender', data=clean_data)\n",
    "plt.show()\n",
    "#sns.factorplot(x=\"event\", y=\"income\", hue=\"gender\", col=\"offertype\",data=clean_data, kind=\"box\", size=4, aspect=.7)"
   ]
  },
  {
   "cell_type": "code",
   "execution_count": null,
   "metadata": {},
   "outputs": [],
   "source": [
    "#sns.jointplot(x='gender',y='customerreward', data=clean_data)\n"
   ]
  },
  {
   "cell_type": "code",
   "execution_count": null,
   "metadata": {},
   "outputs": [],
   "source": []
  },
  {
   "cell_type": "code",
   "execution_count": null,
   "metadata": {},
   "outputs": [],
   "source": []
  },
  {
   "cell_type": "code",
   "execution_count": null,
   "metadata": {},
   "outputs": [],
   "source": [
    "['event', 'offerid', 'profileid', 'timedays', 'customerreward', 'amount',\n",
    "       'channels', 'difficulty', 'duration', 'offertype', 'offerreward', 'age',\n",
    "       'becamememberon', 'gender', 'income', 'year', 'weekday', 'weekdayname',\n",
    "       'agegroup', 'agegroupnum']"
   ]
  },
  {
   "cell_type": "code",
   "execution_count": null,
   "metadata": {},
   "outputs": [],
   "source": []
  },
  {
   "cell_type": "code",
   "execution_count": null,
   "metadata": {},
   "outputs": [],
   "source": [
    "#aaaaa"
   ]
  },
  {
   "cell_type": "code",
   "execution_count": null,
   "metadata": {},
   "outputs": [],
   "source": [
    "plt.figure(figsize=(12,4))\n",
    "sns.heatmap(clean_data.isnull(), cmap='ocean')"
   ]
  },
  {
   "cell_type": "code",
   "execution_count": null,
   "metadata": {},
   "outputs": [],
   "source": [
    "# Removing and filling NA"
   ]
  },
  {
   "cell_type": "code",
   "execution_count": null,
   "metadata": {},
   "outputs": [],
   "source": [
    "saleswithoutoffer = clean_data[clean_data['event']=='transaction']\n",
    "saleswithoffer = clean_data[clean_data['event'].isin(['offer received', 'offer viewed', 'offer completed'])]"
   ]
  },
  {
   "cell_type": "code",
   "execution_count": null,
   "metadata": {},
   "outputs": [],
   "source": [
    "plt.figure(figsize=(12,4))\n",
    "sns.heatmap(saleswithoutoffer.isnull(), cmap='ocean')"
   ]
  },
  {
   "cell_type": "code",
   "execution_count": null,
   "metadata": {},
   "outputs": [],
   "source": [
    "saleswithoutoffer_final = saleswithoutoffer.drop(['offerid', 'channels', 'customerreward',\n",
    "                        'difficulty', 'duration','offertype', 'offerreward'], axis=1)\n",
    "saleswithoutoffer_final.dropna(axis=0,inplace=True)"
   ]
  },
  {
   "cell_type": "code",
   "execution_count": null,
   "metadata": {},
   "outputs": [],
   "source": [
    "#saleswithoutoffer_final.isnull().sum()\n",
    "plt.figure(figsize=(12,4))\n",
    "sns.heatmap(saleswithoutoffer_final.isnull(), cmap='ocean')"
   ]
  },
  {
   "cell_type": "code",
   "execution_count": null,
   "metadata": {},
   "outputs": [],
   "source": [
    "plt.figure(figsize=(12,4))\n",
    "sns.heatmap(saleswithoffer.isnull(), cmap='ocean')"
   ]
  },
  {
   "cell_type": "code",
   "execution_count": null,
   "metadata": {},
   "outputs": [],
   "source": [
    "saleswithoffer_final = saleswithoffer.drop(['amount'], axis=1)\n",
    "saleswithoffer_final['customerreward'].fillna(0, inplace=True)"
   ]
  },
  {
   "cell_type": "code",
   "execution_count": null,
   "metadata": {},
   "outputs": [],
   "source": [
    "plt.figure(figsize=(12,4))\n",
    "sns.heatmap(saleswithoffer_final.isnull(), cmap='ocean')"
   ]
  },
  {
   "cell_type": "code",
   "execution_count": null,
   "metadata": {},
   "outputs": [],
   "source": [
    "saleswithoffer_final[saleswithoffer_final['age'].isnull()]"
   ]
  },
  {
   "cell_type": "code",
   "execution_count": null,
   "metadata": {},
   "outputs": [],
   "source": [
    "#profile.columns\n",
    "profile[profile['profileid'] == 'a03223e636434f42ac4c3df47e8bac43']"
   ]
  },
  {
   "cell_type": "code",
   "execution_count": null,
   "metadata": {},
   "outputs": [],
   "source": [
    "#profile[profile['profileid'].isin()]\n",
    "saleswithoffer_final[saleswithoffer_final['age'].isnull()]['profileid'].unique()\n"
   ]
  },
  {
   "cell_type": "code",
   "execution_count": null,
   "metadata": {},
   "outputs": [],
   "source": [
    "saleswithoffer_final[saleswithoffer_final['age'].isnull()]['event'].value_counts()"
   ]
  },
  {
   "cell_type": "code",
   "execution_count": null,
   "metadata": {},
   "outputs": [],
   "source": [
    "# Remove customer id's that are not in the customer profile DataFrame\n",
    "select_data = saleswithoffer_final['profileid'].isin(profile['profileid'])\n",
    "saleswithoffer_final = saleswithoffer_final[select_data]\n",
    "\n",
    "percent_removed = 100 * (1 - select_data.sum() / saleswithoffer_final.shape[0])\n",
    "print(\"Percentage of transactions removed: %.2f %%\" % percent_removed)\n",
    "\n",
    "# Convert from hours to days\n",
    "saleswithoffer_final['timedays'] /= 24.0"
   ]
  },
  {
   "cell_type": "code",
   "execution_count": null,
   "metadata": {
    "scrolled": true
   },
   "outputs": [],
   "source": [
    "plt.figure(figsize=(12,4))\n",
    "sns.heatmap(saleswithoffer_final.isnull(), cmap='ocean')"
   ]
  },
  {
   "cell_type": "code",
   "execution_count": null,
   "metadata": {},
   "outputs": [],
   "source": [
    "saleswithoffer_final['event'].value_counts()"
   ]
  },
  {
   "cell_type": "code",
   "execution_count": null,
   "metadata": {},
   "outputs": [],
   "source": [
    "saleswithoffer_final['sucessful_unsuccessful'] = saleswithoffer_final['event'].apply(lambda x : 1 if (x == 'offer completed') else 0)\n",
    "#saleswithoffer_final[saleswithoffer_final['event']=='offer completed']\n",
    "\n",
    "#lambda <args> : <return Value> if <condition > ( <return value > if <condition> else <return value>)"
   ]
  },
  {
   "cell_type": "code",
   "execution_count": null,
   "metadata": {},
   "outputs": [],
   "source": [
    "saleswithoffer_final.iloc[1]"
   ]
  },
  {
   "cell_type": "code",
   "execution_count": null,
   "metadata": {},
   "outputs": [],
   "source": [
    "saleswithoffer_final.drop(['weekdayname','age', 'profileid'],axis=1,inplace=True)"
   ]
  },
  {
   "cell_type": "code",
   "execution_count": null,
   "metadata": {},
   "outputs": [],
   "source": [
    "def check_channel(col):\n",
    "    str1 = \" \" \n",
    "    \n",
    "    # return string   \n",
    "    return (str1.join(col)) \n",
    "\n",
    "    \n",
    "saleswithoffer_final['channels'] = saleswithoffer_final['channels'].apply(check_channel)"
   ]
  },
  {
   "cell_type": "code",
   "execution_count": null,
   "metadata": {},
   "outputs": [],
   "source": [
    "dum_offerid = pd.get_dummies(saleswithoffer_final['offerid'], drop_first=True)\n",
    "#dum_profileid = pd.get_dummies(saleswithoffer_final['profileid'], drop_first=True)\n",
    "dum_offertype = pd.get_dummies(saleswithoffer_final['offertype'], drop_first=True)\n",
    "dum_gender = pd.get_dummies(saleswithoffer_final['gender'], drop_first=True)\n",
    "dum_channels = pd.get_dummies(saleswithoffer_final['channels'], drop_first=True)\n",
    "dum_agegroup = pd.get_dummies(saleswithoffer_final['agegroup'], drop_first=True)\n",
    "dum_year = pd.get_dummies(saleswithoffer_final['year'], drop_first=True)\n"
   ]
  },
  {
   "cell_type": "code",
   "execution_count": null,
   "metadata": {},
   "outputs": [],
   "source": [
    "saleswithoffer_final = pd.concat([saleswithoffer_final, dum_offerid, dum_year,\n",
    "                    dum_offertype, dum_gender, dum_channels, dum_agegroup],axis=1)"
   ]
  },
  {
   "cell_type": "code",
   "execution_count": null,
   "metadata": {},
   "outputs": [],
   "source": [
    "saleswithoffer_final.drop(['offerid', 'offertype', 'year', \n",
    "                    'gender', 'channels', 'agegroup'],axis=1,inplace=True) #neighbourhood"
   ]
  },
  {
   "cell_type": "code",
   "execution_count": null,
   "metadata": {},
   "outputs": [],
   "source": [
    "saleswithoffer_final.isnull().sum()"
   ]
  },
  {
   "cell_type": "code",
   "execution_count": null,
   "metadata": {},
   "outputs": [],
   "source": [
    "saleswithoffer_final.columns"
   ]
  },
  {
   "cell_type": "code",
   "execution_count": null,
   "metadata": {},
   "outputs": [],
   "source": [
    "saleswithoffer_final['sucessful_unsuccessful'].value_counts() # Offer Completed = 1, offer unsucessfuly = 0\n",
    "#offer received     10692\n",
    "#offer viewed        8638\n",
    "#offer completed     1636"
   ]
  },
  {
   "cell_type": "code",
   "execution_count": null,
   "metadata": {},
   "outputs": [],
   "source": [
    "8638+1636- 10692"
   ]
  },
  {
   "cell_type": "code",
   "execution_count": null,
   "metadata": {},
   "outputs": [],
   "source": [
    "saleswithoffer_final"
   ]
  },
  {
   "cell_type": "code",
   "execution_count": null,
   "metadata": {},
   "outputs": [],
   "source": [
    "plt.figure(figsize=(18,12))\n",
    "sns.heatmap(saleswithoffer_final.corr())"
   ]
  },
  {
   "cell_type": "code",
   "execution_count": null,
   "metadata": {},
   "outputs": [],
   "source": [
    "#Transform variables\n",
    "##Dataset includes both numeric and one hot encoded categorical variables\n",
    "##Apply minimum / maximum scaling to numeric variables to avoid model bias\n",
    "##The use of feature scaling in scikit learn\n",
    "\n"
   ]
  },
  {
   "cell_type": "code",
   "execution_count": null,
   "metadata": {},
   "outputs": [],
   "source": [
    "saleswithoffer_final.dtypes"
   ]
  },
  {
   "cell_type": "code",
   "execution_count": null,
   "metadata": {},
   "outputs": [],
   "source": [
    "saleswithoffer_final['duration'].head()"
   ]
  },
  {
   "cell_type": "code",
   "execution_count": null,
   "metadata": {},
   "outputs": [],
   "source": [
    "saleswithoffer_final.rename(columns={2014.0: \"y2014\"}, inplace=True)\n",
    "saleswithoffer_final.rename(columns={2015.0: \"y2015\"}, inplace=True)\n",
    "saleswithoffer_final.rename(columns={2016.0: \"y2016\"}, inplace=True)\n",
    "saleswithoffer_final.rename(columns={2017.0: \"y2017\"}, inplace=True)\n",
    "saleswithoffer_final.rename(columns={2018.0: \"y2018\"}, inplace=True)"
   ]
  },
  {
   "cell_type": "code",
   "execution_count": null,
   "metadata": {},
   "outputs": [],
   "source": [
    "saleswithoffer_final.rename(columns={'web email': \"webemail\"}, inplace=True)\n",
    "saleswithoffer_final.rename(columns={'web email mobile': \"webemailmobile\"}, inplace=True)\n",
    "saleswithoffer_final.rename(columns={'web email mobile social': \"webemailmobilesocial\"}, inplace=True)\n",
    "saleswithoffer_final.rename(columns={'webemailmobile ': \"webemailmobile\"}, inplace=True)\n",
    "\n"
   ]
  },
  {
   "cell_type": "code",
   "execution_count": null,
   "metadata": {},
   "outputs": [],
   "source": [
    "saleswithoffer_final['event'].unique()"
   ]
  },
  {
   "cell_type": "code",
   "execution_count": null,
   "metadata": {},
   "outputs": [],
   "source": [
    "#saleswithoffer_final['event'].unique()\n",
    "\n",
    "saleswithoffer_final.drop('becamememberon', axis=1, inplace=True)\n",
    "saleswithoffer_final.drop('weekday', axis=1, inplace=True)\n"
   ]
  },
  {
   "cell_type": "code",
   "execution_count": null,
   "metadata": {},
   "outputs": [],
   "source": [
    "dum_event = pd.get_dummies(saleswithoffer_final['event'], drop_first=True)\n",
    "\n",
    "saleswithoffer_final = pd.concat([saleswithoffer_final, dum_event],axis=1)\n",
    "\n",
    "saleswithoffer_final.drop(['event'],axis=1,inplace=True) #neighbourhood"
   ]
  },
  {
   "cell_type": "code",
   "execution_count": null,
   "metadata": {},
   "outputs": [],
   "source": [
    "saleswithoffer_final.columns"
   ]
  },
  {
   "cell_type": "code",
   "execution_count": null,
   "metadata": {},
   "outputs": [],
   "source": [
    "saleswithoffer_final['2298d6c36e964ae4a3e7e9706d1fb8c2'] = saleswithoffer_final['2298d6c36e964ae4a3e7e9706d1fb8c2'].astype(float)\n",
    "saleswithoffer_final['2906b810c7d4411798c6938adc9daaa5'] = saleswithoffer_final['2906b810c7d4411798c6938adc9daaa5'].astype(float)\n",
    "saleswithoffer_final['3f207df678b143eea3cee63160fa8bed'] = saleswithoffer_final['3f207df678b143eea3cee63160fa8bed'].astype(float)\n",
    "saleswithoffer_final['4d5c57ea9a6940dd891ad53e9dbe8da0'] = saleswithoffer_final['4d5c57ea9a6940dd891ad53e9dbe8da0'].astype(float)\n",
    "saleswithoffer_final['5a8bc65990b245e5a138643cd4eb9837'] = saleswithoffer_final['5a8bc65990b245e5a138643cd4eb9837'].astype(float)\n",
    "saleswithoffer_final['9b98b8c7a33c4b65b9aebfe6a799e6d9'] = saleswithoffer_final['9b98b8c7a33c4b65b9aebfe6a799e6d9'].astype(float)\n",
    "saleswithoffer_final['ae264e3637204a6fb9bb56bc8210ddfd'] = saleswithoffer_final['ae264e3637204a6fb9bb56bc8210ddfd'].astype(float)\n",
    "saleswithoffer_final['f19421c1d4aa40978ebb69ca19b0e20d'] = saleswithoffer_final['f19421c1d4aa40978ebb69ca19b0e20d'].astype(float)\n",
    "saleswithoffer_final['fafdcd668e3743c1bb461111dcafc2a4'] = saleswithoffer_final['fafdcd668e3743c1bb461111dcafc2a4'].astype(float)\n",
    "saleswithoffer_final['y2014'] = saleswithoffer_final['y2014'].astype(float)\n",
    "saleswithoffer_final['y2015'] = saleswithoffer_final['y2015'].astype(float)\n",
    "saleswithoffer_final['y2016'] = saleswithoffer_final['y2016'].astype(float)\n",
    "saleswithoffer_final['y2017'] = saleswithoffer_final['y2017'].astype(float)\n",
    "saleswithoffer_final['y2018'] = saleswithoffer_final['y2018'].astype(float)\n",
    "saleswithoffer_final['discount'] = saleswithoffer_final['discount'].astype(float)\n",
    "saleswithoffer_final['informational'] = saleswithoffer_final['informational'].astype(float)\n",
    "saleswithoffer_final['Male'] = saleswithoffer_final['Male'].astype(float)\n",
    "saleswithoffer_final['webemail'] = saleswithoffer_final['webemail'].astype(float)\n",
    "saleswithoffer_final['webemailmobile'] = saleswithoffer_final['webemailmobile'].astype(float)\n",
    "saleswithoffer_final['webemailmobilesocial'] = saleswithoffer_final['webemailmobilesocial'].astype(float)\n",
    "saleswithoffer_final['110-120'] = saleswithoffer_final['110-120'].astype(float)\n",
    "saleswithoffer_final['20-40'] = saleswithoffer_final['20-40'].astype(float)\n",
    "saleswithoffer_final['40-60'] = saleswithoffer_final['40-60'].astype(float)\n",
    "saleswithoffer_final['60-80'] = saleswithoffer_final['60-80'].astype(float)\n",
    "saleswithoffer_final['80-100'] = saleswithoffer_final['80-100'].astype(float)\n",
    "\n",
    "saleswithoffer_final['offer received'] = saleswithoffer_final['offer received'].astype(float)\n",
    "saleswithoffer_final['offer viewed'] = saleswithoffer_final['offer viewed'].astype(float)\n"
   ]
  },
  {
   "cell_type": "code",
   "execution_count": null,
   "metadata": {},
   "outputs": [],
   "source": [
    "#X.dtypes"
   ]
  },
  {
   "cell_type": "code",
   "execution_count": null,
   "metadata": {},
   "outputs": [],
   "source": [
    "saleswithoffer_final.columns"
   ]
  },
  {
   "cell_type": "code",
   "execution_count": null,
   "metadata": {},
   "outputs": [],
   "source": [
    "saleswithoffer_final['sucessful_unsuccessful'].value_counts()"
   ]
  },
  {
   "cell_type": "code",
   "execution_count": null,
   "metadata": {},
   "outputs": [],
   "source": [
    "random_state = 101\n",
    "\n",
    "X = saleswithoffer_final[['timedays', 'customerreward', 'difficulty', 'duration', 'offerreward', \n",
    " 'income',  'agegroupnum', '2298d6c36e964ae4a3e7e9706d1fb8c2', '2906b810c7d4411798c6938adc9daaa5', \n",
    " '3f207df678b143eea3cee63160fa8bed', '4d5c57ea9a6940dd891ad53e9dbe8da0', '5a8bc65990b245e5a138643cd4eb9837',\n",
    " '9b98b8c7a33c4b65b9aebfe6a799e6d9', 'ae264e3637204a6fb9bb56bc8210ddfd', 'f19421c1d4aa40978ebb69ca19b0e20d', \n",
    " 'fafdcd668e3743c1bb461111dcafc2a4', 'y2014', 'y2015', 'y2016', 'y2017', 'y2018', 'discount', 'informational', \n",
    " 'Male', 'webemail', 'webemailmobile', 'webemailmobilesocial', '110-120', '20-40', '40-60', '60-80', '80-100',\n",
    " 'offer received', 'offer viewed']]\n",
    "\n",
    "y= saleswithoffer_final['sucessful_unsuccessful']\n",
    "\n",
    "(X_train, X_test, y_train, y_test) = train_test_split(X, y,\n",
    "                            test_size=0.3, random_state=random_state)\n"
   ]
  },
  {
   "cell_type": "code",
   "execution_count": null,
   "metadata": {},
   "outputs": [],
   "source": []
  },
  {
   "cell_type": "code",
   "execution_count": null,
   "metadata": {},
   "outputs": [],
   "source": [
    "!pip install xgboost"
   ]
  },
  {
   "cell_type": "code",
   "execution_count": null,
   "metadata": {},
   "outputs": [],
   "source": [
    "!pip install imblearn"
   ]
  },
  {
   "cell_type": "code",
   "execution_count": null,
   "metadata": {},
   "outputs": [],
   "source": [
    "!pip install scikit-learn==0.18.2 \n"
   ]
  },
  {
   "cell_type": "code",
   "execution_count": null,
   "metadata": {},
   "outputs": [],
   "source": [
    "!pip install SVC"
   ]
  },
  {
   "cell_type": "code",
   "execution_count": null,
   "metadata": {},
   "outputs": [],
   "source": [
    "!pip install KMeans"
   ]
  },
  {
   "cell_type": "code",
   "execution_count": null,
   "metadata": {},
   "outputs": [],
   "source": [
    "!pip install sklearn"
   ]
  },
  {
   "cell_type": "code",
   "execution_count": null,
   "metadata": {},
   "outputs": [],
   "source": [
    "!pip install SMOTE"
   ]
  },
  {
   "cell_type": "code",
   "execution_count": null,
   "metadata": {},
   "outputs": [],
   "source": []
  },
  {
   "cell_type": "code",
   "execution_count": null,
   "metadata": {},
   "outputs": [],
   "source": [
    "from sklearn.preprocessing import StandardScaler, normalize  # Helps us in Standardizing the data\n",
    "from sklearn.metrics import precision_score, f1_score, recall_score, accuracy_score, average_precision_score # Evaluation\n",
    "                                                                                                             # metrics\n",
    "from sklearn.model_selection import train_test_split, GridSearchCV\n",
    "\n",
    "#from sklearn.cluster import KMeans # Clustering\n",
    "from sklearn.linear_model import LogisticRegression\n",
    "from sklearn.ensemble import RandomForestClassifier, AdaBoostClassifier\n",
    "from xgboost import XGBClassifier\n",
    "from sklearn.svm import SVC\n",
    "from imblearn.over_sampling import SMOTE # Oversampling"
   ]
  },
  {
   "cell_type": "code",
   "execution_count": null,
   "metadata": {},
   "outputs": [],
   "source": [
    "log_reg = LogisticRegression(random_state= random_state)\n",
    "svc = SVC(random_state= random_state)\n",
    "rf = RandomForestClassifier(random_state= random_state)\n",
    "ada = AdaBoostClassifier(random_state= random_state)\n",
    "xgb = XGBClassifier(random_state= random_state)\n"
   ]
  },
  {
   "cell_type": "code",
   "execution_count": null,
   "metadata": {},
   "outputs": [],
   "source": [
    "def training_predict(trainer, X_train, Y_train, X_test, Y_test):\n",
    "    scores = {} # Initializing a Dictionary to store evaluation metrics\n",
    "    \n",
    "    trainer.fit(X_train, Y_train)  # Training\n",
    "    Y_pred = trainer.predict(X_test) # Predicts\n",
    "    \n",
    "    '''\n",
    "    Stores the result of trainer in its individual Key\n",
    "    '''\n",
    "    scores['Accuracy_test'] = accuracy_score(Y_test , Y_pred)  \n",
    "    \n",
    "    scores['Recall_test'] = recall_score(Y_test , Y_pred)\n",
    "    \n",
    "    scores['Precision_test'] = precision_score(Y_test , Y_pred)\n",
    "    \n",
    "    scores['F1_Score_test'] = f1_score(Y_test , Y_pred)\n",
    "    \n",
    "    \n",
    "    return scores"
   ]
  },
  {
   "cell_type": "code",
   "execution_count": null,
   "metadata": {},
   "outputs": [],
   "source": [
    "print (X_train.shape, y_train.shape, '\\n', X_test.shape, y_test.shape)"
   ]
  },
  {
   "cell_type": "code",
   "execution_count": null,
   "metadata": {},
   "outputs": [],
   "source": [
    "# Ignore the error\n",
    "predictors = {} # Initializing a dictionary to store training and testing data\n",
    "for model in [log_reg, svc, rf, ada, xgb]: # these are our objects that we instantiated above. We loop through them\n",
    "    model_name = model.__class__.__name__\n",
    "    predictors[model_name]  = {}\n",
    "    predictors[model_name] =  training_predict(model, X_train, y_train, X_test, y_test) #Scores that is returned from trainer goes to\n",
    "                                                                             # the respective predictor"
   ]
  },
  {
   "cell_type": "markdown",
   "metadata": {},
   "source": [
    "# Test"
   ]
  },
  {
   "cell_type": "code",
   "execution_count": 139,
   "metadata": {},
   "outputs": [
    {
     "data": {
      "text/html": [
       "<div>\n",
       "<style scoped>\n",
       "    .dataframe tbody tr th:only-of-type {\n",
       "        vertical-align: middle;\n",
       "    }\n",
       "\n",
       "    .dataframe tbody tr th {\n",
       "        vertical-align: top;\n",
       "    }\n",
       "\n",
       "    .dataframe thead th {\n",
       "        text-align: right;\n",
       "    }\n",
       "</style>\n",
       "<table border=\"1\" class=\"dataframe\">\n",
       "  <thead>\n",
       "    <tr style=\"text-align: right;\">\n",
       "      <th></th>\n",
       "      <th>Accuracy_test</th>\n",
       "      <th>F1_Score_test</th>\n",
       "      <th>Precision_test</th>\n",
       "      <th>Recall_test</th>\n",
       "    </tr>\n",
       "  </thead>\n",
       "  <tbody>\n",
       "    <tr>\n",
       "      <th>LogisticRegression</th>\n",
       "      <td>0.941980</td>\n",
       "      <td>0.844200</td>\n",
       "      <td>1.0</td>\n",
       "      <td>0.730404</td>\n",
       "    </tr>\n",
       "    <tr>\n",
       "      <th>SVC</th>\n",
       "      <td>0.999386</td>\n",
       "      <td>0.998572</td>\n",
       "      <td>1.0</td>\n",
       "      <td>0.997148</td>\n",
       "    </tr>\n",
       "    <tr>\n",
       "      <th>RandomForestClassifier</th>\n",
       "      <td>1.000000</td>\n",
       "      <td>1.000000</td>\n",
       "      <td>1.0</td>\n",
       "      <td>1.000000</td>\n",
       "    </tr>\n",
       "    <tr>\n",
       "      <th>AdaBoostClassifier</th>\n",
       "      <td>1.000000</td>\n",
       "      <td>1.000000</td>\n",
       "      <td>1.0</td>\n",
       "      <td>1.000000</td>\n",
       "    </tr>\n",
       "    <tr>\n",
       "      <th>XGBClassifier</th>\n",
       "      <td>1.000000</td>\n",
       "      <td>1.000000</td>\n",
       "      <td>1.0</td>\n",
       "      <td>1.000000</td>\n",
       "    </tr>\n",
       "  </tbody>\n",
       "</table>\n",
       "</div>"
      ],
      "text/plain": [
       "                        Accuracy_test  F1_Score_test  Precision_test  \\\n",
       "LogisticRegression           0.941980       0.844200             1.0   \n",
       "SVC                          0.999386       0.998572             1.0   \n",
       "RandomForestClassifier       1.000000       1.000000             1.0   \n",
       "AdaBoostClassifier           1.000000       1.000000             1.0   \n",
       "XGBClassifier                1.000000       1.000000             1.0   \n",
       "\n",
       "                        Recall_test  \n",
       "LogisticRegression         0.730404  \n",
       "SVC                        0.997148  \n",
       "RandomForestClassifier     1.000000  \n",
       "AdaBoostClassifier         1.000000  \n",
       "XGBClassifier              1.000000  "
      ]
     },
     "execution_count": 139,
     "metadata": {},
     "output_type": "execute_result"
    }
   ],
   "source": [
    "pd.DataFrame(predictors).T"
   ]
  },
  {
   "cell_type": "code",
   "execution_count": 140,
   "metadata": {},
   "outputs": [
    {
     "data": {
      "text/plain": [
       "array([ 0.065     ,  0.06928571,  0.07357143,  0.07785714,  0.08214286,\n",
       "        0.08642857,  0.09071429,  0.095     ,  0.09928571,  0.10357143,\n",
       "        0.10785714,  0.11214286,  0.11642857,  0.12071429,  0.125     ])"
      ]
     },
     "execution_count": 140,
     "metadata": {},
     "output_type": "execute_result"
    }
   ],
   "source": [
    "smote_values = np.linspace(0.065, 0.125, num= 15)\n",
    "smote_values"
   ]
  },
  {
   "cell_type": "code",
   "execution_count": 150,
   "metadata": {},
   "outputs": [
    {
     "name": "stdout",
     "output_type": "stream",
     "text": [
      "Requirement already satisfied: imblearn in /opt/conda/lib/python3.6/site-packages (0.0)\n",
      "Requirement already satisfied: imbalanced-learn in /opt/conda/lib/python3.6/site-packages (from imblearn) (0.6.1)\n",
      "Requirement already satisfied: joblib>=0.11 in /opt/conda/lib/python3.6/site-packages (from imbalanced-learn->imblearn) (0.11)\n",
      "Requirement already satisfied: scikit-learn>=0.22 in /opt/conda/lib/python3.6/site-packages (from imbalanced-learn->imblearn) (0.22.1)\n",
      "Requirement already satisfied: numpy>=1.11 in /opt/conda/lib/python3.6/site-packages (from imbalanced-learn->imblearn) (1.18.1)\n",
      "Requirement already satisfied: scipy>=0.17 in /opt/conda/lib/python3.6/site-packages (from imbalanced-learn->imblearn) (0.19.1)\n",
      "Collecting MultiOutputMixin\n",
      "\u001b[31m  Could not find a version that satisfies the requirement MultiOutputMixin (from versions: )\u001b[0m\n",
      "\u001b[31mNo matching distribution found for MultiOutputMixin\u001b[0m\n"
     ]
    },
    {
     "ename": "ImportError",
     "evalue": "cannot import name 'MultiOutputMixin'",
     "output_type": "error",
     "traceback": [
      "\u001b[0;31m---------------------------------------------------------------------------\u001b[0m",
      "\u001b[0;31mImportError\u001b[0m                               Traceback (most recent call last)",
      "\u001b[0;32m<ipython-input-150-fdf3c9c03b3f>\u001b[0m in \u001b[0;36m<module>\u001b[0;34m()\u001b[0m\n\u001b[1;32m      1\u001b[0m \u001b[0mget_ipython\u001b[0m\u001b[0;34m(\u001b[0m\u001b[0;34m)\u001b[0m\u001b[0;34m.\u001b[0m\u001b[0msystem\u001b[0m\u001b[0;34m(\u001b[0m\u001b[0;34m'pip install imblearn'\u001b[0m\u001b[0;34m)\u001b[0m\u001b[0;34m\u001b[0m\u001b[0m\n\u001b[1;32m      2\u001b[0m \u001b[0mget_ipython\u001b[0m\u001b[0;34m(\u001b[0m\u001b[0;34m)\u001b[0m\u001b[0;34m.\u001b[0m\u001b[0msystem\u001b[0m\u001b[0;34m(\u001b[0m\u001b[0;34m'pip install MultiOutputMixin'\u001b[0m\u001b[0;34m)\u001b[0m\u001b[0;34m\u001b[0m\u001b[0m\n\u001b[0;32m----> 3\u001b[0;31m \u001b[0;32mfrom\u001b[0m \u001b[0mimblearn\u001b[0m\u001b[0;34m.\u001b[0m\u001b[0mover_sampling\u001b[0m \u001b[0;32mimport\u001b[0m \u001b[0mSMOTE\u001b[0m\u001b[0;34m\u001b[0m\u001b[0m\n\u001b[0m\u001b[1;32m      4\u001b[0m \u001b[0;34m\u001b[0m\u001b[0m\n\u001b[1;32m      5\u001b[0m \u001b[0;34m\u001b[0m\u001b[0m\n",
      "\u001b[0;32m/opt/conda/lib/python3.6/site-packages/imblearn/__init__.py\u001b[0m in \u001b[0;36m<module>\u001b[0;34m()\u001b[0m\n\u001b[1;32m     32\u001b[0m     \u001b[0mModule\u001b[0m \u001b[0mwhich\u001b[0m \u001b[0mallowing\u001b[0m \u001b[0mto\u001b[0m \u001b[0mcreate\u001b[0m \u001b[0mpipeline\u001b[0m \u001b[0;32mwith\u001b[0m \u001b[0mscikit\u001b[0m\u001b[0;34m-\u001b[0m\u001b[0mlearn\u001b[0m \u001b[0mestimators\u001b[0m\u001b[0;34m.\u001b[0m\u001b[0;34m\u001b[0m\u001b[0m\n\u001b[1;32m     33\u001b[0m \"\"\"\n\u001b[0;32m---> 34\u001b[0;31m \u001b[0;32mfrom\u001b[0m \u001b[0;34m.\u001b[0m \u001b[0;32mimport\u001b[0m \u001b[0mcombine\u001b[0m\u001b[0;34m\u001b[0m\u001b[0m\n\u001b[0m\u001b[1;32m     35\u001b[0m \u001b[0;32mfrom\u001b[0m \u001b[0;34m.\u001b[0m \u001b[0;32mimport\u001b[0m \u001b[0mensemble\u001b[0m\u001b[0;34m\u001b[0m\u001b[0m\n\u001b[1;32m     36\u001b[0m \u001b[0;32mfrom\u001b[0m \u001b[0;34m.\u001b[0m \u001b[0;32mimport\u001b[0m \u001b[0mexceptions\u001b[0m\u001b[0;34m\u001b[0m\u001b[0m\n",
      "\u001b[0;32m/opt/conda/lib/python3.6/site-packages/imblearn/combine/__init__.py\u001b[0m in \u001b[0;36m<module>\u001b[0;34m()\u001b[0m\n\u001b[1;32m      3\u001b[0m \"\"\"\n\u001b[1;32m      4\u001b[0m \u001b[0;34m\u001b[0m\u001b[0m\n\u001b[0;32m----> 5\u001b[0;31m \u001b[0;32mfrom\u001b[0m \u001b[0;34m.\u001b[0m\u001b[0m_smote_enn\u001b[0m \u001b[0;32mimport\u001b[0m \u001b[0mSMOTEENN\u001b[0m\u001b[0;34m\u001b[0m\u001b[0m\n\u001b[0m\u001b[1;32m      6\u001b[0m \u001b[0;32mfrom\u001b[0m \u001b[0;34m.\u001b[0m\u001b[0m_smote_tomek\u001b[0m \u001b[0;32mimport\u001b[0m \u001b[0mSMOTETomek\u001b[0m\u001b[0;34m\u001b[0m\u001b[0m\n\u001b[1;32m      7\u001b[0m \u001b[0;34m\u001b[0m\u001b[0m\n",
      "\u001b[0;32m/opt/conda/lib/python3.6/site-packages/imblearn/combine/_smote_enn.py\u001b[0m in \u001b[0;36m<module>\u001b[0;34m()\u001b[0m\n\u001b[1;32m      8\u001b[0m \u001b[0;32mfrom\u001b[0m \u001b[0msklearn\u001b[0m\u001b[0;34m.\u001b[0m\u001b[0mutils\u001b[0m \u001b[0;32mimport\u001b[0m \u001b[0mcheck_X_y\u001b[0m\u001b[0;34m\u001b[0m\u001b[0m\n\u001b[1;32m      9\u001b[0m \u001b[0;34m\u001b[0m\u001b[0m\n\u001b[0;32m---> 10\u001b[0;31m \u001b[0;32mfrom\u001b[0m \u001b[0;34m.\u001b[0m\u001b[0;34m.\u001b[0m\u001b[0mbase\u001b[0m \u001b[0;32mimport\u001b[0m \u001b[0mBaseSampler\u001b[0m\u001b[0;34m\u001b[0m\u001b[0m\n\u001b[0m\u001b[1;32m     11\u001b[0m \u001b[0;32mfrom\u001b[0m \u001b[0;34m.\u001b[0m\u001b[0;34m.\u001b[0m\u001b[0mover_sampling\u001b[0m \u001b[0;32mimport\u001b[0m \u001b[0mSMOTE\u001b[0m\u001b[0;34m\u001b[0m\u001b[0m\n\u001b[1;32m     12\u001b[0m \u001b[0;32mfrom\u001b[0m \u001b[0;34m.\u001b[0m\u001b[0;34m.\u001b[0m\u001b[0mover_sampling\u001b[0m\u001b[0;34m.\u001b[0m\u001b[0mbase\u001b[0m \u001b[0;32mimport\u001b[0m \u001b[0mBaseOverSampler\u001b[0m\u001b[0;34m\u001b[0m\u001b[0m\n",
      "\u001b[0;32m/opt/conda/lib/python3.6/site-packages/imblearn/base.py\u001b[0m in \u001b[0;36m<module>\u001b[0;34m()\u001b[0m\n\u001b[1;32m     14\u001b[0m \u001b[0;32mfrom\u001b[0m \u001b[0msklearn\u001b[0m\u001b[0;34m.\u001b[0m\u001b[0mutils\u001b[0m\u001b[0;34m.\u001b[0m\u001b[0mmulticlass\u001b[0m \u001b[0;32mimport\u001b[0m \u001b[0mcheck_classification_targets\u001b[0m\u001b[0;34m\u001b[0m\u001b[0m\n\u001b[1;32m     15\u001b[0m \u001b[0;34m\u001b[0m\u001b[0m\n\u001b[0;32m---> 16\u001b[0;31m \u001b[0;32mfrom\u001b[0m \u001b[0;34m.\u001b[0m\u001b[0mutils\u001b[0m \u001b[0;32mimport\u001b[0m \u001b[0mcheck_sampling_strategy\u001b[0m\u001b[0;34m,\u001b[0m \u001b[0mcheck_target_type\u001b[0m\u001b[0;34m\u001b[0m\u001b[0m\n\u001b[0m\u001b[1;32m     17\u001b[0m \u001b[0;34m\u001b[0m\u001b[0m\n\u001b[1;32m     18\u001b[0m \u001b[0;34m\u001b[0m\u001b[0m\n",
      "\u001b[0;32m/opt/conda/lib/python3.6/site-packages/imblearn/utils/__init__.py\u001b[0m in \u001b[0;36m<module>\u001b[0;34m()\u001b[0m\n\u001b[1;32m      5\u001b[0m \u001b[0;32mfrom\u001b[0m \u001b[0;34m.\u001b[0m\u001b[0m_docstring\u001b[0m \u001b[0;32mimport\u001b[0m \u001b[0mSubstitution\u001b[0m\u001b[0;34m\u001b[0m\u001b[0m\n\u001b[1;32m      6\u001b[0m \u001b[0;34m\u001b[0m\u001b[0m\n\u001b[0;32m----> 7\u001b[0;31m \u001b[0;32mfrom\u001b[0m \u001b[0;34m.\u001b[0m\u001b[0m_validation\u001b[0m \u001b[0;32mimport\u001b[0m \u001b[0mcheck_neighbors_object\u001b[0m\u001b[0;34m\u001b[0m\u001b[0m\n\u001b[0m\u001b[1;32m      8\u001b[0m \u001b[0;32mfrom\u001b[0m \u001b[0;34m.\u001b[0m\u001b[0m_validation\u001b[0m \u001b[0;32mimport\u001b[0m \u001b[0mcheck_target_type\u001b[0m\u001b[0;34m\u001b[0m\u001b[0m\n\u001b[1;32m      9\u001b[0m \u001b[0;32mfrom\u001b[0m \u001b[0;34m.\u001b[0m\u001b[0m_validation\u001b[0m \u001b[0;32mimport\u001b[0m \u001b[0mcheck_sampling_strategy\u001b[0m\u001b[0;34m\u001b[0m\u001b[0m\n",
      "\u001b[0;32m/opt/conda/lib/python3.6/site-packages/imblearn/utils/_validation.py\u001b[0m in \u001b[0;36m<module>\u001b[0;34m()\u001b[0m\n\u001b[1;32m     11\u001b[0m \u001b[0;34m\u001b[0m\u001b[0m\n\u001b[1;32m     12\u001b[0m \u001b[0;32mfrom\u001b[0m \u001b[0msklearn\u001b[0m\u001b[0;34m.\u001b[0m\u001b[0mbase\u001b[0m \u001b[0;32mimport\u001b[0m \u001b[0mclone\u001b[0m\u001b[0;34m\u001b[0m\u001b[0m\n\u001b[0;32m---> 13\u001b[0;31m \u001b[0;32mfrom\u001b[0m \u001b[0msklearn\u001b[0m\u001b[0;34m.\u001b[0m\u001b[0mneighbors\u001b[0m\u001b[0;34m.\u001b[0m\u001b[0m_base\u001b[0m \u001b[0;32mimport\u001b[0m \u001b[0mKNeighborsMixin\u001b[0m\u001b[0;34m\u001b[0m\u001b[0m\n\u001b[0m\u001b[1;32m     14\u001b[0m \u001b[0;32mfrom\u001b[0m \u001b[0msklearn\u001b[0m\u001b[0;34m.\u001b[0m\u001b[0mneighbors\u001b[0m \u001b[0;32mimport\u001b[0m \u001b[0mNearestNeighbors\u001b[0m\u001b[0;34m\u001b[0m\u001b[0m\n\u001b[1;32m     15\u001b[0m \u001b[0;32mfrom\u001b[0m \u001b[0msklearn\u001b[0m\u001b[0;34m.\u001b[0m\u001b[0mutils\u001b[0m\u001b[0;34m.\u001b[0m\u001b[0mmulticlass\u001b[0m \u001b[0;32mimport\u001b[0m \u001b[0mtype_of_target\u001b[0m\u001b[0;34m\u001b[0m\u001b[0m\n",
      "\u001b[0;32m/opt/conda/lib/python3.6/site-packages/sklearn/neighbors/_base.py\u001b[0m in \u001b[0;36m<module>\u001b[0;34m()\u001b[0m\n\u001b[1;32m     21\u001b[0m \u001b[0;32mfrom\u001b[0m \u001b[0;34m.\u001b[0m\u001b[0m_ball_tree\u001b[0m \u001b[0;32mimport\u001b[0m \u001b[0mBallTree\u001b[0m\u001b[0;34m\u001b[0m\u001b[0m\n\u001b[1;32m     22\u001b[0m \u001b[0;32mfrom\u001b[0m \u001b[0;34m.\u001b[0m\u001b[0m_kd_tree\u001b[0m \u001b[0;32mimport\u001b[0m \u001b[0mKDTree\u001b[0m\u001b[0;34m\u001b[0m\u001b[0m\n\u001b[0;32m---> 23\u001b[0;31m \u001b[0;32mfrom\u001b[0m \u001b[0;34m.\u001b[0m\u001b[0;34m.\u001b[0m\u001b[0mbase\u001b[0m \u001b[0;32mimport\u001b[0m \u001b[0mBaseEstimator\u001b[0m\u001b[0;34m,\u001b[0m \u001b[0mMultiOutputMixin\u001b[0m\u001b[0;34m\u001b[0m\u001b[0m\n\u001b[0m\u001b[1;32m     24\u001b[0m \u001b[0;32mfrom\u001b[0m \u001b[0;34m.\u001b[0m\u001b[0;34m.\u001b[0m\u001b[0mmetrics\u001b[0m \u001b[0;32mimport\u001b[0m \u001b[0mpairwise_distances_chunked\u001b[0m\u001b[0;34m\u001b[0m\u001b[0m\n\u001b[1;32m     25\u001b[0m \u001b[0;32mfrom\u001b[0m \u001b[0;34m.\u001b[0m\u001b[0;34m.\u001b[0m\u001b[0mmetrics\u001b[0m\u001b[0;34m.\u001b[0m\u001b[0mpairwise\u001b[0m \u001b[0;32mimport\u001b[0m \u001b[0mPAIRWISE_DISTANCE_FUNCTIONS\u001b[0m\u001b[0;34m\u001b[0m\u001b[0m\n",
      "\u001b[0;31mImportError\u001b[0m: cannot import name 'MultiOutputMixin'"
     ]
    }
   ],
   "source": [
    "\n",
    "from imblearn.over_sampling import SMOTE\n",
    "\n",
    "\n",
    "\n",
    "import time\n",
    "#Ignore the errors\n",
    "start = time.time()\n",
    "\n",
    "panel = {} # Saves key as smoting ratio and dictionary is the result of each classifier\n",
    "\n",
    "for value in smote_values:\n",
    "    sm = SMOTE(ratio=value,kind='borderline1',random_state=42)\n",
    "    X_res, Y_res = sm.fit_sample(X_train, Y_train)\n",
    "\n",
    "    print ('Loop for smote value {} started at {}'.format(value, datetime.now().strftime(\"%H:%M:%S\")))\n",
    "   \n",
    "    predictors = {} # Initializing a dictionary to store training and testing data\n",
    " \n",
    "    for model in [log_reg, svc, rf, ada, xgb]:\n",
    "        model_name = model.__class__.__name__\n",
    "        predictors[model_name]  = {}\n",
    "        predictors[model_name] =  training_predict(model, X_train, y_train, X_test, y_test) #Scores that is returned from trainer goes to\n",
    "    \n",
    "    panel[value] = predictors  # the respective predictor\n",
    "            \n",
    "    print ('Loop Ended at {}'.format(datetime.now().strftime(\"%H:%M:%S\")))\n",
    "    print ('\\n')\n",
    "    \n",
    "print ('Loop took {} mins'.format((time.time() - start) / 60))"
   ]
  },
  {
   "cell_type": "code",
   "execution_count": null,
   "metadata": {},
   "outputs": [],
   "source": [
    "smote_iterated_df = pd.DataFrame()\n",
    "for key in panel:\n",
    "    temp_df = pd.DataFrame(panel[key]).T\n",
    "    temp_df['Smote'] = key\n",
    "    temp_df.index.name = 'Class'\n",
    "    temp_df.reset_index(inplace= True)\n",
    "    temp_df.set_index(['Smote','Class'], inplace= True)\n",
    "    smote_iterated_df = smote_iterated_df.append(temp_df)"
   ]
  },
  {
   "cell_type": "code",
   "execution_count": null,
   "metadata": {},
   "outputs": [],
   "source": [
    "smote_iterated_df.head(15)\n"
   ]
  },
  {
   "cell_type": "code",
   "execution_count": null,
   "metadata": {},
   "outputs": [],
   "source": [
    "# Lets rearrange Recall_test score in descending order\n",
    "smote_iterated_df['Recall_test'].sort_values(ascending = False).head(5)"
   ]
  },
  {
   "cell_type": "code",
   "execution_count": null,
   "metadata": {},
   "outputs": [],
   "source": [
    "smote_iterated_df['Recall_test'].idxmax() # Finding the Smote_Ratio and Class for the largest Recall Score"
   ]
  },
  {
   "cell_type": "code",
   "execution_count": null,
   "metadata": {},
   "outputs": [],
   "source": [
    "smote_iterated_df.to_csv('Smote_iteration.csv', sep=',')"
   ]
  },
  {
   "cell_type": "code",
   "execution_count": null,
   "metadata": {},
   "outputs": [],
   "source": []
  },
  {
   "cell_type": "code",
   "execution_count": null,
   "metadata": {},
   "outputs": [],
   "source": []
  },
  {
   "cell_type": "code",
   "execution_count": null,
   "metadata": {},
   "outputs": [],
   "source": []
  },
  {
   "cell_type": "code",
   "execution_count": null,
   "metadata": {},
   "outputs": [],
   "source": []
  },
  {
   "cell_type": "code",
   "execution_count": null,
   "metadata": {},
   "outputs": [],
   "source": []
  },
  {
   "cell_type": "code",
   "execution_count": null,
   "metadata": {},
   "outputs": [],
   "source": []
  },
  {
   "cell_type": "code",
   "execution_count": null,
   "metadata": {},
   "outputs": [],
   "source": []
  },
  {
   "cell_type": "code",
   "execution_count": null,
   "metadata": {},
   "outputs": [],
   "source": []
  },
  {
   "cell_type": "code",
   "execution_count": null,
   "metadata": {},
   "outputs": [],
   "source": []
  },
  {
   "cell_type": "code",
   "execution_count": null,
   "metadata": {},
   "outputs": [],
   "source": []
  },
  {
   "cell_type": "code",
   "execution_count": null,
   "metadata": {},
   "outputs": [],
   "source": []
  },
  {
   "cell_type": "code",
   "execution_count": null,
   "metadata": {},
   "outputs": [],
   "source": []
  },
  {
   "cell_type": "code",
   "execution_count": null,
   "metadata": {},
   "outputs": [],
   "source": []
  },
  {
   "cell_type": "code",
   "execution_count": null,
   "metadata": {},
   "outputs": [],
   "source": []
  },
  {
   "cell_type": "code",
   "execution_count": null,
   "metadata": {},
   "outputs": [],
   "source": []
  },
  {
   "cell_type": "code",
   "execution_count": null,
   "metadata": {},
   "outputs": [],
   "source": []
  },
  {
   "cell_type": "code",
   "execution_count": null,
   "metadata": {},
   "outputs": [],
   "source": [
    "ALPHA"
   ]
  },
  {
   "cell_type": "code",
   "execution_count": 120,
   "metadata": {},
   "outputs": [],
   "source": [
    "#-----------"
   ]
  },
  {
   "cell_type": "code",
   "execution_count": 121,
   "metadata": {},
   "outputs": [],
   "source": [
    "#---------------------------------------------------------------------------------------------------------------\n",
    "variables_to_scale = ['timedays', 'customerreward', 'difficulty', \n",
    "                      'duration', 'offerreward', 'income', 'agegroupnum']\n",
    "\n",
    "min_max_scaler = {}\n",
    "\n",
    "scaler = MinMaxScaler()\n",
    "scaler.fit(X_train[variables_to_scale])\n",
    "X_train = scaler.transform(X_train[variables_to_scale])\n"
   ]
  },
  {
   "cell_type": "code",
   "execution_count": null,
   "metadata": {},
   "outputs": [],
   "source": []
  },
  {
   "cell_type": "code",
   "execution_count": null,
   "metadata": {},
   "outputs": [],
   "source": []
  },
  {
   "cell_type": "code",
   "execution_count": null,
   "metadata": {},
   "outputs": [],
   "source": []
  },
  {
   "cell_type": "code",
   "execution_count": null,
   "metadata": {},
   "outputs": [],
   "source": []
  },
  {
   "cell_type": "code",
   "execution_count": null,
   "metadata": {},
   "outputs": [],
   "source": []
  },
  {
   "cell_type": "code",
   "execution_count": null,
   "metadata": {},
   "outputs": [],
   "source": []
  },
  {
   "cell_type": "code",
   "execution_count": 122,
   "metadata": {},
   "outputs": [
    {
     "data": {
      "text/plain": [
       "'Predictive Modeling\\nEvaluate naive predictor performance\\nA naive predictor assumes that all customer offers were successful'"
      ]
     },
     "execution_count": 122,
     "metadata": {},
     "output_type": "execute_result"
    }
   ],
   "source": [
    "'''Predictive Modeling\n",
    "Evaluate naive predictor performance\n",
    "A naive predictor assumes that all customer offers were successful'''"
   ]
  },
  {
   "cell_type": "code",
   "execution_count": 123,
   "metadata": {},
   "outputs": [
    {
     "name": "stdout",
     "output_type": "stream",
     "text": [
      "Naive predictor accuracy: 0.219\n",
      "Naive predictor f1-score: 0.359\n"
     ]
    }
   ],
   "source": [
    "naive_predictor_accuracy = accuracy_score(y_train,np.ones(len(y_train)))\n",
    "naive_predictor_f1score = f1_score(y_train, np.ones(len(y_train)))\n",
    "\n",
    "print(\"Naive predictor accuracy: %.3f\" % (naive_predictor_accuracy))\n",
    "print(\"Naive predictor f1-score: %.3f\" % (naive_predictor_f1score))"
   ]
  },
  {
   "cell_type": "code",
   "execution_count": 124,
   "metadata": {},
   "outputs": [
    {
     "name": "stdout",
     "output_type": "stream",
     "text": [
      "Fitting 3 folds for each of 6 candidates, totalling 18 fits\n",
      "[CV] penalty=l1, C=1.0 ...............................................\n",
      "[CV] penalty=l1, C=1.0 ...............................................\n",
      "[CV] penalty=l1, C=1.0 ...............................................\n",
      "[CV] ................................ penalty=l1, C=1.0, total=   1.0s\n",
      "[CV] penalty=l2, C=1.0 ...............................................\n",
      "[CV] ................................ penalty=l1, C=1.0, total=   1.0s\n",
      "[CV] ................................ penalty=l1, C=1.0, total=   0.9s\n",
      "[CV] penalty=l2, C=1.0 ...............................................\n",
      "[CV] penalty=l2, C=1.0 ...............................................\n",
      "[CV] ................................ penalty=l2, C=1.0, total=   0.9s\n",
      "[CV] penalty=l1, C=0.1 ...............................................\n",
      "[CV] ................................ penalty=l2, C=1.0, total=   0.9s\n",
      "[CV] penalty=l1, C=0.1 ...............................................\n",
      "[CV] ................................ penalty=l2, C=1.0, total=   0.9s\n",
      "[CV] penalty=l1, C=0.1 ...............................................\n",
      "[CV] ................................ penalty=l1, C=0.1, total=   0.8s\n",
      "[CV] penalty=l2, C=0.1 ...............................................\n",
      "[CV] ................................ penalty=l1, C=0.1, total=   0.8s\n",
      "[CV] penalty=l2, C=0.1 ...............................................\n",
      "[CV] ................................ penalty=l1, C=0.1, total=   0.8s\n",
      "[CV] penalty=l2, C=0.1 ...............................................\n",
      "[CV] ................................ penalty=l2, C=0.1, total=   0.8s\n",
      "[CV] penalty=l1, C=0.01 ..............................................\n",
      "[CV] ................................ penalty=l2, C=0.1, total=   0.8s\n",
      "[CV] penalty=l1, C=0.01 ..............................................\n",
      "[CV] ................................ penalty=l2, C=0.1, total=   0.8s\n",
      "[CV] penalty=l1, C=0.01 ..............................................\n",
      "[CV] ............................... penalty=l1, C=0.01, total=   0.8s\n",
      "[CV] penalty=l2, C=0.01 ..............................................\n",
      "[CV] ............................... penalty=l1, C=0.01, total=   0.8s\n",
      "[CV] penalty=l2, C=0.01 ..............................................\n",
      "[CV] ............................... penalty=l1, C=0.01, total=   0.8s\n",
      "[CV] penalty=l2, C=0.01 ..............................................\n",
      "[CV] ............................... penalty=l2, C=0.01, total=   0.7s\n",
      "[CV] ............................... penalty=l2, C=0.01, total=   0.6s\n",
      "[CV] ............................... penalty=l2, C=0.01, total=   0.6s\n"
     ]
    },
    {
     "name": "stderr",
     "output_type": "stream",
     "text": [
      "[Parallel(n_jobs=3)]: Done  18 out of  18 | elapsed:    5.8s finished\n"
     ]
    },
    {
     "data": {
      "text/plain": [
       "RandomizedSearchCV(cv=3, error_score='raise',\n",
       "          estimator=LogisticRegression(C=1.0, class_weight=None, dual=False, fit_intercept=True,\n",
       "          intercept_scaling=1, max_iter=100, multi_class='ovr', n_jobs=1,\n",
       "          penalty='l2', random_state=101, solver='liblinear', tol=0.0001,\n",
       "          verbose=0, warm_start=False),\n",
       "          fit_params=None, iid=True, n_iter=6, n_jobs=3,\n",
       "          param_distributions={'penalty': ['l1', 'l2'], 'C': [1.0, 0.1, 0.01]},\n",
       "          pre_dispatch='2*n_jobs', random_state=101, refit=True,\n",
       "          return_train_score='warn',\n",
       "          scoring=make_scorer(fbeta_score, beta=0.5), verbose=2)"
      ]
     },
     "execution_count": 124,
     "metadata": {},
     "output_type": "execute_result"
    }
   ],
   "source": [
    "scorer = make_scorer(fbeta_score,\n",
    "                     beta=0.5)\n",
    "\n",
    "\n",
    "lr_clf = LogisticRegression(random_state=random_state,\n",
    "                            solver='liblinear')\n",
    "\n",
    "random_grid = {'penalty': ['l1', 'l2'],\n",
    "               'C': [1.0, 0.1, 0.01]}\n",
    "\n",
    "lr_random = RandomizedSearchCV(estimator = lr_clf,\n",
    "                               param_distributions = random_grid,\n",
    "                               scoring=scorer,\n",
    "                               n_iter = 6,\n",
    "                               cv = 3,\n",
    "                               verbose=2,\n",
    "                               random_state=random_state,\n",
    "                               n_jobs = 3)\n",
    "\n",
    "lr_random.fit(X_train, y_train)"
   ]
  },
  {
   "cell_type": "code",
   "execution_count": 125,
   "metadata": {},
   "outputs": [],
   "source": [
    "def evaluate_model_performance(clf,\n",
    "                               X_train,\n",
    "                               y_train):\n",
    "    \"\"\" Prints a model's accuracy and F1-score\n",
    "    \n",
    "    INPUT:\n",
    "        clf: Model object\n",
    "        \n",
    "        X_train: Training data matrix\n",
    "\n",
    "        y_train: Expected model output vector\n",
    "    \n",
    "    OUTPUT:\n",
    "        clf_accuracy: Model accuracy\n",
    "        \n",
    "        clf_f1_score: Model F1-score\"\"\"\n",
    "    class_name = re.sub(\"[<>']\", '', str(clf.__class__))\n",
    "    class_name = class_name.split(' ')[1]\n",
    "    class_name = class_name.split('.')[-1]\n",
    "\n",
    "    y_pred_rf = clf.predict(X_train)\n",
    "\n",
    "    clf_accuracy = accuracy_score(y_train, y_pred_rf)\n",
    "    clf_f1_score = f1_score(y_train, y_pred_rf)\n",
    "    \n",
    "    print(\"%s model accuracy: %.3f\" % (class_name, clf_accuracy))\n",
    "    print(\"%s model f1-score: %.3f\" % (class_name, clf_f1_score))\n",
    "    \n",
    "    return clf_accuracy, clf_f1_score"
   ]
  },
  {
   "cell_type": "code",
   "execution_count": 126,
   "metadata": {},
   "outputs": [
    {
     "name": "stdout",
     "output_type": "stream",
     "text": [
      "LogisticRegression model accuracy: 1.000\n",
      "LogisticRegression model f1-score: 1.000\n"
     ]
    },
    {
     "data": {
      "text/plain": [
       "(1.0, 1.0)"
      ]
     },
     "execution_count": 126,
     "metadata": {},
     "output_type": "execute_result"
    }
   ],
   "source": [
    "evaluate_model_performance(lr_random.best_estimator_,\n",
    "                           X_train,\n",
    "                           y_train)"
   ]
  },
  {
   "cell_type": "code",
   "execution_count": 127,
   "metadata": {},
   "outputs": [
    {
     "name": "stdout",
     "output_type": "stream",
     "text": [
      "Fitting 3 folds for each of 100 candidates, totalling 300 fits\n",
      "[CV] n_estimators=300, min_samples_split=5, min_samples_leaf=2, max_features=auto, max_depth=8 \n",
      "[CV] n_estimators=300, min_samples_split=5, min_samples_leaf=2, max_features=auto, max_depth=8 \n",
      "[CV] n_estimators=300, min_samples_split=5, min_samples_leaf=2, max_features=auto, max_depth=8 \n",
      "[CV]  n_estimators=300, min_samples_split=5, min_samples_leaf=2, max_features=auto, max_depth=8, total=  27.3s\n",
      "[CV] n_estimators=300, min_samples_split=5, min_samples_leaf=4, max_features=auto, max_depth=10 \n",
      "[CV]  n_estimators=300, min_samples_split=5, min_samples_leaf=2, max_features=auto, max_depth=8, total=  27.5s\n",
      "[CV] n_estimators=300, min_samples_split=5, min_samples_leaf=4, max_features=auto, max_depth=10 \n",
      "[CV]  n_estimators=300, min_samples_split=5, min_samples_leaf=2, max_features=auto, max_depth=8, total=  27.6s\n",
      "[CV] n_estimators=300, min_samples_split=5, min_samples_leaf=4, max_features=auto, max_depth=10 \n",
      "[CV]  n_estimators=300, min_samples_split=5, min_samples_leaf=4, max_features=auto, max_depth=10, total=  27.5s\n",
      "[CV] n_estimators=30, min_samples_split=5, min_samples_leaf=2, max_features=sqrt, max_depth=6 \n",
      "[CV]  n_estimators=300, min_samples_split=5, min_samples_leaf=4, max_features=auto, max_depth=10, total=  28.1s\n",
      "[CV] n_estimators=30, min_samples_split=5, min_samples_leaf=2, max_features=sqrt, max_depth=6 \n",
      "[CV]  n_estimators=300, min_samples_split=5, min_samples_leaf=4, max_features=auto, max_depth=10, total=  28.0s\n",
      "[CV] n_estimators=30, min_samples_split=5, min_samples_leaf=2, max_features=sqrt, max_depth=6 \n",
      "[CV]  n_estimators=30, min_samples_split=5, min_samples_leaf=2, max_features=sqrt, max_depth=6, total=   3.0s\n",
      "[CV] n_estimators=50, min_samples_split=5, min_samples_leaf=4, max_features=sqrt, max_depth=5 \n",
      "[CV]  n_estimators=30, min_samples_split=5, min_samples_leaf=2, max_features=sqrt, max_depth=6, total=   2.9s\n",
      "[CV] n_estimators=50, min_samples_split=5, min_samples_leaf=4, max_features=sqrt, max_depth=5 \n",
      "[CV]  n_estimators=30, min_samples_split=5, min_samples_leaf=2, max_features=sqrt, max_depth=6, total=   2.9s\n",
      "[CV] n_estimators=50, min_samples_split=5, min_samples_leaf=4, max_features=sqrt, max_depth=5 \n",
      "[CV]  n_estimators=50, min_samples_split=5, min_samples_leaf=4, max_features=sqrt, max_depth=5, total=   4.4s\n",
      "[CV] n_estimators=150, min_samples_split=10, min_samples_leaf=1, max_features=auto, max_depth=3 \n",
      "[CV]  n_estimators=50, min_samples_split=5, min_samples_leaf=4, max_features=sqrt, max_depth=5, total=   4.4s\n",
      "[CV] n_estimators=150, min_samples_split=10, min_samples_leaf=1, max_features=auto, max_depth=3 \n",
      "[CV]  n_estimators=50, min_samples_split=5, min_samples_leaf=4, max_features=sqrt, max_depth=5, total=   4.3s\n",
      "[CV] n_estimators=150, min_samples_split=10, min_samples_leaf=1, max_features=auto, max_depth=3 \n",
      "[CV]  n_estimators=150, min_samples_split=10, min_samples_leaf=1, max_features=auto, max_depth=3, total=  11.9s\n",
      "[CV] n_estimators=30, min_samples_split=10, min_samples_leaf=2, max_features=sqrt, max_depth=4 \n",
      "[CV]  n_estimators=150, min_samples_split=10, min_samples_leaf=1, max_features=auto, max_depth=3, total=  12.1s\n",
      "[CV] n_estimators=30, min_samples_split=10, min_samples_leaf=2, max_features=sqrt, max_depth=4 \n",
      "[CV]  n_estimators=150, min_samples_split=10, min_samples_leaf=1, max_features=auto, max_depth=3, total=  11.8s\n",
      "[CV] n_estimators=30, min_samples_split=10, min_samples_leaf=2, max_features=sqrt, max_depth=4 \n",
      "[CV]  n_estimators=30, min_samples_split=10, min_samples_leaf=2, max_features=sqrt, max_depth=4, total=   2.6s\n",
      "[CV] n_estimators=10, min_samples_split=10, min_samples_leaf=4, max_features=auto, max_depth=10 \n",
      "[CV]  n_estimators=30, min_samples_split=10, min_samples_leaf=2, max_features=sqrt, max_depth=4, total=   2.6s\n",
      "[CV] n_estimators=10, min_samples_split=10, min_samples_leaf=4, max_features=auto, max_depth=10 \n",
      "[CV]  n_estimators=30, min_samples_split=10, min_samples_leaf=2, max_features=sqrt, max_depth=4, total=   2.6s\n",
      "[CV] n_estimators=10, min_samples_split=10, min_samples_leaf=4, max_features=auto, max_depth=10 \n",
      "[CV]  n_estimators=10, min_samples_split=10, min_samples_leaf=4, max_features=auto, max_depth=10, total=   1.1s\n",
      "[CV] n_estimators=150, min_samples_split=2, min_samples_leaf=1, max_features=sqrt, max_depth=None \n",
      "[CV]  n_estimators=10, min_samples_split=10, min_samples_leaf=4, max_features=auto, max_depth=10, total=   1.0s\n",
      "[CV] n_estimators=150, min_samples_split=2, min_samples_leaf=1, max_features=sqrt, max_depth=None \n",
      "[CV]  n_estimators=10, min_samples_split=10, min_samples_leaf=4, max_features=auto, max_depth=10, total=   1.1s\n",
      "[CV] n_estimators=150, min_samples_split=2, min_samples_leaf=1, max_features=sqrt, max_depth=None \n",
      "[CV]  n_estimators=150, min_samples_split=2, min_samples_leaf=1, max_features=sqrt, max_depth=None, total=  14.6s\n",
      "[CV] n_estimators=250, min_samples_split=2, min_samples_leaf=1, max_features=auto, max_depth=10 \n",
      "[CV]  n_estimators=150, min_samples_split=2, min_samples_leaf=1, max_features=sqrt, max_depth=None, total=  14.6s\n",
      "[CV] n_estimators=250, min_samples_split=2, min_samples_leaf=1, max_features=auto, max_depth=10 \n",
      "[CV]  n_estimators=150, min_samples_split=2, min_samples_leaf=1, max_features=sqrt, max_depth=None, total=  14.8s\n",
      "[CV] n_estimators=250, min_samples_split=2, min_samples_leaf=1, max_features=auto, max_depth=10 \n",
      "[CV]  n_estimators=250, min_samples_split=2, min_samples_leaf=1, max_features=auto, max_depth=10, total=  23.4s\n",
      "[CV] n_estimators=10, min_samples_split=2, min_samples_leaf=2, max_features=auto, max_depth=10 \n",
      "[CV]  n_estimators=250, min_samples_split=2, min_samples_leaf=1, max_features=auto, max_depth=10, total=  23.3s\n",
      "[CV] n_estimators=10, min_samples_split=2, min_samples_leaf=2, max_features=auto, max_depth=10 \n",
      "[CV]  n_estimators=10, min_samples_split=2, min_samples_leaf=2, max_features=auto, max_depth=10, total=   1.1s\n",
      "[CV] n_estimators=10, min_samples_split=2, min_samples_leaf=2, max_features=auto, max_depth=10 \n",
      "[CV]  n_estimators=250, min_samples_split=2, min_samples_leaf=1, max_features=auto, max_depth=10, total=  24.0s\n",
      "[CV] n_estimators=30, min_samples_split=2, min_samples_leaf=4, max_features=auto, max_depth=10 \n",
      "[CV]  n_estimators=10, min_samples_split=2, min_samples_leaf=2, max_features=auto, max_depth=10, total=   1.1s\n",
      "[CV] n_estimators=30, min_samples_split=2, min_samples_leaf=4, max_features=auto, max_depth=10 \n",
      "[CV]  n_estimators=10, min_samples_split=2, min_samples_leaf=2, max_features=auto, max_depth=10, total=   1.1s\n",
      "[CV] n_estimators=30, min_samples_split=2, min_samples_leaf=4, max_features=auto, max_depth=10 \n",
      "[CV]  n_estimators=30, min_samples_split=2, min_samples_leaf=4, max_features=auto, max_depth=10, total=   2.8s\n",
      "[CV] n_estimators=300, min_samples_split=10, min_samples_leaf=4, max_features=auto, max_depth=7 \n",
      "[CV]  n_estimators=30, min_samples_split=2, min_samples_leaf=4, max_features=auto, max_depth=10, total=   2.7s\n",
      "[CV] n_estimators=300, min_samples_split=10, min_samples_leaf=4, max_features=auto, max_depth=7 \n",
      "[CV]  n_estimators=30, min_samples_split=2, min_samples_leaf=4, max_features=auto, max_depth=10, total=   2.8s\n",
      "[CV] n_estimators=300, min_samples_split=10, min_samples_leaf=4, max_features=auto, max_depth=7 \n",
      "[CV]  n_estimators=300, min_samples_split=10, min_samples_leaf=4, max_features=auto, max_depth=7, total=  26.9s\n",
      "[CV] n_estimators=30, min_samples_split=10, min_samples_leaf=1, max_features=auto, max_depth=4 \n",
      "[CV]  n_estimators=300, min_samples_split=10, min_samples_leaf=4, max_features=auto, max_depth=7, total=  27.5s\n",
      "[CV] n_estimators=30, min_samples_split=10, min_samples_leaf=1, max_features=auto, max_depth=4 \n"
     ]
    },
    {
     "name": "stderr",
     "output_type": "stream",
     "text": [
      "[Parallel(n_jobs=3)]: Done  35 tasks      | elapsed:  2.8min\n"
     ]
    },
    {
     "name": "stdout",
     "output_type": "stream",
     "text": [
      "[CV]  n_estimators=300, min_samples_split=10, min_samples_leaf=4, max_features=auto, max_depth=7, total=  27.2s\n",
      "[CV] n_estimators=30, min_samples_split=10, min_samples_leaf=1, max_features=auto, max_depth=4 \n",
      "[CV]  n_estimators=30, min_samples_split=10, min_samples_leaf=1, max_features=auto, max_depth=4, total=   2.7s\n",
      "[CV] n_estimators=50, min_samples_split=5, min_samples_leaf=2, max_features=sqrt, max_depth=10 \n",
      "[CV]  n_estimators=30, min_samples_split=10, min_samples_leaf=1, max_features=auto, max_depth=4, total=   2.8s\n",
      "[CV] n_estimators=50, min_samples_split=5, min_samples_leaf=2, max_features=sqrt, max_depth=10 \n",
      "[CV]  n_estimators=30, min_samples_split=10, min_samples_leaf=1, max_features=auto, max_depth=4, total=   2.8s\n",
      "[CV] n_estimators=50, min_samples_split=5, min_samples_leaf=2, max_features=sqrt, max_depth=10 \n",
      "[CV]  n_estimators=50, min_samples_split=5, min_samples_leaf=2, max_features=sqrt, max_depth=10, total=   4.7s\n",
      "[CV] n_estimators=300, min_samples_split=2, min_samples_leaf=1, max_features=sqrt, max_depth=5 \n",
      "[CV]  n_estimators=50, min_samples_split=5, min_samples_leaf=2, max_features=sqrt, max_depth=10, total=   4.9s\n",
      "[CV] n_estimators=300, min_samples_split=2, min_samples_leaf=1, max_features=sqrt, max_depth=5 \n",
      "[CV]  n_estimators=50, min_samples_split=5, min_samples_leaf=2, max_features=sqrt, max_depth=10, total=   4.8s\n",
      "[CV] n_estimators=300, min_samples_split=2, min_samples_leaf=1, max_features=sqrt, max_depth=5 \n",
      "[CV]  n_estimators=300, min_samples_split=2, min_samples_leaf=1, max_features=sqrt, max_depth=5, total=  25.8s\n",
      "[CV] n_estimators=150, min_samples_split=10, min_samples_leaf=1, max_features=sqrt, max_depth=6 \n",
      "[CV]  n_estimators=300, min_samples_split=2, min_samples_leaf=1, max_features=sqrt, max_depth=5, total=  26.4s\n",
      "[CV] n_estimators=150, min_samples_split=10, min_samples_leaf=1, max_features=sqrt, max_depth=6 \n",
      "[CV]  n_estimators=300, min_samples_split=2, min_samples_leaf=1, max_features=sqrt, max_depth=5, total=  26.1s\n",
      "[CV] n_estimators=150, min_samples_split=10, min_samples_leaf=1, max_features=sqrt, max_depth=6 \n",
      "[CV]  n_estimators=150, min_samples_split=10, min_samples_leaf=1, max_features=sqrt, max_depth=6, total=  13.6s\n",
      "[CV] n_estimators=100, min_samples_split=2, min_samples_leaf=4, max_features=sqrt, max_depth=9 \n",
      "[CV]  n_estimators=150, min_samples_split=10, min_samples_leaf=1, max_features=sqrt, max_depth=6, total=  13.5s\n",
      "[CV] n_estimators=100, min_samples_split=2, min_samples_leaf=4, max_features=sqrt, max_depth=9 \n",
      "[CV]  n_estimators=150, min_samples_split=10, min_samples_leaf=1, max_features=sqrt, max_depth=6, total=  13.9s\n",
      "[CV] n_estimators=100, min_samples_split=2, min_samples_leaf=4, max_features=sqrt, max_depth=9 \n",
      "[CV]  n_estimators=100, min_samples_split=2, min_samples_leaf=4, max_features=sqrt, max_depth=9, total=  10.2s\n",
      "[CV] n_estimators=100, min_samples_split=2, min_samples_leaf=1, max_features=auto, max_depth=None \n",
      "[CV]  n_estimators=100, min_samples_split=2, min_samples_leaf=4, max_features=sqrt, max_depth=9, total=  10.3s\n",
      "[CV] n_estimators=100, min_samples_split=2, min_samples_leaf=1, max_features=auto, max_depth=None \n",
      "[CV]  n_estimators=100, min_samples_split=2, min_samples_leaf=4, max_features=sqrt, max_depth=9, total=  10.5s\n",
      "[CV] n_estimators=100, min_samples_split=2, min_samples_leaf=1, max_features=auto, max_depth=None \n",
      "[CV]  n_estimators=100, min_samples_split=2, min_samples_leaf=1, max_features=auto, max_depth=None, total=   9.9s\n",
      "[CV] n_estimators=150, min_samples_split=5, min_samples_leaf=2, max_features=sqrt, max_depth=4 \n",
      "[CV]  n_estimators=100, min_samples_split=2, min_samples_leaf=1, max_features=auto, max_depth=None, total=  10.4s\n",
      "[CV] n_estimators=150, min_samples_split=5, min_samples_leaf=2, max_features=sqrt, max_depth=4 \n",
      "[CV]  n_estimators=100, min_samples_split=2, min_samples_leaf=1, max_features=auto, max_depth=None, total=  10.2s\n",
      "[CV] n_estimators=150, min_samples_split=5, min_samples_leaf=2, max_features=sqrt, max_depth=4 \n",
      "[CV]  n_estimators=150, min_samples_split=5, min_samples_leaf=2, max_features=sqrt, max_depth=4, total=  12.4s\n",
      "[CV] n_estimators=30, min_samples_split=10, min_samples_leaf=4, max_features=auto, max_depth=5 \n",
      "[CV]  n_estimators=150, min_samples_split=5, min_samples_leaf=2, max_features=sqrt, max_depth=4, total=  12.5s\n",
      "[CV] n_estimators=30, min_samples_split=10, min_samples_leaf=4, max_features=auto, max_depth=5 \n",
      "[CV]  n_estimators=150, min_samples_split=5, min_samples_leaf=2, max_features=sqrt, max_depth=4, total=  12.6s\n",
      "[CV] n_estimators=30, min_samples_split=10, min_samples_leaf=4, max_features=auto, max_depth=5 \n",
      "[CV]  n_estimators=30, min_samples_split=10, min_samples_leaf=4, max_features=auto, max_depth=5, total=   2.6s\n",
      "[CV] n_estimators=30, min_samples_split=2, min_samples_leaf=2, max_features=auto, max_depth=8 \n",
      "[CV]  n_estimators=30, min_samples_split=10, min_samples_leaf=4, max_features=auto, max_depth=5, total=   2.9s\n",
      "[CV] n_estimators=30, min_samples_split=2, min_samples_leaf=2, max_features=auto, max_depth=8 \n",
      "[CV]  n_estimators=30, min_samples_split=10, min_samples_leaf=4, max_features=auto, max_depth=5, total=   2.9s\n",
      "[CV] n_estimators=30, min_samples_split=2, min_samples_leaf=2, max_features=auto, max_depth=8 \n",
      "[CV]  n_estimators=30, min_samples_split=2, min_samples_leaf=2, max_features=auto, max_depth=8, total=   3.1s\n",
      "[CV] n_estimators=250, min_samples_split=5, min_samples_leaf=1, max_features=sqrt, max_depth=5 \n",
      "[CV]  n_estimators=30, min_samples_split=2, min_samples_leaf=2, max_features=auto, max_depth=8, total=   2.7s\n",
      "[CV] n_estimators=250, min_samples_split=5, min_samples_leaf=1, max_features=sqrt, max_depth=5 \n",
      "[CV]  n_estimators=30, min_samples_split=2, min_samples_leaf=2, max_features=auto, max_depth=8, total=   2.7s\n",
      "[CV] n_estimators=250, min_samples_split=5, min_samples_leaf=1, max_features=sqrt, max_depth=5 \n",
      "[CV]  n_estimators=250, min_samples_split=5, min_samples_leaf=1, max_features=sqrt, max_depth=5, total=  21.4s\n",
      "[CV] n_estimators=300, min_samples_split=10, min_samples_leaf=2, max_features=auto, max_depth=None \n",
      "[CV]  n_estimators=250, min_samples_split=5, min_samples_leaf=1, max_features=sqrt, max_depth=5, total=  21.6s\n",
      "[CV] n_estimators=300, min_samples_split=10, min_samples_leaf=2, max_features=auto, max_depth=None \n",
      "[CV]  n_estimators=250, min_samples_split=5, min_samples_leaf=1, max_features=sqrt, max_depth=5, total=  21.9s\n",
      "[CV] n_estimators=300, min_samples_split=10, min_samples_leaf=2, max_features=auto, max_depth=None \n",
      "[CV]  n_estimators=300, min_samples_split=10, min_samples_leaf=2, max_features=auto, max_depth=None, total=  28.4s\n",
      "[CV] n_estimators=300, min_samples_split=2, min_samples_leaf=1, max_features=auto, max_depth=7 \n",
      "[CV]  n_estimators=300, min_samples_split=10, min_samples_leaf=2, max_features=auto, max_depth=None, total=  29.1s\n",
      "[CV] n_estimators=300, min_samples_split=2, min_samples_leaf=1, max_features=auto, max_depth=7 \n",
      "[CV]  n_estimators=300, min_samples_split=10, min_samples_leaf=2, max_features=auto, max_depth=None, total=  28.8s\n",
      "[CV] n_estimators=300, min_samples_split=2, min_samples_leaf=1, max_features=auto, max_depth=7 \n",
      "[CV]  n_estimators=300, min_samples_split=2, min_samples_leaf=1, max_features=auto, max_depth=7, total=  27.5s\n",
      "[CV] n_estimators=200, min_samples_split=10, min_samples_leaf=4, max_features=sqrt, max_depth=4 \n",
      "[CV]  n_estimators=300, min_samples_split=2, min_samples_leaf=1, max_features=auto, max_depth=7, total=  27.9s\n",
      "[CV] n_estimators=200, min_samples_split=10, min_samples_leaf=4, max_features=sqrt, max_depth=4 \n",
      "[CV]  n_estimators=300, min_samples_split=2, min_samples_leaf=1, max_features=auto, max_depth=7, total=  27.7s\n",
      "[CV] n_estimators=200, min_samples_split=10, min_samples_leaf=4, max_features=sqrt, max_depth=4 \n",
      "[CV]  n_estimators=200, min_samples_split=10, min_samples_leaf=4, max_features=sqrt, max_depth=4, total=  16.6s\n",
      "[CV] n_estimators=300, min_samples_split=2, min_samples_leaf=1, max_features=auto, max_depth=6 \n",
      "[CV]  n_estimators=200, min_samples_split=10, min_samples_leaf=4, max_features=sqrt, max_depth=4, total=  16.8s\n",
      "[CV] n_estimators=300, min_samples_split=2, min_samples_leaf=1, max_features=auto, max_depth=6 \n",
      "[CV]  n_estimators=200, min_samples_split=10, min_samples_leaf=4, max_features=sqrt, max_depth=4, total=  16.7s\n",
      "[CV] n_estimators=300, min_samples_split=2, min_samples_leaf=1, max_features=auto, max_depth=6 \n",
      "[CV]  n_estimators=300, min_samples_split=2, min_samples_leaf=1, max_features=auto, max_depth=6, total=  26.5s\n",
      "[CV] n_estimators=250, min_samples_split=2, min_samples_leaf=1, max_features=sqrt, max_depth=8 \n",
      "[CV]  n_estimators=300, min_samples_split=2, min_samples_leaf=1, max_features=auto, max_depth=6, total=  26.6s\n",
      "[CV] n_estimators=250, min_samples_split=2, min_samples_leaf=1, max_features=sqrt, max_depth=8 \n",
      "[CV]  n_estimators=300, min_samples_split=2, min_samples_leaf=1, max_features=auto, max_depth=6, total=  26.8s\n",
      "[CV] n_estimators=250, min_samples_split=2, min_samples_leaf=1, max_features=sqrt, max_depth=8 \n",
      "[CV]  n_estimators=250, min_samples_split=2, min_samples_leaf=1, max_features=sqrt, max_depth=8, total=  23.0s\n",
      "[CV] n_estimators=100, min_samples_split=5, min_samples_leaf=2, max_features=auto, max_depth=4 \n",
      "[CV]  n_estimators=250, min_samples_split=2, min_samples_leaf=1, max_features=sqrt, max_depth=8, total=  23.2s\n",
      "[CV] n_estimators=100, min_samples_split=5, min_samples_leaf=2, max_features=auto, max_depth=4 \n",
      "[CV]  n_estimators=250, min_samples_split=2, min_samples_leaf=1, max_features=sqrt, max_depth=8, total=  23.4s\n",
      "[CV] n_estimators=100, min_samples_split=5, min_samples_leaf=2, max_features=auto, max_depth=4 \n",
      "[CV]  n_estimators=100, min_samples_split=5, min_samples_leaf=2, max_features=auto, max_depth=4, total=   8.7s\n",
      "[CV] n_estimators=50, min_samples_split=10, min_samples_leaf=1, max_features=sqrt, max_depth=3 \n",
      "[CV]  n_estimators=50, min_samples_split=10, min_samples_leaf=1, max_features=sqrt, max_depth=3, total=   4.0s\n",
      "[CV] n_estimators=50, min_samples_split=10, min_samples_leaf=1, max_features=sqrt, max_depth=3 \n",
      "[CV]  n_estimators=100, min_samples_split=5, min_samples_leaf=2, max_features=auto, max_depth=4, total=   8.8s\n",
      "[CV] n_estimators=50, min_samples_split=10, min_samples_leaf=1, max_features=sqrt, max_depth=3 \n",
      "[CV]  n_estimators=100, min_samples_split=5, min_samples_leaf=2, max_features=auto, max_depth=4, total=   8.9s\n",
      "[CV] n_estimators=150, min_samples_split=5, min_samples_leaf=4, max_features=sqrt, max_depth=3 \n",
      "[CV]  n_estimators=50, min_samples_split=10, min_samples_leaf=1, max_features=sqrt, max_depth=3, total=   4.4s\n",
      "[CV] n_estimators=150, min_samples_split=5, min_samples_leaf=4, max_features=sqrt, max_depth=3 \n",
      "[CV]  n_estimators=50, min_samples_split=10, min_samples_leaf=1, max_features=sqrt, max_depth=3, total=   4.4s\n",
      "[CV] n_estimators=150, min_samples_split=5, min_samples_leaf=4, max_features=sqrt, max_depth=3 \n",
      "[CV]  n_estimators=150, min_samples_split=5, min_samples_leaf=4, max_features=sqrt, max_depth=3, total=  12.4s\n",
      "[CV] n_estimators=250, min_samples_split=10, min_samples_leaf=2, max_features=auto, max_depth=7 \n",
      "[CV]  n_estimators=150, min_samples_split=5, min_samples_leaf=4, max_features=sqrt, max_depth=3, total=  11.8s\n",
      "[CV] n_estimators=250, min_samples_split=10, min_samples_leaf=2, max_features=auto, max_depth=7 \n",
      "[CV]  n_estimators=150, min_samples_split=5, min_samples_leaf=4, max_features=sqrt, max_depth=3, total=  11.8s\n",
      "[CV] n_estimators=250, min_samples_split=10, min_samples_leaf=2, max_features=auto, max_depth=7 \n",
      "[CV]  n_estimators=250, min_samples_split=10, min_samples_leaf=2, max_features=auto, max_depth=7, total=  23.6s\n",
      "[CV] n_estimators=30, min_samples_split=10, min_samples_leaf=2, max_features=sqrt, max_depth=7 \n",
      "[CV]  n_estimators=30, min_samples_split=10, min_samples_leaf=2, max_features=sqrt, max_depth=7, total=   2.8s\n",
      "[CV] n_estimators=30, min_samples_split=10, min_samples_leaf=2, max_features=sqrt, max_depth=7 \n",
      "[CV]  n_estimators=250, min_samples_split=10, min_samples_leaf=2, max_features=auto, max_depth=7, total=  23.3s\n",
      "[CV] n_estimators=30, min_samples_split=10, min_samples_leaf=2, max_features=sqrt, max_depth=7 \n",
      "[CV]  n_estimators=250, min_samples_split=10, min_samples_leaf=2, max_features=auto, max_depth=7, total=  23.4s\n",
      "[CV] n_estimators=100, min_samples_split=10, min_samples_leaf=2, max_features=auto, max_depth=None \n",
      "[CV]  n_estimators=30, min_samples_split=10, min_samples_leaf=2, max_features=sqrt, max_depth=7, total=   2.8s\n",
      "[CV] n_estimators=100, min_samples_split=10, min_samples_leaf=2, max_features=auto, max_depth=None \n",
      "[CV]  n_estimators=30, min_samples_split=10, min_samples_leaf=2, max_features=sqrt, max_depth=7, total=   2.8s\n",
      "[CV] n_estimators=100, min_samples_split=10, min_samples_leaf=2, max_features=auto, max_depth=None \n",
      "[CV]  n_estimators=100, min_samples_split=10, min_samples_leaf=2, max_features=auto, max_depth=None, total=  10.0s\n",
      "[CV] n_estimators=10, min_samples_split=10, min_samples_leaf=4, max_features=auto, max_depth=7 \n",
      "[CV]  n_estimators=10, min_samples_split=10, min_samples_leaf=4, max_features=auto, max_depth=7, total=   1.1s\n",
      "[CV] n_estimators=10, min_samples_split=10, min_samples_leaf=4, max_features=auto, max_depth=7 \n",
      "[CV]  n_estimators=10, min_samples_split=10, min_samples_leaf=4, max_features=auto, max_depth=7, total=   1.1s\n",
      "[CV] n_estimators=10, min_samples_split=10, min_samples_leaf=4, max_features=auto, max_depth=7 \n",
      "[CV]  n_estimators=100, min_samples_split=10, min_samples_leaf=2, max_features=auto, max_depth=None, total=  10.4s\n",
      "[CV] n_estimators=100, min_samples_split=2, min_samples_leaf=1, max_features=auto, max_depth=5 \n",
      "[CV]  n_estimators=100, min_samples_split=10, min_samples_leaf=2, max_features=auto, max_depth=None, total=  10.1s\n",
      "[CV] n_estimators=100, min_samples_split=2, min_samples_leaf=1, max_features=auto, max_depth=5 \n",
      "[CV]  n_estimators=10, min_samples_split=10, min_samples_leaf=4, max_features=auto, max_depth=7, total=   1.1s\n",
      "[CV] n_estimators=100, min_samples_split=2, min_samples_leaf=1, max_features=auto, max_depth=5 \n",
      "[CV]  n_estimators=100, min_samples_split=2, min_samples_leaf=1, max_features=auto, max_depth=5, total=   9.3s\n",
      "[CV] n_estimators=30, min_samples_split=2, min_samples_leaf=2, max_features=auto, max_depth=5 \n",
      "[CV]  n_estimators=100, min_samples_split=2, min_samples_leaf=1, max_features=auto, max_depth=5, total=   9.5s\n",
      "[CV] n_estimators=30, min_samples_split=2, min_samples_leaf=2, max_features=auto, max_depth=5 \n",
      "[CV]  n_estimators=100, min_samples_split=2, min_samples_leaf=1, max_features=auto, max_depth=5, total=   9.3s\n",
      "[CV] n_estimators=30, min_samples_split=2, min_samples_leaf=2, max_features=auto, max_depth=5 \n",
      "[CV]  n_estimators=30, min_samples_split=2, min_samples_leaf=2, max_features=auto, max_depth=5, total=   2.9s\n",
      "[CV] n_estimators=100, min_samples_split=2, min_samples_leaf=4, max_features=sqrt, max_depth=7 \n",
      "[CV]  n_estimators=30, min_samples_split=2, min_samples_leaf=2, max_features=auto, max_depth=5, total=   2.9s\n",
      "[CV] n_estimators=100, min_samples_split=2, min_samples_leaf=4, max_features=sqrt, max_depth=7 \n",
      "[CV]  n_estimators=30, min_samples_split=2, min_samples_leaf=2, max_features=auto, max_depth=5, total=   2.7s\n",
      "[CV] n_estimators=100, min_samples_split=2, min_samples_leaf=4, max_features=sqrt, max_depth=7 \n",
      "[CV]  n_estimators=100, min_samples_split=2, min_samples_leaf=4, max_features=sqrt, max_depth=7, total=   9.7s\n",
      "[CV] n_estimators=10, min_samples_split=5, min_samples_leaf=2, max_features=auto, max_depth=3 \n",
      "[CV]  n_estimators=100, min_samples_split=2, min_samples_leaf=4, max_features=sqrt, max_depth=7, total=  10.0s\n",
      "[CV] n_estimators=10, min_samples_split=5, min_samples_leaf=2, max_features=auto, max_depth=3 \n",
      "[CV]  n_estimators=100, min_samples_split=2, min_samples_leaf=4, max_features=sqrt, max_depth=7, total=   9.6s\n",
      "[CV] n_estimators=10, min_samples_split=5, min_samples_leaf=2, max_features=auto, max_depth=3 \n",
      "[CV]  n_estimators=10, min_samples_split=5, min_samples_leaf=2, max_features=auto, max_depth=3, total=   1.0s\n",
      "[CV] n_estimators=10, min_samples_split=2, min_samples_leaf=1, max_features=sqrt, max_depth=3 \n",
      "[CV]  n_estimators=10, min_samples_split=5, min_samples_leaf=2, max_features=auto, max_depth=3, total=   1.0s\n",
      "[CV] n_estimators=10, min_samples_split=2, min_samples_leaf=1, max_features=sqrt, max_depth=3 \n",
      "[CV]  n_estimators=10, min_samples_split=5, min_samples_leaf=2, max_features=auto, max_depth=3, total=   1.0s\n",
      "[CV] n_estimators=10, min_samples_split=2, min_samples_leaf=1, max_features=sqrt, max_depth=3 \n",
      "[CV]  n_estimators=10, min_samples_split=2, min_samples_leaf=1, max_features=sqrt, max_depth=3, total=   0.9s\n",
      "[CV] n_estimators=100, min_samples_split=2, min_samples_leaf=2, max_features=sqrt, max_depth=3 \n",
      "[CV]  n_estimators=10, min_samples_split=2, min_samples_leaf=1, max_features=sqrt, max_depth=3, total=   1.0s\n",
      "[CV] n_estimators=100, min_samples_split=2, min_samples_leaf=2, max_features=sqrt, max_depth=3 \n",
      "[CV]  n_estimators=10, min_samples_split=2, min_samples_leaf=1, max_features=sqrt, max_depth=3, total=   1.0s\n",
      "[CV] n_estimators=100, min_samples_split=2, min_samples_leaf=2, max_features=sqrt, max_depth=3 \n",
      "[CV]  n_estimators=100, min_samples_split=2, min_samples_leaf=2, max_features=sqrt, max_depth=3, total=   8.0s\n",
      "[CV] n_estimators=200, min_samples_split=10, min_samples_leaf=2, max_features=auto, max_depth=3 \n",
      "[CV]  n_estimators=100, min_samples_split=2, min_samples_leaf=2, max_features=sqrt, max_depth=3, total=   8.2s\n",
      "[CV] n_estimators=200, min_samples_split=10, min_samples_leaf=2, max_features=auto, max_depth=3 \n",
      "[CV]  n_estimators=100, min_samples_split=2, min_samples_leaf=2, max_features=sqrt, max_depth=3, total=   8.0s\n",
      "[CV] n_estimators=200, min_samples_split=10, min_samples_leaf=2, max_features=auto, max_depth=3 \n",
      "[CV]  n_estimators=200, min_samples_split=10, min_samples_leaf=2, max_features=auto, max_depth=3, total=  15.5s\n",
      "[CV] n_estimators=300, min_samples_split=10, min_samples_leaf=1, max_features=sqrt, max_depth=10 \n",
      "[CV]  n_estimators=200, min_samples_split=10, min_samples_leaf=2, max_features=auto, max_depth=3, total=  15.6s\n",
      "[CV] n_estimators=300, min_samples_split=10, min_samples_leaf=1, max_features=sqrt, max_depth=10 \n",
      "[CV]  n_estimators=200, min_samples_split=10, min_samples_leaf=2, max_features=auto, max_depth=3, total=  15.8s\n",
      "[CV] n_estimators=300, min_samples_split=10, min_samples_leaf=1, max_features=sqrt, max_depth=10 \n",
      "[CV]  n_estimators=300, min_samples_split=10, min_samples_leaf=1, max_features=sqrt, max_depth=10, total=  28.2s\n",
      "[CV] n_estimators=30, min_samples_split=5, min_samples_leaf=1, max_features=sqrt, max_depth=9 \n",
      "[CV]  n_estimators=300, min_samples_split=10, min_samples_leaf=1, max_features=sqrt, max_depth=10, total=  28.3s\n",
      "[CV] n_estimators=30, min_samples_split=5, min_samples_leaf=1, max_features=sqrt, max_depth=9 \n",
      "[CV]  n_estimators=300, min_samples_split=10, min_samples_leaf=1, max_features=sqrt, max_depth=10, total=  28.8s\n",
      "[CV] n_estimators=30, min_samples_split=5, min_samples_leaf=1, max_features=sqrt, max_depth=9 \n",
      "[CV]  n_estimators=30, min_samples_split=5, min_samples_leaf=1, max_features=sqrt, max_depth=9, total=   2.8s\n",
      "[CV] n_estimators=250, min_samples_split=10, min_samples_leaf=4, max_features=sqrt, max_depth=3 \n",
      "[CV]  n_estimators=30, min_samples_split=5, min_samples_leaf=1, max_features=sqrt, max_depth=9, total=   2.8s\n",
      "[CV] n_estimators=250, min_samples_split=10, min_samples_leaf=4, max_features=sqrt, max_depth=3 \n",
      "[CV]  n_estimators=30, min_samples_split=5, min_samples_leaf=1, max_features=sqrt, max_depth=9, total=   2.9s\n",
      "[CV] n_estimators=250, min_samples_split=10, min_samples_leaf=4, max_features=sqrt, max_depth=3 \n",
      "[CV]  n_estimators=250, min_samples_split=10, min_samples_leaf=4, max_features=sqrt, max_depth=3, total=  19.4s\n",
      "[CV] n_estimators=10, min_samples_split=2, min_samples_leaf=1, max_features=auto, max_depth=3 \n",
      "[CV]  n_estimators=10, min_samples_split=2, min_samples_leaf=1, max_features=auto, max_depth=3, total=   0.8s\n",
      "[CV] n_estimators=10, min_samples_split=2, min_samples_leaf=1, max_features=auto, max_depth=3 \n",
      "[CV]  n_estimators=250, min_samples_split=10, min_samples_leaf=4, max_features=sqrt, max_depth=3, total=  19.6s\n",
      "[CV] n_estimators=10, min_samples_split=2, min_samples_leaf=1, max_features=auto, max_depth=3 \n",
      "[CV]  n_estimators=10, min_samples_split=2, min_samples_leaf=1, max_features=auto, max_depth=3, total=   0.9s\n",
      "[CV] n_estimators=10, min_samples_split=10, min_samples_leaf=4, max_features=auto, max_depth=8 \n",
      "[CV]  n_estimators=250, min_samples_split=10, min_samples_leaf=4, max_features=sqrt, max_depth=3, total=  19.8s\n",
      "[CV] n_estimators=10, min_samples_split=10, min_samples_leaf=4, max_features=auto, max_depth=8 \n",
      "[CV]  n_estimators=10, min_samples_split=2, min_samples_leaf=1, max_features=auto, max_depth=3, total=   0.9s\n",
      "[CV] n_estimators=10, min_samples_split=10, min_samples_leaf=4, max_features=auto, max_depth=8 \n",
      "[CV]  n_estimators=10, min_samples_split=10, min_samples_leaf=4, max_features=auto, max_depth=8, total=   1.1s\n",
      "[CV] n_estimators=150, min_samples_split=10, min_samples_leaf=4, max_features=sqrt, max_depth=4 \n",
      "[CV]  n_estimators=10, min_samples_split=10, min_samples_leaf=4, max_features=auto, max_depth=8, total=   1.0s\n",
      "[CV] n_estimators=150, min_samples_split=10, min_samples_leaf=4, max_features=sqrt, max_depth=4 \n",
      "[CV]  n_estimators=10, min_samples_split=10, min_samples_leaf=4, max_features=auto, max_depth=8, total=   1.1s\n",
      "[CV] n_estimators=150, min_samples_split=10, min_samples_leaf=4, max_features=sqrt, max_depth=4 \n",
      "[CV]  n_estimators=150, min_samples_split=10, min_samples_leaf=4, max_features=sqrt, max_depth=4, total=  12.3s\n",
      "[CV] n_estimators=200, min_samples_split=2, min_samples_leaf=4, max_features=auto, max_depth=9 \n",
      "[CV]  n_estimators=150, min_samples_split=10, min_samples_leaf=4, max_features=sqrt, max_depth=4, total=  12.3s\n",
      "[CV] n_estimators=200, min_samples_split=2, min_samples_leaf=4, max_features=auto, max_depth=9 \n",
      "[CV]  n_estimators=150, min_samples_split=10, min_samples_leaf=4, max_features=sqrt, max_depth=4, total=  12.6s\n",
      "[CV] n_estimators=200, min_samples_split=2, min_samples_leaf=4, max_features=auto, max_depth=9 \n",
      "[CV]  n_estimators=200, min_samples_split=2, min_samples_leaf=4, max_features=auto, max_depth=9, total=  19.4s\n",
      "[CV] n_estimators=100, min_samples_split=2, min_samples_leaf=4, max_features=auto, max_depth=5 \n",
      "[CV]  n_estimators=200, min_samples_split=2, min_samples_leaf=4, max_features=auto, max_depth=9, total=  19.7s\n",
      "[CV] n_estimators=100, min_samples_split=2, min_samples_leaf=4, max_features=auto, max_depth=5 \n",
      "[CV]  n_estimators=200, min_samples_split=2, min_samples_leaf=4, max_features=auto, max_depth=9, total=  19.7s\n",
      "[CV] n_estimators=100, min_samples_split=2, min_samples_leaf=4, max_features=auto, max_depth=5 \n",
      "[CV]  n_estimators=100, min_samples_split=2, min_samples_leaf=4, max_features=auto, max_depth=5, total=   9.2s\n",
      "[CV] n_estimators=100, min_samples_split=5, min_samples_leaf=2, max_features=auto, max_depth=6 \n",
      "[CV]  n_estimators=100, min_samples_split=2, min_samples_leaf=4, max_features=auto, max_depth=5, total=   9.3s\n",
      "[CV] n_estimators=100, min_samples_split=5, min_samples_leaf=2, max_features=auto, max_depth=6 \n",
      "[CV]  n_estimators=100, min_samples_split=2, min_samples_leaf=4, max_features=auto, max_depth=5, total=   9.3s\n",
      "[CV] n_estimators=100, min_samples_split=5, min_samples_leaf=2, max_features=auto, max_depth=6 \n",
      "[CV]  n_estimators=100, min_samples_split=5, min_samples_leaf=2, max_features=auto, max_depth=6, total=   9.6s\n",
      "[CV] n_estimators=10, min_samples_split=5, min_samples_leaf=4, max_features=sqrt, max_depth=5 \n",
      "[CV]  n_estimators=100, min_samples_split=5, min_samples_leaf=2, max_features=auto, max_depth=6, total=   9.5s\n",
      "[CV] n_estimators=10, min_samples_split=5, min_samples_leaf=4, max_features=sqrt, max_depth=5 \n",
      "[CV]  n_estimators=100, min_samples_split=5, min_samples_leaf=2, max_features=auto, max_depth=6, total=   9.6s\n",
      "[CV] n_estimators=10, min_samples_split=5, min_samples_leaf=4, max_features=sqrt, max_depth=5 \n",
      "[CV]  n_estimators=10, min_samples_split=5, min_samples_leaf=4, max_features=sqrt, max_depth=5, total=   1.0s\n",
      "[CV] n_estimators=200, min_samples_split=5, min_samples_leaf=1, max_features=sqrt, max_depth=None \n",
      "[CV]  n_estimators=10, min_samples_split=5, min_samples_leaf=4, max_features=sqrt, max_depth=5, total=   1.0s\n",
      "[CV] n_estimators=200, min_samples_split=5, min_samples_leaf=1, max_features=sqrt, max_depth=None \n",
      "[CV]  n_estimators=10, min_samples_split=5, min_samples_leaf=4, max_features=sqrt, max_depth=5, total=   1.0s\n",
      "[CV] n_estimators=200, min_samples_split=5, min_samples_leaf=1, max_features=sqrt, max_depth=None \n",
      "[CV]  n_estimators=200, min_samples_split=5, min_samples_leaf=1, max_features=sqrt, max_depth=None, total=  19.4s\n",
      "[CV] n_estimators=300, min_samples_split=10, min_samples_leaf=1, max_features=auto, max_depth=None \n",
      "[CV]  n_estimators=200, min_samples_split=5, min_samples_leaf=1, max_features=sqrt, max_depth=None, total=  19.6s\n",
      "[CV] n_estimators=300, min_samples_split=10, min_samples_leaf=1, max_features=auto, max_depth=None \n",
      "[CV]  n_estimators=200, min_samples_split=5, min_samples_leaf=1, max_features=sqrt, max_depth=None, total=  19.9s\n",
      "[CV] n_estimators=300, min_samples_split=10, min_samples_leaf=1, max_features=auto, max_depth=None \n"
     ]
    },
    {
     "name": "stderr",
     "output_type": "stream",
     "text": [
      "[Parallel(n_jobs=3)]: Done 156 tasks      | elapsed: 11.6min\n"
     ]
    },
    {
     "name": "stdout",
     "output_type": "stream",
     "text": [
      "[CV]  n_estimators=300, min_samples_split=10, min_samples_leaf=1, max_features=auto, max_depth=None, total=  28.5s\n",
      "[CV] n_estimators=100, min_samples_split=5, min_samples_leaf=2, max_features=auto, max_depth=10 \n",
      "[CV]  n_estimators=300, min_samples_split=10, min_samples_leaf=1, max_features=auto, max_depth=None, total=  29.0s\n",
      "[CV] n_estimators=100, min_samples_split=5, min_samples_leaf=2, max_features=auto, max_depth=10 \n",
      "[CV]  n_estimators=300, min_samples_split=10, min_samples_leaf=1, max_features=auto, max_depth=None, total=  29.5s\n",
      "[CV] n_estimators=100, min_samples_split=5, min_samples_leaf=2, max_features=auto, max_depth=10 \n",
      "[CV]  n_estimators=100, min_samples_split=5, min_samples_leaf=2, max_features=auto, max_depth=10, total=   9.7s\n",
      "[CV] n_estimators=300, min_samples_split=5, min_samples_leaf=4, max_features=auto, max_depth=9 \n",
      "[CV]  n_estimators=100, min_samples_split=5, min_samples_leaf=2, max_features=auto, max_depth=10, total=  10.0s\n",
      "[CV] n_estimators=300, min_samples_split=5, min_samples_leaf=4, max_features=auto, max_depth=9 \n",
      "[CV]  n_estimators=100, min_samples_split=5, min_samples_leaf=2, max_features=auto, max_depth=10, total=  10.0s\n",
      "[CV] n_estimators=300, min_samples_split=5, min_samples_leaf=4, max_features=auto, max_depth=9 \n",
      "[CV]  n_estimators=300, min_samples_split=5, min_samples_leaf=4, max_features=auto, max_depth=9, total=  27.9s\n",
      "[CV] n_estimators=30, min_samples_split=10, min_samples_leaf=1, max_features=auto, max_depth=None \n",
      "[CV]  n_estimators=300, min_samples_split=5, min_samples_leaf=4, max_features=auto, max_depth=9, total=  28.3s\n",
      "[CV] n_estimators=30, min_samples_split=10, min_samples_leaf=1, max_features=auto, max_depth=None \n",
      "[CV]  n_estimators=30, min_samples_split=10, min_samples_leaf=1, max_features=auto, max_depth=None, total=   3.2s\n",
      "[CV] n_estimators=30, min_samples_split=10, min_samples_leaf=1, max_features=auto, max_depth=None \n",
      "[CV]  n_estimators=300, min_samples_split=5, min_samples_leaf=4, max_features=auto, max_depth=9, total=  28.5s\n",
      "[CV] n_estimators=10, min_samples_split=5, min_samples_leaf=2, max_features=sqrt, max_depth=3 \n",
      "[CV]  n_estimators=10, min_samples_split=5, min_samples_leaf=2, max_features=sqrt, max_depth=3, total=   0.9s\n",
      "[CV] n_estimators=10, min_samples_split=5, min_samples_leaf=2, max_features=sqrt, max_depth=3 \n",
      "[CV]  n_estimators=10, min_samples_split=5, min_samples_leaf=2, max_features=sqrt, max_depth=3, total=   0.9s\n",
      "[CV] n_estimators=10, min_samples_split=5, min_samples_leaf=2, max_features=sqrt, max_depth=3 \n",
      "[CV]  n_estimators=30, min_samples_split=10, min_samples_leaf=1, max_features=auto, max_depth=None, total=   3.0s\n",
      "[CV] n_estimators=150, min_samples_split=2, min_samples_leaf=1, max_features=sqrt, max_depth=10 \n",
      "[CV]  n_estimators=30, min_samples_split=10, min_samples_leaf=1, max_features=auto, max_depth=None, total=   2.9s\n",
      "[CV] n_estimators=150, min_samples_split=2, min_samples_leaf=1, max_features=sqrt, max_depth=10 \n",
      "[CV]  n_estimators=10, min_samples_split=5, min_samples_leaf=2, max_features=sqrt, max_depth=3, total=   0.9s\n",
      "[CV] n_estimators=150, min_samples_split=2, min_samples_leaf=1, max_features=sqrt, max_depth=10 \n",
      "[CV]  n_estimators=150, min_samples_split=2, min_samples_leaf=1, max_features=sqrt, max_depth=10, total=  14.4s\n",
      "[CV] n_estimators=30, min_samples_split=10, min_samples_leaf=4, max_features=auto, max_depth=10 \n",
      "[CV]  n_estimators=150, min_samples_split=2, min_samples_leaf=1, max_features=sqrt, max_depth=10, total=  14.6s\n",
      "[CV] n_estimators=30, min_samples_split=10, min_samples_leaf=4, max_features=auto, max_depth=10 \n",
      "[CV]  n_estimators=150, min_samples_split=2, min_samples_leaf=1, max_features=sqrt, max_depth=10, total=  14.6s\n",
      "[CV] n_estimators=30, min_samples_split=10, min_samples_leaf=4, max_features=auto, max_depth=10 \n",
      "[CV]  n_estimators=30, min_samples_split=10, min_samples_leaf=4, max_features=auto, max_depth=10, total=   2.9s\n",
      "[CV] n_estimators=10, min_samples_split=5, min_samples_leaf=1, max_features=sqrt, max_depth=8 \n",
      "[CV]  n_estimators=30, min_samples_split=10, min_samples_leaf=4, max_features=auto, max_depth=10, total=   2.8s\n",
      "[CV] n_estimators=10, min_samples_split=5, min_samples_leaf=1, max_features=sqrt, max_depth=8 \n",
      "[CV]  n_estimators=30, min_samples_split=10, min_samples_leaf=4, max_features=auto, max_depth=10, total=   2.8s\n",
      "[CV] n_estimators=10, min_samples_split=5, min_samples_leaf=1, max_features=sqrt, max_depth=8 \n",
      "[CV]  n_estimators=10, min_samples_split=5, min_samples_leaf=1, max_features=sqrt, max_depth=8, total=   1.1s\n",
      "[CV] n_estimators=150, min_samples_split=10, min_samples_leaf=2, max_features=sqrt, max_depth=None \n",
      "[CV]  n_estimators=10, min_samples_split=5, min_samples_leaf=1, max_features=sqrt, max_depth=8, total=   1.1s\n",
      "[CV] n_estimators=150, min_samples_split=10, min_samples_leaf=2, max_features=sqrt, max_depth=None \n",
      "[CV]  n_estimators=10, min_samples_split=5, min_samples_leaf=1, max_features=sqrt, max_depth=8, total=   1.1s\n",
      "[CV] n_estimators=150, min_samples_split=10, min_samples_leaf=2, max_features=sqrt, max_depth=None \n",
      "[CV]  n_estimators=150, min_samples_split=10, min_samples_leaf=2, max_features=sqrt, max_depth=None, total=  15.0s\n",
      "[CV] n_estimators=50, min_samples_split=2, min_samples_leaf=2, max_features=sqrt, max_depth=4 \n",
      "[CV]  n_estimators=150, min_samples_split=10, min_samples_leaf=2, max_features=sqrt, max_depth=None, total=  14.9s\n",
      "[CV] n_estimators=50, min_samples_split=2, min_samples_leaf=2, max_features=sqrt, max_depth=4 \n",
      "[CV]  n_estimators=150, min_samples_split=10, min_samples_leaf=2, max_features=sqrt, max_depth=None, total=  15.0s\n",
      "[CV] n_estimators=50, min_samples_split=2, min_samples_leaf=2, max_features=sqrt, max_depth=4 \n",
      "[CV]  n_estimators=50, min_samples_split=2, min_samples_leaf=2, max_features=sqrt, max_depth=4, total=   4.5s\n",
      "[CV] n_estimators=250, min_samples_split=10, min_samples_leaf=2, max_features=sqrt, max_depth=7 \n",
      "[CV]  n_estimators=50, min_samples_split=2, min_samples_leaf=2, max_features=sqrt, max_depth=4, total=   4.5s\n",
      "[CV] n_estimators=250, min_samples_split=10, min_samples_leaf=2, max_features=sqrt, max_depth=7 \n",
      "[CV]  n_estimators=50, min_samples_split=2, min_samples_leaf=2, max_features=sqrt, max_depth=4, total=   4.5s\n",
      "[CV] n_estimators=250, min_samples_split=10, min_samples_leaf=2, max_features=sqrt, max_depth=7 \n",
      "[CV]  n_estimators=250, min_samples_split=10, min_samples_leaf=2, max_features=sqrt, max_depth=7, total=  23.4s\n",
      "[CV] n_estimators=50, min_samples_split=5, min_samples_leaf=1, max_features=sqrt, max_depth=9 \n",
      "[CV]  n_estimators=250, min_samples_split=10, min_samples_leaf=2, max_features=sqrt, max_depth=7, total=  23.1s\n",
      "[CV] n_estimators=50, min_samples_split=5, min_samples_leaf=1, max_features=sqrt, max_depth=9 \n",
      "[CV]  n_estimators=250, min_samples_split=10, min_samples_leaf=2, max_features=sqrt, max_depth=7, total=  23.1s\n",
      "[CV] n_estimators=50, min_samples_split=5, min_samples_leaf=1, max_features=sqrt, max_depth=9 \n",
      "[CV]  n_estimators=50, min_samples_split=5, min_samples_leaf=1, max_features=sqrt, max_depth=9, total=   5.0s\n",
      "[CV] n_estimators=10, min_samples_split=10, min_samples_leaf=2, max_features=sqrt, max_depth=4 \n",
      "[CV]  n_estimators=50, min_samples_split=5, min_samples_leaf=1, max_features=sqrt, max_depth=9, total=   4.9s\n",
      "[CV] n_estimators=10, min_samples_split=10, min_samples_leaf=2, max_features=sqrt, max_depth=4 \n",
      "[CV]  n_estimators=50, min_samples_split=5, min_samples_leaf=1, max_features=sqrt, max_depth=9, total=   5.0s\n",
      "[CV] n_estimators=10, min_samples_split=10, min_samples_leaf=2, max_features=sqrt, max_depth=4 \n",
      "[CV]  n_estimators=10, min_samples_split=10, min_samples_leaf=2, max_features=sqrt, max_depth=4, total=   1.0s\n",
      "[CV] n_estimators=200, min_samples_split=10, min_samples_leaf=4, max_features=auto, max_depth=6 \n",
      "[CV]  n_estimators=10, min_samples_split=10, min_samples_leaf=2, max_features=sqrt, max_depth=4, total=   1.0s\n",
      "[CV] n_estimators=200, min_samples_split=10, min_samples_leaf=4, max_features=auto, max_depth=6 \n",
      "[CV]  n_estimators=10, min_samples_split=10, min_samples_leaf=2, max_features=sqrt, max_depth=4, total=   1.0s\n",
      "[CV] n_estimators=200, min_samples_split=10, min_samples_leaf=4, max_features=auto, max_depth=6 \n",
      "[CV]  n_estimators=200, min_samples_split=10, min_samples_leaf=4, max_features=auto, max_depth=6, total=  18.4s\n",
      "[CV] n_estimators=250, min_samples_split=10, min_samples_leaf=4, max_features=sqrt, max_depth=10 \n",
      "[CV]  n_estimators=200, min_samples_split=10, min_samples_leaf=4, max_features=auto, max_depth=6, total=  18.3s\n",
      "[CV] n_estimators=250, min_samples_split=10, min_samples_leaf=4, max_features=sqrt, max_depth=10 \n",
      "[CV]  n_estimators=200, min_samples_split=10, min_samples_leaf=4, max_features=auto, max_depth=6, total=  18.3s\n",
      "[CV] n_estimators=250, min_samples_split=10, min_samples_leaf=4, max_features=sqrt, max_depth=10 \n",
      "[CV]  n_estimators=250, min_samples_split=10, min_samples_leaf=4, max_features=sqrt, max_depth=10, total=  23.6s\n",
      "[CV]  n_estimators=250, min_samples_split=10, min_samples_leaf=4, max_features=sqrt, max_depth=10, total=  23.9s\n",
      "[CV] n_estimators=150, min_samples_split=2, min_samples_leaf=1, max_features=sqrt, max_depth=9 \n",
      "[CV] n_estimators=150, min_samples_split=2, min_samples_leaf=1, max_features=sqrt, max_depth=9 \n",
      "[CV]  n_estimators=250, min_samples_split=10, min_samples_leaf=4, max_features=sqrt, max_depth=10, total=  24.2s\n",
      "[CV] n_estimators=150, min_samples_split=2, min_samples_leaf=1, max_features=sqrt, max_depth=9 \n",
      "[CV]  n_estimators=150, min_samples_split=2, min_samples_leaf=1, max_features=sqrt, max_depth=9, total=  14.8s\n",
      "[CV] n_estimators=150, min_samples_split=2, min_samples_leaf=4, max_features=sqrt, max_depth=7 \n",
      "[CV]  n_estimators=150, min_samples_split=2, min_samples_leaf=1, max_features=sqrt, max_depth=9, total=  14.9s\n",
      "[CV] n_estimators=150, min_samples_split=2, min_samples_leaf=4, max_features=sqrt, max_depth=7 \n",
      "[CV]  n_estimators=150, min_samples_split=2, min_samples_leaf=1, max_features=sqrt, max_depth=9, total=  14.9s\n",
      "[CV] n_estimators=150, min_samples_split=2, min_samples_leaf=4, max_features=sqrt, max_depth=7 \n",
      "[CV]  n_estimators=150, min_samples_split=2, min_samples_leaf=4, max_features=sqrt, max_depth=7, total=  14.0s\n",
      "[CV] n_estimators=50, min_samples_split=2, min_samples_leaf=1, max_features=auto, max_depth=3 \n",
      "[CV]  n_estimators=150, min_samples_split=2, min_samples_leaf=4, max_features=sqrt, max_depth=7, total=  14.2s\n",
      "[CV] n_estimators=50, min_samples_split=2, min_samples_leaf=1, max_features=auto, max_depth=3 \n",
      "[CV]  n_estimators=150, min_samples_split=2, min_samples_leaf=4, max_features=sqrt, max_depth=7, total=  14.3s\n",
      "[CV] n_estimators=50, min_samples_split=2, min_samples_leaf=1, max_features=auto, max_depth=3 \n",
      "[CV]  n_estimators=50, min_samples_split=2, min_samples_leaf=1, max_features=auto, max_depth=3, total=   4.0s\n",
      "[CV] n_estimators=300, min_samples_split=2, min_samples_leaf=1, max_features=auto, max_depth=5 \n",
      "[CV]  n_estimators=50, min_samples_split=2, min_samples_leaf=1, max_features=auto, max_depth=3, total=   4.0s\n",
      "[CV] n_estimators=300, min_samples_split=2, min_samples_leaf=1, max_features=auto, max_depth=5 \n",
      "[CV]  n_estimators=50, min_samples_split=2, min_samples_leaf=1, max_features=auto, max_depth=3, total=   4.1s\n",
      "[CV] n_estimators=300, min_samples_split=2, min_samples_leaf=1, max_features=auto, max_depth=5 \n",
      "[CV]  n_estimators=300, min_samples_split=2, min_samples_leaf=1, max_features=auto, max_depth=5, total=  25.4s\n",
      "[CV] n_estimators=200, min_samples_split=10, min_samples_leaf=1, max_features=sqrt, max_depth=7 \n",
      "[CV]  n_estimators=300, min_samples_split=2, min_samples_leaf=1, max_features=auto, max_depth=5, total=  25.7s\n",
      "[CV] n_estimators=200, min_samples_split=10, min_samples_leaf=1, max_features=sqrt, max_depth=7 \n",
      "[CV]  n_estimators=300, min_samples_split=2, min_samples_leaf=1, max_features=auto, max_depth=5, total=  26.0s\n",
      "[CV] n_estimators=200, min_samples_split=10, min_samples_leaf=1, max_features=sqrt, max_depth=7 \n",
      "[CV]  n_estimators=200, min_samples_split=10, min_samples_leaf=1, max_features=sqrt, max_depth=7, total=  18.1s\n",
      "[CV] n_estimators=10, min_samples_split=2, min_samples_leaf=2, max_features=auto, max_depth=4 \n",
      "[CV]  n_estimators=200, min_samples_split=10, min_samples_leaf=1, max_features=sqrt, max_depth=7, total=  18.2s\n",
      "[CV] n_estimators=10, min_samples_split=2, min_samples_leaf=2, max_features=auto, max_depth=4 \n",
      "[CV]  n_estimators=10, min_samples_split=2, min_samples_leaf=2, max_features=auto, max_depth=4, total=   0.9s\n",
      "[CV] n_estimators=10, min_samples_split=2, min_samples_leaf=2, max_features=auto, max_depth=4 \n",
      "[CV]  n_estimators=10, min_samples_split=2, min_samples_leaf=2, max_features=auto, max_depth=4, total=   1.0s\n",
      "[CV] n_estimators=200, min_samples_split=10, min_samples_leaf=4, max_features=auto, max_depth=10 \n",
      "[CV]  n_estimators=10, min_samples_split=2, min_samples_leaf=2, max_features=auto, max_depth=4, total=   1.0s\n",
      "[CV] n_estimators=200, min_samples_split=10, min_samples_leaf=4, max_features=auto, max_depth=10 \n",
      "[CV]  n_estimators=200, min_samples_split=10, min_samples_leaf=1, max_features=sqrt, max_depth=7, total=  18.4s\n",
      "[CV] n_estimators=200, min_samples_split=10, min_samples_leaf=4, max_features=auto, max_depth=10 \n",
      "[CV]  n_estimators=200, min_samples_split=10, min_samples_leaf=4, max_features=auto, max_depth=10, total=  19.2s\n",
      "[CV] n_estimators=200, min_samples_split=10, min_samples_leaf=2, max_features=auto, max_depth=4 \n",
      "[CV]  n_estimators=200, min_samples_split=10, min_samples_leaf=4, max_features=auto, max_depth=10, total=  19.0s\n",
      "[CV] n_estimators=200, min_samples_split=10, min_samples_leaf=2, max_features=auto, max_depth=4 \n",
      "[CV]  n_estimators=200, min_samples_split=10, min_samples_leaf=4, max_features=auto, max_depth=10, total=  19.2s\n",
      "[CV] n_estimators=200, min_samples_split=10, min_samples_leaf=2, max_features=auto, max_depth=4 \n",
      "[CV]  n_estimators=200, min_samples_split=10, min_samples_leaf=2, max_features=auto, max_depth=4, total=  16.4s\n",
      "[CV] n_estimators=250, min_samples_split=5, min_samples_leaf=4, max_features=auto, max_depth=None \n",
      "[CV]  n_estimators=200, min_samples_split=10, min_samples_leaf=2, max_features=auto, max_depth=4, total=  16.5s\n",
      "[CV] n_estimators=250, min_samples_split=5, min_samples_leaf=4, max_features=auto, max_depth=None \n",
      "[CV]  n_estimators=200, min_samples_split=10, min_samples_leaf=2, max_features=auto, max_depth=4, total=  16.6s\n",
      "[CV] n_estimators=250, min_samples_split=5, min_samples_leaf=4, max_features=auto, max_depth=None \n",
      "[CV]  n_estimators=250, min_samples_split=5, min_samples_leaf=4, max_features=auto, max_depth=None, total=  23.4s\n",
      "[CV] n_estimators=10, min_samples_split=2, min_samples_leaf=2, max_features=sqrt, max_depth=5 \n",
      "[CV]  n_estimators=250, min_samples_split=5, min_samples_leaf=4, max_features=auto, max_depth=None, total=  23.7s\n",
      "[CV] n_estimators=10, min_samples_split=2, min_samples_leaf=2, max_features=sqrt, max_depth=5 \n",
      "[CV]  n_estimators=10, min_samples_split=2, min_samples_leaf=2, max_features=sqrt, max_depth=5, total=   1.0s\n",
      "[CV] n_estimators=10, min_samples_split=2, min_samples_leaf=2, max_features=sqrt, max_depth=5 \n",
      "[CV]  n_estimators=250, min_samples_split=5, min_samples_leaf=4, max_features=auto, max_depth=None, total=  23.6s\n",
      "[CV] n_estimators=30, min_samples_split=2, min_samples_leaf=2, max_features=auto, max_depth=3 \n",
      "[CV]  n_estimators=10, min_samples_split=2, min_samples_leaf=2, max_features=sqrt, max_depth=5, total=   1.0s\n",
      "[CV] n_estimators=30, min_samples_split=2, min_samples_leaf=2, max_features=auto, max_depth=3 \n",
      "[CV]  n_estimators=10, min_samples_split=2, min_samples_leaf=2, max_features=sqrt, max_depth=5, total=   1.0s\n",
      "[CV] n_estimators=30, min_samples_split=2, min_samples_leaf=2, max_features=auto, max_depth=3 \n",
      "[CV]  n_estimators=30, min_samples_split=2, min_samples_leaf=2, max_features=auto, max_depth=3, total=   2.4s\n",
      "[CV] n_estimators=10, min_samples_split=10, min_samples_leaf=2, max_features=sqrt, max_depth=9 \n",
      "[CV]  n_estimators=30, min_samples_split=2, min_samples_leaf=2, max_features=auto, max_depth=3, total=   2.4s\n",
      "[CV] n_estimators=10, min_samples_split=10, min_samples_leaf=2, max_features=sqrt, max_depth=9 \n",
      "[CV]  n_estimators=30, min_samples_split=2, min_samples_leaf=2, max_features=auto, max_depth=3, total=   2.5s\n",
      "[CV] n_estimators=10, min_samples_split=10, min_samples_leaf=2, max_features=sqrt, max_depth=9 \n",
      "[CV]  n_estimators=10, min_samples_split=10, min_samples_leaf=2, max_features=sqrt, max_depth=9, total=   1.2s\n",
      "[CV] n_estimators=100, min_samples_split=10, min_samples_leaf=1, max_features=auto, max_depth=5 \n",
      "[CV]  n_estimators=10, min_samples_split=10, min_samples_leaf=2, max_features=sqrt, max_depth=9, total=   1.1s\n",
      "[CV] n_estimators=100, min_samples_split=10, min_samples_leaf=1, max_features=auto, max_depth=5 \n",
      "[CV]  n_estimators=10, min_samples_split=10, min_samples_leaf=2, max_features=sqrt, max_depth=9, total=   1.1s\n",
      "[CV] n_estimators=100, min_samples_split=10, min_samples_leaf=1, max_features=auto, max_depth=5 \n",
      "[CV]  n_estimators=100, min_samples_split=10, min_samples_leaf=1, max_features=auto, max_depth=5, total=   9.9s\n",
      "[CV] n_estimators=250, min_samples_split=2, min_samples_leaf=4, max_features=auto, max_depth=10 \n",
      "[CV]  n_estimators=100, min_samples_split=10, min_samples_leaf=1, max_features=auto, max_depth=5, total=   9.8s\n",
      "[CV] n_estimators=250, min_samples_split=2, min_samples_leaf=4, max_features=auto, max_depth=10 \n",
      "[CV]  n_estimators=100, min_samples_split=10, min_samples_leaf=1, max_features=auto, max_depth=5, total=   9.8s\n",
      "[CV] n_estimators=250, min_samples_split=2, min_samples_leaf=4, max_features=auto, max_depth=10 \n",
      "[CV]  n_estimators=250, min_samples_split=2, min_samples_leaf=4, max_features=auto, max_depth=10, total=  23.1s\n",
      "[CV] n_estimators=250, min_samples_split=5, min_samples_leaf=4, max_features=auto, max_depth=9 \n",
      "[CV]  n_estimators=250, min_samples_split=2, min_samples_leaf=4, max_features=auto, max_depth=10, total=  23.6s\n",
      "[CV] n_estimators=250, min_samples_split=5, min_samples_leaf=4, max_features=auto, max_depth=9 \n",
      "[CV]  n_estimators=250, min_samples_split=2, min_samples_leaf=4, max_features=auto, max_depth=10, total=  23.5s\n",
      "[CV] n_estimators=250, min_samples_split=5, min_samples_leaf=4, max_features=auto, max_depth=9 \n",
      "[CV]  n_estimators=250, min_samples_split=5, min_samples_leaf=4, max_features=auto, max_depth=9, total=  23.3s\n",
      "[CV] n_estimators=10, min_samples_split=2, min_samples_leaf=1, max_features=auto, max_depth=None \n",
      "[CV]  n_estimators=10, min_samples_split=2, min_samples_leaf=1, max_features=auto, max_depth=None, total=   1.1s\n",
      "[CV] n_estimators=10, min_samples_split=2, min_samples_leaf=1, max_features=auto, max_depth=None \n",
      "[CV]  n_estimators=250, min_samples_split=5, min_samples_leaf=4, max_features=auto, max_depth=9, total=  24.1s\n",
      "[CV] n_estimators=10, min_samples_split=2, min_samples_leaf=1, max_features=auto, max_depth=None \n",
      "[CV]  n_estimators=250, min_samples_split=5, min_samples_leaf=4, max_features=auto, max_depth=9, total=  23.7s\n",
      "[CV] n_estimators=30, min_samples_split=10, min_samples_leaf=4, max_features=auto, max_depth=4 \n",
      "[CV]  n_estimators=10, min_samples_split=2, min_samples_leaf=1, max_features=auto, max_depth=None, total=   1.1s\n",
      "[CV] n_estimators=30, min_samples_split=10, min_samples_leaf=4, max_features=auto, max_depth=4 \n",
      "[CV]  n_estimators=10, min_samples_split=2, min_samples_leaf=1, max_features=auto, max_depth=None, total=   1.1s\n",
      "[CV] n_estimators=30, min_samples_split=10, min_samples_leaf=4, max_features=auto, max_depth=4 \n",
      "[CV]  n_estimators=30, min_samples_split=10, min_samples_leaf=4, max_features=auto, max_depth=4, total=   2.5s\n",
      "[CV] n_estimators=200, min_samples_split=5, min_samples_leaf=2, max_features=auto, max_depth=None \n",
      "[CV]  n_estimators=30, min_samples_split=10, min_samples_leaf=4, max_features=auto, max_depth=4, total=   2.4s\n",
      "[CV] n_estimators=200, min_samples_split=5, min_samples_leaf=2, max_features=auto, max_depth=None \n",
      "[CV]  n_estimators=30, min_samples_split=10, min_samples_leaf=4, max_features=auto, max_depth=4, total=   2.4s\n",
      "[CV] n_estimators=200, min_samples_split=5, min_samples_leaf=2, max_features=auto, max_depth=None \n",
      "[CV]  n_estimators=200, min_samples_split=5, min_samples_leaf=2, max_features=auto, max_depth=None, total=  18.9s\n",
      "[CV] n_estimators=30, min_samples_split=5, min_samples_leaf=2, max_features=sqrt, max_depth=None \n",
      "[CV]  n_estimators=200, min_samples_split=5, min_samples_leaf=2, max_features=auto, max_depth=None, total=  19.0s\n",
      "[CV] n_estimators=30, min_samples_split=5, min_samples_leaf=2, max_features=sqrt, max_depth=None \n",
      "[CV]  n_estimators=200, min_samples_split=5, min_samples_leaf=2, max_features=auto, max_depth=None, total=  18.9s\n",
      "[CV] n_estimators=30, min_samples_split=5, min_samples_leaf=2, max_features=sqrt, max_depth=None \n",
      "[CV]  n_estimators=30, min_samples_split=5, min_samples_leaf=2, max_features=sqrt, max_depth=None, total=   2.9s\n",
      "[CV] n_estimators=300, min_samples_split=10, min_samples_leaf=2, max_features=auto, max_depth=4 \n",
      "[CV]  n_estimators=30, min_samples_split=5, min_samples_leaf=2, max_features=sqrt, max_depth=None, total=   2.8s\n",
      "[CV] n_estimators=300, min_samples_split=10, min_samples_leaf=2, max_features=auto, max_depth=4 \n",
      "[CV]  n_estimators=30, min_samples_split=5, min_samples_leaf=2, max_features=sqrt, max_depth=None, total=   3.0s\n",
      "[CV] n_estimators=300, min_samples_split=10, min_samples_leaf=2, max_features=auto, max_depth=4 \n",
      "[CV]  n_estimators=300, min_samples_split=10, min_samples_leaf=2, max_features=auto, max_depth=4, total=  24.8s\n",
      "[CV] n_estimators=300, min_samples_split=5, min_samples_leaf=2, max_features=auto, max_depth=4 \n",
      "[CV]  n_estimators=300, min_samples_split=10, min_samples_leaf=2, max_features=auto, max_depth=4, total=  24.9s\n",
      "[CV] n_estimators=300, min_samples_split=5, min_samples_leaf=2, max_features=auto, max_depth=4 \n",
      "[CV]  n_estimators=300, min_samples_split=10, min_samples_leaf=2, max_features=auto, max_depth=4, total=  25.4s\n",
      "[CV] n_estimators=300, min_samples_split=5, min_samples_leaf=2, max_features=auto, max_depth=4 \n",
      "[CV]  n_estimators=300, min_samples_split=5, min_samples_leaf=2, max_features=auto, max_depth=4, total=  25.0s\n",
      "[CV] n_estimators=150, min_samples_split=10, min_samples_leaf=1, max_features=auto, max_depth=8 \n",
      "[CV]  n_estimators=300, min_samples_split=5, min_samples_leaf=2, max_features=auto, max_depth=4, total=  24.9s\n",
      "[CV] n_estimators=150, min_samples_split=10, min_samples_leaf=1, max_features=auto, max_depth=8 \n",
      "[CV]  n_estimators=300, min_samples_split=5, min_samples_leaf=2, max_features=auto, max_depth=4, total=  25.4s\n",
      "[CV] n_estimators=150, min_samples_split=10, min_samples_leaf=1, max_features=auto, max_depth=8 \n",
      "[CV]  n_estimators=150, min_samples_split=10, min_samples_leaf=1, max_features=auto, max_depth=8, total=  14.1s\n",
      "[CV] n_estimators=50, min_samples_split=5, min_samples_leaf=1, max_features=sqrt, max_depth=8 \n",
      "[CV]  n_estimators=150, min_samples_split=10, min_samples_leaf=1, max_features=auto, max_depth=8, total=  14.1s\n",
      "[CV] n_estimators=50, min_samples_split=5, min_samples_leaf=1, max_features=sqrt, max_depth=8 \n",
      "[CV]  n_estimators=150, min_samples_split=10, min_samples_leaf=1, max_features=auto, max_depth=8, total=  14.3s\n",
      "[CV] n_estimators=50, min_samples_split=5, min_samples_leaf=1, max_features=sqrt, max_depth=8 \n",
      "[CV]  n_estimators=50, min_samples_split=5, min_samples_leaf=1, max_features=sqrt, max_depth=8, total=   5.1s\n",
      "[CV] n_estimators=50, min_samples_split=2, min_samples_leaf=4, max_features=sqrt, max_depth=10 \n",
      "[CV]  n_estimators=50, min_samples_split=5, min_samples_leaf=1, max_features=sqrt, max_depth=8, total=   5.2s\n",
      "[CV] n_estimators=50, min_samples_split=2, min_samples_leaf=4, max_features=sqrt, max_depth=10 \n",
      "[CV]  n_estimators=50, min_samples_split=5, min_samples_leaf=1, max_features=sqrt, max_depth=8, total=   5.2s\n",
      "[CV] n_estimators=50, min_samples_split=2, min_samples_leaf=4, max_features=sqrt, max_depth=10 \n",
      "[CV]  n_estimators=50, min_samples_split=2, min_samples_leaf=4, max_features=sqrt, max_depth=10, total=   4.7s\n",
      "[CV] n_estimators=200, min_samples_split=5, min_samples_leaf=2, max_features=auto, max_depth=8 \n",
      "[CV]  n_estimators=50, min_samples_split=2, min_samples_leaf=4, max_features=sqrt, max_depth=10, total=   4.8s\n",
      "[CV] n_estimators=200, min_samples_split=5, min_samples_leaf=2, max_features=auto, max_depth=8 \n",
      "[CV]  n_estimators=50, min_samples_split=2, min_samples_leaf=4, max_features=sqrt, max_depth=10, total=   5.0s\n",
      "[CV] n_estimators=200, min_samples_split=5, min_samples_leaf=2, max_features=auto, max_depth=8 \n",
      "[CV]  n_estimators=200, min_samples_split=5, min_samples_leaf=2, max_features=auto, max_depth=8, total=  18.8s\n",
      "[CV] n_estimators=200, min_samples_split=2, min_samples_leaf=1, max_features=sqrt, max_depth=7 \n",
      "[CV]  n_estimators=200, min_samples_split=5, min_samples_leaf=2, max_features=auto, max_depth=8, total=  18.9s\n",
      "[CV] n_estimators=200, min_samples_split=2, min_samples_leaf=1, max_features=sqrt, max_depth=7 \n",
      "[CV]  n_estimators=200, min_samples_split=5, min_samples_leaf=2, max_features=auto, max_depth=8, total=  19.1s\n",
      "[CV] n_estimators=200, min_samples_split=2, min_samples_leaf=1, max_features=sqrt, max_depth=7 \n",
      "[CV]  n_estimators=200, min_samples_split=2, min_samples_leaf=1, max_features=sqrt, max_depth=7, total=  18.9s\n",
      "[CV] n_estimators=100, min_samples_split=10, min_samples_leaf=2, max_features=auto, max_depth=6 \n",
      "[CV]  n_estimators=200, min_samples_split=2, min_samples_leaf=1, max_features=sqrt, max_depth=7, total=  18.7s\n",
      "[CV] n_estimators=100, min_samples_split=10, min_samples_leaf=2, max_features=auto, max_depth=6 \n",
      "[CV]  n_estimators=200, min_samples_split=2, min_samples_leaf=1, max_features=sqrt, max_depth=7, total=  18.7s\n",
      "[CV] n_estimators=100, min_samples_split=10, min_samples_leaf=2, max_features=auto, max_depth=6 \n",
      "[CV]  n_estimators=100, min_samples_split=10, min_samples_leaf=2, max_features=auto, max_depth=6, total=   9.7s\n",
      "[CV] n_estimators=10, min_samples_split=10, min_samples_leaf=2, max_features=sqrt, max_depth=8 \n",
      "[CV]  n_estimators=10, min_samples_split=10, min_samples_leaf=2, max_features=sqrt, max_depth=8, total=   1.1s\n",
      "[CV]  n_estimators=100, min_samples_split=10, min_samples_leaf=2, max_features=auto, max_depth=6, total=   9.5s\n",
      "[CV] n_estimators=10, min_samples_split=10, min_samples_leaf=2, max_features=sqrt, max_depth=8 \n",
      "[CV] n_estimators=10, min_samples_split=10, min_samples_leaf=2, max_features=sqrt, max_depth=8 \n",
      "[CV]  n_estimators=10, min_samples_split=10, min_samples_leaf=2, max_features=sqrt, max_depth=8, total=   1.0s\n",
      "[CV] n_estimators=30, min_samples_split=5, min_samples_leaf=1, max_features=sqrt, max_depth=3 \n",
      "[CV]  n_estimators=10, min_samples_split=10, min_samples_leaf=2, max_features=sqrt, max_depth=8, total=   1.1s\n",
      "[CV] n_estimators=30, min_samples_split=5, min_samples_leaf=1, max_features=sqrt, max_depth=3 \n",
      "[CV]  n_estimators=100, min_samples_split=10, min_samples_leaf=2, max_features=auto, max_depth=6, total=   9.8s\n",
      "[CV] n_estimators=30, min_samples_split=5, min_samples_leaf=1, max_features=sqrt, max_depth=3 \n",
      "[CV]  n_estimators=30, min_samples_split=5, min_samples_leaf=1, max_features=sqrt, max_depth=3, total=   2.4s\n",
      "[CV] n_estimators=50, min_samples_split=5, min_samples_leaf=4, max_features=sqrt, max_depth=None \n",
      "[CV]  n_estimators=30, min_samples_split=5, min_samples_leaf=1, max_features=sqrt, max_depth=3, total=   2.3s\n",
      "[CV] n_estimators=50, min_samples_split=5, min_samples_leaf=4, max_features=sqrt, max_depth=None \n",
      "[CV]  n_estimators=30, min_samples_split=5, min_samples_leaf=1, max_features=sqrt, max_depth=3, total=   2.4s\n",
      "[CV] n_estimators=50, min_samples_split=5, min_samples_leaf=4, max_features=sqrt, max_depth=None \n",
      "[CV]  n_estimators=50, min_samples_split=5, min_samples_leaf=4, max_features=sqrt, max_depth=None, total=   4.8s\n",
      "[CV] n_estimators=100, min_samples_split=5, min_samples_leaf=2, max_features=sqrt, max_depth=7 \n",
      "[CV]  n_estimators=50, min_samples_split=5, min_samples_leaf=4, max_features=sqrt, max_depth=None, total=   4.9s\n",
      "[CV] n_estimators=100, min_samples_split=5, min_samples_leaf=2, max_features=sqrt, max_depth=7 \n",
      "[CV]  n_estimators=50, min_samples_split=5, min_samples_leaf=4, max_features=sqrt, max_depth=None, total=   5.0s\n",
      "[CV] n_estimators=100, min_samples_split=5, min_samples_leaf=2, max_features=sqrt, max_depth=7 \n",
      "[CV]  n_estimators=100, min_samples_split=5, min_samples_leaf=2, max_features=sqrt, max_depth=7, total=  10.1s\n",
      "[CV] n_estimators=100, min_samples_split=2, min_samples_leaf=4, max_features=sqrt, max_depth=6 \n",
      "[CV]  n_estimators=100, min_samples_split=5, min_samples_leaf=2, max_features=sqrt, max_depth=7, total=  10.1s\n",
      "[CV] n_estimators=100, min_samples_split=2, min_samples_leaf=4, max_features=sqrt, max_depth=6 \n",
      "[CV]  n_estimators=100, min_samples_split=5, min_samples_leaf=2, max_features=sqrt, max_depth=7, total=  10.2s\n",
      "[CV] n_estimators=100, min_samples_split=2, min_samples_leaf=4, max_features=sqrt, max_depth=6 \n",
      "[CV]  n_estimators=100, min_samples_split=2, min_samples_leaf=4, max_features=sqrt, max_depth=6, total=   9.8s\n",
      "[CV] n_estimators=200, min_samples_split=10, min_samples_leaf=2, max_features=sqrt, max_depth=7 \n",
      "[CV]  n_estimators=100, min_samples_split=2, min_samples_leaf=4, max_features=sqrt, max_depth=6, total=   9.7s\n",
      "[CV] n_estimators=200, min_samples_split=10, min_samples_leaf=2, max_features=sqrt, max_depth=7 \n",
      "[CV]  n_estimators=100, min_samples_split=2, min_samples_leaf=4, max_features=sqrt, max_depth=6, total=   9.7s\n",
      "[CV] n_estimators=200, min_samples_split=10, min_samples_leaf=2, max_features=sqrt, max_depth=7 \n",
      "[CV]  n_estimators=200, min_samples_split=10, min_samples_leaf=2, max_features=sqrt, max_depth=7, total=  18.1s\n",
      "[CV]  n_estimators=200, min_samples_split=10, min_samples_leaf=2, max_features=sqrt, max_depth=7, total=  18.0s\n",
      "[CV]  n_estimators=200, min_samples_split=10, min_samples_leaf=2, max_features=sqrt, max_depth=7, total=  18.1s\n"
     ]
    },
    {
     "name": "stderr",
     "output_type": "stream",
     "text": [
      "[Parallel(n_jobs=3)]: Done 300 out of 300 | elapsed: 22.5min finished\n"
     ]
    },
    {
     "data": {
      "text/plain": [
       "RandomizedSearchCV(cv=3, error_score='raise',\n",
       "          estimator=RandomForestClassifier(bootstrap=True, class_weight=None, criterion='gini',\n",
       "            max_depth=None, max_features='auto', max_leaf_nodes=None,\n",
       "            min_impurity_decrease=0.0, min_impurity_split=None,\n",
       "            min_samples_leaf=1, min_samples_split=2,\n",
       "            min_weight_fraction_leaf=0.0, n_estimators=10, n_jobs=1,\n",
       "            oob_score=False, random_state=101, verbose=0, warm_start=False),\n",
       "          fit_params=None, iid=True, n_iter=100, n_jobs=3,\n",
       "          param_distributions={'n_estimators': [10, 30, 50, 100, 150, 200, 250, 300], 'max_features': ['auto', 'sqrt'], 'max_depth': [3, 4, 5, 6, 7, 8, 9, 10, None], 'min_samples_split': [2, 5, 10], 'min_samples_leaf': [1, 2, 4]},\n",
       "          pre_dispatch='2*n_jobs', random_state=101, refit=True,\n",
       "          return_train_score='warn',\n",
       "          scoring=make_scorer(fbeta_score, beta=0.5), verbose=2)"
      ]
     },
     "execution_count": 127,
     "metadata": {},
     "output_type": "execute_result"
    }
   ],
   "source": [
    "rf_clf = RandomForestClassifier(random_state=random_state)\n",
    "\n",
    "# Number of trees in random forest\n",
    "n_estimators = [10, 30, 50, 100, 150, 200, 250, 300]\n",
    "\n",
    "# Number of features to consider at every split\n",
    "max_features = ['auto', 'sqrt']\n",
    "\n",
    "# Maximum number of levels in tree\n",
    "max_depth = [int(x) for x in np.arange(3, 11)]\n",
    "max_depth.append(None)\n",
    "\n",
    "# Minimum number of samples required to split a node\n",
    "min_samples_split = [2, 5, 10]\n",
    "\n",
    "# Minimum number of samples required at each leaf node\n",
    "min_samples_leaf = [1, 2, 4]\n",
    "\n",
    "# Create the random grid\n",
    "random_grid = {'n_estimators': n_estimators,\n",
    "               'max_features': max_features,\n",
    "               'max_depth': max_depth,\n",
    "               'min_samples_split': min_samples_split,\n",
    "               'min_samples_leaf': min_samples_leaf}\n",
    "\n",
    "rf_random = RandomizedSearchCV(estimator = rf_clf,\n",
    "                               param_distributions = random_grid,\n",
    "                               scoring=scorer,\n",
    "                               n_iter = 100,\n",
    "                               cv = 3,\n",
    "                               verbose=2,\n",
    "                               random_state=random_state,\n",
    "                               n_jobs = 3)\n",
    "\n",
    "rf_random.fit(X_train, y_train)"
   ]
  },
  {
   "cell_type": "code",
   "execution_count": 128,
   "metadata": {},
   "outputs": [
    {
     "name": "stdout",
     "output_type": "stream",
     "text": [
      "RandomForestClassifier model accuracy: 1.000\n",
      "RandomForestClassifier model f1-score: 1.000\n"
     ]
    },
    {
     "data": {
      "text/plain": [
       "(1.0, 1.0)"
      ]
     },
     "execution_count": 128,
     "metadata": {},
     "output_type": "execute_result"
    }
   ],
   "source": [
    "evaluate_model_performance(rf_random.best_estimator_,\n",
    "                           X_train,\n",
    "                           y_train)"
   ]
  },
  {
   "cell_type": "code",
   "execution_count": 129,
   "metadata": {},
   "outputs": [
    {
     "ename": "NameError",
     "evalue": "name 'variable_names' is not defined",
     "output_type": "error",
     "traceback": [
      "\u001b[0;31m---------------------------------------------------------------------------\u001b[0m",
      "\u001b[0;31mNameError\u001b[0m                                 Traceback (most recent call last)",
      "\u001b[0;32m<ipython-input-129-f003e7098fc9>\u001b[0m in \u001b[0;36m<module>\u001b[0;34m()\u001b[0m\n\u001b[1;32m      2\u001b[0m \u001b[0mrelative_importance\u001b[0m \u001b[0;34m=\u001b[0m \u001b[0mrelative_importance\u001b[0m \u001b[0;34m/\u001b[0m \u001b[0mnp\u001b[0m\u001b[0;34m.\u001b[0m\u001b[0msum\u001b[0m\u001b[0;34m(\u001b[0m\u001b[0mrelative_importance\u001b[0m\u001b[0;34m)\u001b[0m\u001b[0;34m\u001b[0m\u001b[0m\n\u001b[1;32m      3\u001b[0m \u001b[0;34m\u001b[0m\u001b[0m\n\u001b[0;32m----> 4\u001b[0;31m feature_importance =    pd.DataFrame(list(zip(variable_names,\n\u001b[0m\u001b[1;32m      5\u001b[0m                           relative_importance)),\n\u001b[1;32m      6\u001b[0m                  columns=['feature', 'relativeimportance'])\n",
      "\u001b[0;31mNameError\u001b[0m: name 'variable_names' is not defined"
     ]
    }
   ],
   "source": [
    "relative_importance = rf_random.best_estimator_.feature_importances_\n",
    "relative_importance = relative_importance / np.sum(relative_importance)\n",
    "\n",
    "feature_importance =\\\n",
    "    pd.DataFrame(list(zip(variable_names,\n",
    "                          relative_importance)),\n",
    "                 columns=['feature', 'relativeimportance'])\n",
    "\n",
    "feature_importance = feature_importance.sort_values('relativeimportance',\n",
    "                                                    ascending=False)\n",
    "\n",
    "feature_importance = feature_importance.reset_index(drop=True)\n",
    "\n",
    "palette = sns.color_palette(\"Blues_r\", feature_importance.shape[0])\n",
    "\n",
    "plt.figure(figsize=(8, 8))\n",
    "sns.barplot(x='relativeimportance',\n",
    "            y='feature',\n",
    "            data=feature_importance,\n",
    "            palette=palette)\n",
    "plt.xlabel('Relative Importance')\n",
    "plt.ylabel('Feature')\n",
    "plt.title('Random Forest Estimated Feature Importance')"
   ]
  },
  {
   "cell_type": "code",
   "execution_count": null,
   "metadata": {},
   "outputs": [],
   "source": [
    "feature_importance.head(n=10)"
   ]
  },
  {
   "cell_type": "code",
   "execution_count": null,
   "metadata": {},
   "outputs": [],
   "source": [
    "gb_clf = GradientBoostingClassifier(random_state=random_state)\n",
    "\n",
    "# Create the random grid\n",
    "random_grid = {'loss': ['deviance', 'exponential'],\n",
    "               'learning_rate': [0.1, 0.01, 0.001],\n",
    "               'n_estimators': [10, 30, 50, 100, 150, 200, 250, 300],\n",
    "               'min_samples_leaf': min_samples_leaf,\n",
    "               'min_samples_split': min_samples_split}\n",
    "\n",
    "gb_random = RandomizedSearchCV(estimator = gb_clf,\n",
    "                               param_distributions = random_grid,\n",
    "                               scoring=scorer,\n",
    "                               n_iter = 100,\n",
    "                               cv = 3,\n",
    "                               verbose=2,\n",
    "                               random_state=random_state,\n",
    "                               n_jobs = 3)\n",
    "\n",
    "gb_random.fit(X_train, y_train)\n",
    "\n"
   ]
  },
  {
   "cell_type": "code",
   "execution_count": null,
   "metadata": {},
   "outputs": [],
   "source": [
    "evaluate_model_performance(gb_random.best_estimator_,\n",
    "                           X_train,\n",
    "                           y_train)"
   ]
  },
  {
   "cell_type": "code",
   "execution_count": null,
   "metadata": {},
   "outputs": [],
   "source": []
  },
  {
   "cell_type": "code",
   "execution_count": null,
   "metadata": {},
   "outputs": [],
   "source": []
  },
  {
   "cell_type": "code",
   "execution_count": null,
   "metadata": {},
   "outputs": [],
   "source": []
  }
 ],
 "metadata": {
  "kernelspec": {
   "display_name": "Python 3",
   "language": "python",
   "name": "python3"
  },
  "language_info": {
   "codemirror_mode": {
    "name": "ipython",
    "version": 3
   },
   "file_extension": ".py",
   "mimetype": "text/x-python",
   "name": "python",
   "nbconvert_exporter": "python",
   "pygments_lexer": "ipython3",
   "version": "3.7.4"
  }
 },
 "nbformat": 4,
 "nbformat_minor": 2
}
