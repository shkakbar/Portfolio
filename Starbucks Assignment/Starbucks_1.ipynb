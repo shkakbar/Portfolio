{
 "cells": [
  {
   "cell_type": "markdown",
   "metadata": {},
   "source": [
    "## Portfolio Exercise: Starbucks\n",
    "<br>\n",
    "\n",
    "<img src=\"https://opj.ca/wp-content/uploads/2018/02/New-Starbucks-Logo-1200x969.jpg\" width=\"200\" height=\"200\">\n",
    "<br>\n",
    "<br>\n",
    " \n",
    "#### Background Information\n",
    "\n",
    "The dataset you will be provided in this portfolio exercise was originally used as a take-home assignment provided by Starbucks for their job candidates. The data for this exercise consists of about 120,000 data points split in a 2:1 ratio among training and test files. In the experiment simulated by the data, an advertising promotion was tested to see if it would bring more customers to purchase a specific product priced at $10. Since it costs the company 0.15 to send out each promotion, it would be best to limit that promotion only to those that are most receptive to the promotion. Each data point includes one column indicating whether or not an individual was sent a promotion for the product, and one column indicating whether or not that individual eventually purchased that product. Each individual also has seven additional features associated with them, which are provided abstractly as V1-V7.\n",
    "\n",
    "#### Optimization Strategy\n",
    "\n",
    "Your task is to use the training data to understand what patterns in V1-V7 to indicate that a promotion should be provided to a user. Specifically, your goal is to maximize the following metrics:\n",
    "\n",
    "* **Incremental Response Rate (IRR)** \n",
    "\n",
    "IRR depicts how many more customers purchased the product with the promotion, as compared to if they didn't receive the promotion. Mathematically, it's the ratio of the number of purchasers in the promotion group to the total number of customers in the purchasers group (_treatment_) minus the ratio of the number of purchasers in the non-promotional group to the total number of customers in the non-promotional group (_control_).\n",
    "\n",
    "$$ IRR = \\frac{purch_{treat}}{cust_{treat}} - \\frac{purch_{ctrl}}{cust_{ctrl}} $$\n",
    "\n",
    "\n",
    "* **Net Incremental Revenue (NIR)**\n",
    "\n",
    "NIR depicts how much is made (or lost) by sending out the promotion. Mathematically, this is 10 times the total number of purchasers that received the promotion minus 0.15 times the number of promotions sent out, minus 10 times the number of purchasers who were not given the promotion.\n",
    "\n",
    "$$ NIR = (10\\cdot purch_{treat} - 0.15 \\cdot cust_{treat}) - 10 \\cdot purch_{ctrl}$$\n",
    "\n",
    "For a full description of what Starbucks provides to candidates see the [instructions available here](https://drive.google.com/open?id=18klca9Sef1Rs6q8DW4l7o349r8B70qXM).\n",
    "\n",
    "Below you can find the training data provided.  Explore the data and different optimization strategies.\n",
    "\n",
    "#### How To Test Your Strategy?\n",
    "\n",
    "When you feel like you have an optimization strategy, complete the `promotion_strategy` function to pass to the `test_results` function.  \n",
    "From past data, we know there are four possible outomes:\n",
    "\n",
    "Table of actual promotion vs. predicted promotion customers:  \n",
    "\n",
    "<table>\n",
    "<tr><th></th><th colspan = '2'>Actual</th></tr>\n",
    "<tr><th>Predicted</th><th>Yes</th><th>No</th></tr>\n",
    "<tr><th>Yes</th><td>I</td><td>II</td></tr>\n",
    "<tr><th>No</th><td>III</td><td>IV</td></tr>\n",
    "</table>\n",
    "\n",
    "The metrics are only being compared for the individuals we predict should obtain the promotion – that is, quadrants I and II.  Since the first set of individuals that receive the promotion (in the training set) receive it randomly, we can expect that quadrants I and II will have approximately equivalent participants.  \n",
    "\n",
    "Comparing quadrant I to II then gives an idea of how well your promotion strategy will work in the future. \n",
    "\n",
    "Get started by reading in the data below.  See how each variable or combination of variables along with a promotion influences the chance of purchasing.  When you feel like you have a strategy for who should receive a promotion, test your strategy against the test dataset used in the final `test_results` function."
   ]
  },
  {
   "cell_type": "code",
   "execution_count": 220,
   "metadata": {},
   "outputs": [],
   "source": [
    "# load in packages\n",
    "from itertools import combinations\n",
    "\n",
    "from test_results import test_results, score\n",
    "import numpy as np\n",
    "import pandas as pd\n",
    "import scipy as sp\n",
    "\n",
    "import sklearn as skl\n",
    "#######################\n",
    "from sklearn.model_selection import train_test_split, GridSearchCV, KFold\n",
    "from sklearn.linear_model import LogisticRegression \n",
    "from sklearn.metrics import confusion_matrix, classification_report, f1_score\n",
    "from xgboost import XGBClassifier\n",
    "import time, pickle, decimal\n",
    "import hyperopt\n",
    "from hyperopt import fmin, tpe, hp, STATUS_OK, Trials\n",
    "from hyperopt import space_eval\n",
    "\n",
    "#######################\n",
    "import matplotlib.pyplot as plt\n",
    "import seaborn as sns\n",
    "%matplotlib inline\n",
    "\n",
    "from imblearn.over_sampling import SMOTE"
   ]
  },
  {
   "cell_type": "code",
   "execution_count": 3,
   "metadata": {},
   "outputs": [
    {
     "data": {
      "text/html": [
       "<div>\n",
       "<style scoped>\n",
       "    .dataframe tbody tr th:only-of-type {\n",
       "        vertical-align: middle;\n",
       "    }\n",
       "\n",
       "    .dataframe tbody tr th {\n",
       "        vertical-align: top;\n",
       "    }\n",
       "\n",
       "    .dataframe thead th {\n",
       "        text-align: right;\n",
       "    }\n",
       "</style>\n",
       "<table border=\"1\" class=\"dataframe\">\n",
       "  <thead>\n",
       "    <tr style=\"text-align: right;\">\n",
       "      <th></th>\n",
       "      <th>ID</th>\n",
       "      <th>Promotion</th>\n",
       "      <th>purchase</th>\n",
       "      <th>V1</th>\n",
       "      <th>V2</th>\n",
       "      <th>V3</th>\n",
       "      <th>V4</th>\n",
       "      <th>V5</th>\n",
       "      <th>V6</th>\n",
       "      <th>V7</th>\n",
       "    </tr>\n",
       "  </thead>\n",
       "  <tbody>\n",
       "    <tr>\n",
       "      <td>0</td>\n",
       "      <td>1</td>\n",
       "      <td>No</td>\n",
       "      <td>0</td>\n",
       "      <td>2</td>\n",
       "      <td>30.443518</td>\n",
       "      <td>-1.165083</td>\n",
       "      <td>1</td>\n",
       "      <td>1</td>\n",
       "      <td>3</td>\n",
       "      <td>2</td>\n",
       "    </tr>\n",
       "    <tr>\n",
       "      <td>1</td>\n",
       "      <td>3</td>\n",
       "      <td>No</td>\n",
       "      <td>0</td>\n",
       "      <td>3</td>\n",
       "      <td>32.159350</td>\n",
       "      <td>-0.645617</td>\n",
       "      <td>2</td>\n",
       "      <td>3</td>\n",
       "      <td>2</td>\n",
       "      <td>2</td>\n",
       "    </tr>\n",
       "    <tr>\n",
       "      <td>2</td>\n",
       "      <td>4</td>\n",
       "      <td>No</td>\n",
       "      <td>0</td>\n",
       "      <td>2</td>\n",
       "      <td>30.431659</td>\n",
       "      <td>0.133583</td>\n",
       "      <td>1</td>\n",
       "      <td>1</td>\n",
       "      <td>4</td>\n",
       "      <td>2</td>\n",
       "    </tr>\n",
       "    <tr>\n",
       "      <td>3</td>\n",
       "      <td>5</td>\n",
       "      <td>No</td>\n",
       "      <td>0</td>\n",
       "      <td>0</td>\n",
       "      <td>26.588914</td>\n",
       "      <td>-0.212728</td>\n",
       "      <td>2</td>\n",
       "      <td>1</td>\n",
       "      <td>4</td>\n",
       "      <td>2</td>\n",
       "    </tr>\n",
       "    <tr>\n",
       "      <td>4</td>\n",
       "      <td>8</td>\n",
       "      <td>Yes</td>\n",
       "      <td>0</td>\n",
       "      <td>3</td>\n",
       "      <td>28.044332</td>\n",
       "      <td>-0.385883</td>\n",
       "      <td>1</td>\n",
       "      <td>1</td>\n",
       "      <td>2</td>\n",
       "      <td>2</td>\n",
       "    </tr>\n",
       "  </tbody>\n",
       "</table>\n",
       "</div>"
      ],
      "text/plain": [
       "   ID Promotion  purchase  V1         V2        V3  V4  V5  V6  V7\n",
       "0   1        No         0   2  30.443518 -1.165083   1   1   3   2\n",
       "1   3        No         0   3  32.159350 -0.645617   2   3   2   2\n",
       "2   4        No         0   2  30.431659  0.133583   1   1   4   2\n",
       "3   5        No         0   0  26.588914 -0.212728   2   1   4   2\n",
       "4   8       Yes         0   3  28.044332 -0.385883   1   1   2   2"
      ]
     },
     "execution_count": 3,
     "metadata": {},
     "output_type": "execute_result"
    }
   ],
   "source": [
    "# load in the data\n",
    "train_data = pd.read_csv('./training.csv')\n",
    "train_data_new = train_data\n",
    "train_data_new.head()"
   ]
  },
  {
   "cell_type": "code",
   "execution_count": 4,
   "metadata": {},
   "outputs": [
    {
     "name": "stdout",
     "output_type": "stream",
     "text": [
      "<class 'pandas.core.frame.DataFrame'>\n",
      "RangeIndex: 84534 entries, 0 to 84533\n",
      "Data columns (total 10 columns):\n",
      "ID           84534 non-null int64\n",
      "Promotion    84534 non-null object\n",
      "purchase     84534 non-null int64\n",
      "V1           84534 non-null int64\n",
      "V2           84534 non-null float64\n",
      "V3           84534 non-null float64\n",
      "V4           84534 non-null int64\n",
      "V5           84534 non-null int64\n",
      "V6           84534 non-null int64\n",
      "V7           84534 non-null int64\n",
      "dtypes: float64(2), int64(7), object(1)\n",
      "memory usage: 6.4+ MB\n"
     ]
    }
   ],
   "source": [
    "train_data_new.info()"
   ]
  },
  {
   "cell_type": "code",
   "execution_count": 5,
   "metadata": {},
   "outputs": [
    {
     "data": {
      "text/html": [
       "<div>\n",
       "<style scoped>\n",
       "    .dataframe tbody tr th:only-of-type {\n",
       "        vertical-align: middle;\n",
       "    }\n",
       "\n",
       "    .dataframe tbody tr th {\n",
       "        vertical-align: top;\n",
       "    }\n",
       "\n",
       "    .dataframe thead th {\n",
       "        text-align: right;\n",
       "    }\n",
       "</style>\n",
       "<table border=\"1\" class=\"dataframe\">\n",
       "  <thead>\n",
       "    <tr style=\"text-align: right;\">\n",
       "      <th></th>\n",
       "      <th>ID</th>\n",
       "      <th>purchase</th>\n",
       "      <th>V1</th>\n",
       "      <th>V2</th>\n",
       "      <th>V3</th>\n",
       "      <th>V4</th>\n",
       "      <th>V5</th>\n",
       "      <th>V6</th>\n",
       "      <th>V7</th>\n",
       "    </tr>\n",
       "  </thead>\n",
       "  <tbody>\n",
       "    <tr>\n",
       "      <td>count</td>\n",
       "      <td>84534.000000</td>\n",
       "      <td>84534.000000</td>\n",
       "      <td>84534.000000</td>\n",
       "      <td>84534.000000</td>\n",
       "      <td>84534.000000</td>\n",
       "      <td>84534.000000</td>\n",
       "      <td>84534.000000</td>\n",
       "      <td>84534.000000</td>\n",
       "      <td>84534.000000</td>\n",
       "    </tr>\n",
       "    <tr>\n",
       "      <td>mean</td>\n",
       "      <td>62970.972413</td>\n",
       "      <td>0.012303</td>\n",
       "      <td>1.500662</td>\n",
       "      <td>29.973600</td>\n",
       "      <td>0.000190</td>\n",
       "      <td>1.679608</td>\n",
       "      <td>2.327643</td>\n",
       "      <td>2.502898</td>\n",
       "      <td>1.701694</td>\n",
       "    </tr>\n",
       "    <tr>\n",
       "      <td>std</td>\n",
       "      <td>36418.440539</td>\n",
       "      <td>0.110234</td>\n",
       "      <td>0.868234</td>\n",
       "      <td>5.010626</td>\n",
       "      <td>1.000485</td>\n",
       "      <td>0.466630</td>\n",
       "      <td>0.841167</td>\n",
       "      <td>1.117349</td>\n",
       "      <td>0.457517</td>\n",
       "    </tr>\n",
       "    <tr>\n",
       "      <td>min</td>\n",
       "      <td>1.000000</td>\n",
       "      <td>0.000000</td>\n",
       "      <td>0.000000</td>\n",
       "      <td>7.104007</td>\n",
       "      <td>-1.684550</td>\n",
       "      <td>1.000000</td>\n",
       "      <td>1.000000</td>\n",
       "      <td>1.000000</td>\n",
       "      <td>1.000000</td>\n",
       "    </tr>\n",
       "    <tr>\n",
       "      <td>25%</td>\n",
       "      <td>31467.250000</td>\n",
       "      <td>0.000000</td>\n",
       "      <td>1.000000</td>\n",
       "      <td>26.591501</td>\n",
       "      <td>-0.905350</td>\n",
       "      <td>1.000000</td>\n",
       "      <td>2.000000</td>\n",
       "      <td>2.000000</td>\n",
       "      <td>1.000000</td>\n",
       "    </tr>\n",
       "    <tr>\n",
       "      <td>50%</td>\n",
       "      <td>62827.500000</td>\n",
       "      <td>0.000000</td>\n",
       "      <td>2.000000</td>\n",
       "      <td>29.979744</td>\n",
       "      <td>-0.039572</td>\n",
       "      <td>2.000000</td>\n",
       "      <td>2.000000</td>\n",
       "      <td>3.000000</td>\n",
       "      <td>2.000000</td>\n",
       "    </tr>\n",
       "    <tr>\n",
       "      <td>75%</td>\n",
       "      <td>94438.750000</td>\n",
       "      <td>0.000000</td>\n",
       "      <td>2.000000</td>\n",
       "      <td>33.344593</td>\n",
       "      <td>0.826206</td>\n",
       "      <td>2.000000</td>\n",
       "      <td>3.000000</td>\n",
       "      <td>4.000000</td>\n",
       "      <td>2.000000</td>\n",
       "    </tr>\n",
       "    <tr>\n",
       "      <td>max</td>\n",
       "      <td>126184.000000</td>\n",
       "      <td>1.000000</td>\n",
       "      <td>3.000000</td>\n",
       "      <td>50.375913</td>\n",
       "      <td>1.691984</td>\n",
       "      <td>2.000000</td>\n",
       "      <td>4.000000</td>\n",
       "      <td>4.000000</td>\n",
       "      <td>2.000000</td>\n",
       "    </tr>\n",
       "  </tbody>\n",
       "</table>\n",
       "</div>"
      ],
      "text/plain": [
       "                  ID      purchase            V1            V2            V3  \\\n",
       "count   84534.000000  84534.000000  84534.000000  84534.000000  84534.000000   \n",
       "mean    62970.972413      0.012303      1.500662     29.973600      0.000190   \n",
       "std     36418.440539      0.110234      0.868234      5.010626      1.000485   \n",
       "min         1.000000      0.000000      0.000000      7.104007     -1.684550   \n",
       "25%     31467.250000      0.000000      1.000000     26.591501     -0.905350   \n",
       "50%     62827.500000      0.000000      2.000000     29.979744     -0.039572   \n",
       "75%     94438.750000      0.000000      2.000000     33.344593      0.826206   \n",
       "max    126184.000000      1.000000      3.000000     50.375913      1.691984   \n",
       "\n",
       "                 V4            V5            V6            V7  \n",
       "count  84534.000000  84534.000000  84534.000000  84534.000000  \n",
       "mean       1.679608      2.327643      2.502898      1.701694  \n",
       "std        0.466630      0.841167      1.117349      0.457517  \n",
       "min        1.000000      1.000000      1.000000      1.000000  \n",
       "25%        1.000000      2.000000      2.000000      1.000000  \n",
       "50%        2.000000      2.000000      3.000000      2.000000  \n",
       "75%        2.000000      3.000000      4.000000      2.000000  \n",
       "max        2.000000      4.000000      4.000000      2.000000  "
      ]
     },
     "execution_count": 5,
     "metadata": {},
     "output_type": "execute_result"
    }
   ],
   "source": [
    "train_data_new.describe()"
   ]
  },
  {
   "cell_type": "code",
   "execution_count": 6,
   "metadata": {},
   "outputs": [
    {
     "data": {
      "text/html": [
       "<div>\n",
       "<style scoped>\n",
       "    .dataframe tbody tr th:only-of-type {\n",
       "        vertical-align: middle;\n",
       "    }\n",
       "\n",
       "    .dataframe tbody tr th {\n",
       "        vertical-align: top;\n",
       "    }\n",
       "\n",
       "    .dataframe thead th {\n",
       "        text-align: right;\n",
       "    }\n",
       "</style>\n",
       "<table border=\"1\" class=\"dataframe\">\n",
       "  <thead>\n",
       "    <tr style=\"text-align: right;\">\n",
       "      <th></th>\n",
       "      <th></th>\n",
       "      <th>ID</th>\n",
       "      <th>V1</th>\n",
       "      <th>V2</th>\n",
       "      <th>V3</th>\n",
       "      <th>V4</th>\n",
       "      <th>V5</th>\n",
       "      <th>V6</th>\n",
       "      <th>V7</th>\n",
       "    </tr>\n",
       "    <tr>\n",
       "      <th>Promotion</th>\n",
       "      <th>purchase</th>\n",
       "      <th></th>\n",
       "      <th></th>\n",
       "      <th></th>\n",
       "      <th></th>\n",
       "      <th></th>\n",
       "      <th></th>\n",
       "      <th></th>\n",
       "      <th></th>\n",
       "    </tr>\n",
       "  </thead>\n",
       "  <tbody>\n",
       "    <tr>\n",
       "      <td rowspan=\"2\" valign=\"top\">No</td>\n",
       "      <td>0</td>\n",
       "      <td>41851</td>\n",
       "      <td>41851</td>\n",
       "      <td>41851</td>\n",
       "      <td>41851</td>\n",
       "      <td>41851</td>\n",
       "      <td>41851</td>\n",
       "      <td>41851</td>\n",
       "      <td>41851</td>\n",
       "    </tr>\n",
       "    <tr>\n",
       "      <td>1</td>\n",
       "      <td>319</td>\n",
       "      <td>319</td>\n",
       "      <td>319</td>\n",
       "      <td>319</td>\n",
       "      <td>319</td>\n",
       "      <td>319</td>\n",
       "      <td>319</td>\n",
       "      <td>319</td>\n",
       "    </tr>\n",
       "    <tr>\n",
       "      <td rowspan=\"2\" valign=\"top\">Yes</td>\n",
       "      <td>0</td>\n",
       "      <td>41643</td>\n",
       "      <td>41643</td>\n",
       "      <td>41643</td>\n",
       "      <td>41643</td>\n",
       "      <td>41643</td>\n",
       "      <td>41643</td>\n",
       "      <td>41643</td>\n",
       "      <td>41643</td>\n",
       "    </tr>\n",
       "    <tr>\n",
       "      <td>1</td>\n",
       "      <td>721</td>\n",
       "      <td>721</td>\n",
       "      <td>721</td>\n",
       "      <td>721</td>\n",
       "      <td>721</td>\n",
       "      <td>721</td>\n",
       "      <td>721</td>\n",
       "      <td>721</td>\n",
       "    </tr>\n",
       "  </tbody>\n",
       "</table>\n",
       "</div>"
      ],
      "text/plain": [
       "                       ID     V1     V2     V3     V4     V5     V6     V7\n",
       "Promotion purchase                                                        \n",
       "No        0         41851  41851  41851  41851  41851  41851  41851  41851\n",
       "          1           319    319    319    319    319    319    319    319\n",
       "Yes       0         41643  41643  41643  41643  41643  41643  41643  41643\n",
       "          1           721    721    721    721    721    721    721    721"
      ]
     },
     "execution_count": 6,
     "metadata": {},
     "output_type": "execute_result"
    }
   ],
   "source": [
    "train_data_new.groupby(['Promotion', 'purchase']).count()"
   ]
  },
  {
   "cell_type": "code",
   "execution_count": 7,
   "metadata": {},
   "outputs": [],
   "source": [
    "new_promotion_col = pd.get_dummies(train_data_new['Promotion'], dummy_na=False, drop_first=True)"
   ]
  },
  {
   "cell_type": "code",
   "execution_count": 8,
   "metadata": {},
   "outputs": [
    {
     "data": {
      "text/html": [
       "<div>\n",
       "<style scoped>\n",
       "    .dataframe tbody tr th:only-of-type {\n",
       "        vertical-align: middle;\n",
       "    }\n",
       "\n",
       "    .dataframe tbody tr th {\n",
       "        vertical-align: top;\n",
       "    }\n",
       "\n",
       "    .dataframe thead th {\n",
       "        text-align: right;\n",
       "    }\n",
       "</style>\n",
       "<table border=\"1\" class=\"dataframe\">\n",
       "  <thead>\n",
       "    <tr style=\"text-align: right;\">\n",
       "      <th></th>\n",
       "      <th>Yes</th>\n",
       "    </tr>\n",
       "  </thead>\n",
       "  <tbody>\n",
       "    <tr>\n",
       "      <td>0</td>\n",
       "      <td>0</td>\n",
       "    </tr>\n",
       "    <tr>\n",
       "      <td>1</td>\n",
       "      <td>0</td>\n",
       "    </tr>\n",
       "    <tr>\n",
       "      <td>2</td>\n",
       "      <td>0</td>\n",
       "    </tr>\n",
       "    <tr>\n",
       "      <td>3</td>\n",
       "      <td>0</td>\n",
       "    </tr>\n",
       "    <tr>\n",
       "      <td>4</td>\n",
       "      <td>1</td>\n",
       "    </tr>\n",
       "  </tbody>\n",
       "</table>\n",
       "</div>"
      ],
      "text/plain": [
       "   Yes\n",
       "0    0\n",
       "1    0\n",
       "2    0\n",
       "3    0\n",
       "4    1"
      ]
     },
     "execution_count": 8,
     "metadata": {},
     "output_type": "execute_result"
    }
   ],
   "source": [
    "new_promotion_col.head()"
   ]
  },
  {
   "cell_type": "code",
   "execution_count": 9,
   "metadata": {},
   "outputs": [],
   "source": [
    "train_data_new = pd.concat([train_data_new, new_promotion_col], axis=1)"
   ]
  },
  {
   "cell_type": "code",
   "execution_count": 10,
   "metadata": {},
   "outputs": [
    {
     "data": {
      "text/html": [
       "<div>\n",
       "<style scoped>\n",
       "    .dataframe tbody tr th:only-of-type {\n",
       "        vertical-align: middle;\n",
       "    }\n",
       "\n",
       "    .dataframe tbody tr th {\n",
       "        vertical-align: top;\n",
       "    }\n",
       "\n",
       "    .dataframe thead th {\n",
       "        text-align: right;\n",
       "    }\n",
       "</style>\n",
       "<table border=\"1\" class=\"dataframe\">\n",
       "  <thead>\n",
       "    <tr style=\"text-align: right;\">\n",
       "      <th></th>\n",
       "      <th>ID</th>\n",
       "      <th>Promotion</th>\n",
       "      <th>purchase</th>\n",
       "      <th>V1</th>\n",
       "      <th>V2</th>\n",
       "      <th>V3</th>\n",
       "      <th>V4</th>\n",
       "      <th>V5</th>\n",
       "      <th>V6</th>\n",
       "      <th>V7</th>\n",
       "      <th>Yes</th>\n",
       "    </tr>\n",
       "  </thead>\n",
       "  <tbody>\n",
       "    <tr>\n",
       "      <td>0</td>\n",
       "      <td>1</td>\n",
       "      <td>No</td>\n",
       "      <td>0</td>\n",
       "      <td>2</td>\n",
       "      <td>30.443518</td>\n",
       "      <td>-1.165083</td>\n",
       "      <td>1</td>\n",
       "      <td>1</td>\n",
       "      <td>3</td>\n",
       "      <td>2</td>\n",
       "      <td>0</td>\n",
       "    </tr>\n",
       "    <tr>\n",
       "      <td>1</td>\n",
       "      <td>3</td>\n",
       "      <td>No</td>\n",
       "      <td>0</td>\n",
       "      <td>3</td>\n",
       "      <td>32.159350</td>\n",
       "      <td>-0.645617</td>\n",
       "      <td>2</td>\n",
       "      <td>3</td>\n",
       "      <td>2</td>\n",
       "      <td>2</td>\n",
       "      <td>0</td>\n",
       "    </tr>\n",
       "    <tr>\n",
       "      <td>2</td>\n",
       "      <td>4</td>\n",
       "      <td>No</td>\n",
       "      <td>0</td>\n",
       "      <td>2</td>\n",
       "      <td>30.431659</td>\n",
       "      <td>0.133583</td>\n",
       "      <td>1</td>\n",
       "      <td>1</td>\n",
       "      <td>4</td>\n",
       "      <td>2</td>\n",
       "      <td>0</td>\n",
       "    </tr>\n",
       "    <tr>\n",
       "      <td>3</td>\n",
       "      <td>5</td>\n",
       "      <td>No</td>\n",
       "      <td>0</td>\n",
       "      <td>0</td>\n",
       "      <td>26.588914</td>\n",
       "      <td>-0.212728</td>\n",
       "      <td>2</td>\n",
       "      <td>1</td>\n",
       "      <td>4</td>\n",
       "      <td>2</td>\n",
       "      <td>0</td>\n",
       "    </tr>\n",
       "    <tr>\n",
       "      <td>4</td>\n",
       "      <td>8</td>\n",
       "      <td>Yes</td>\n",
       "      <td>0</td>\n",
       "      <td>3</td>\n",
       "      <td>28.044332</td>\n",
       "      <td>-0.385883</td>\n",
       "      <td>1</td>\n",
       "      <td>1</td>\n",
       "      <td>2</td>\n",
       "      <td>2</td>\n",
       "      <td>1</td>\n",
       "    </tr>\n",
       "  </tbody>\n",
       "</table>\n",
       "</div>"
      ],
      "text/plain": [
       "   ID Promotion  purchase  V1         V2        V3  V4  V5  V6  V7  Yes\n",
       "0   1        No         0   2  30.443518 -1.165083   1   1   3   2    0\n",
       "1   3        No         0   3  32.159350 -0.645617   2   3   2   2    0\n",
       "2   4        No         0   2  30.431659  0.133583   1   1   4   2    0\n",
       "3   5        No         0   0  26.588914 -0.212728   2   1   4   2    0\n",
       "4   8       Yes         0   3  28.044332 -0.385883   1   1   2   2    1"
      ]
     },
     "execution_count": 10,
     "metadata": {},
     "output_type": "execute_result"
    }
   ],
   "source": [
    "train_data_new.head()"
   ]
  },
  {
   "cell_type": "code",
   "execution_count": 11,
   "metadata": {},
   "outputs": [],
   "source": [
    "train_data_new.drop(columns='Promotion', inplace=True)"
   ]
  },
  {
   "cell_type": "code",
   "execution_count": 12,
   "metadata": {},
   "outputs": [
    {
     "data": {
      "text/html": [
       "<div>\n",
       "<style scoped>\n",
       "    .dataframe tbody tr th:only-of-type {\n",
       "        vertical-align: middle;\n",
       "    }\n",
       "\n",
       "    .dataframe tbody tr th {\n",
       "        vertical-align: top;\n",
       "    }\n",
       "\n",
       "    .dataframe thead th {\n",
       "        text-align: right;\n",
       "    }\n",
       "</style>\n",
       "<table border=\"1\" class=\"dataframe\">\n",
       "  <thead>\n",
       "    <tr style=\"text-align: right;\">\n",
       "      <th></th>\n",
       "      <th>ID</th>\n",
       "      <th>purchase</th>\n",
       "      <th>V1</th>\n",
       "      <th>V2</th>\n",
       "      <th>V3</th>\n",
       "      <th>V4</th>\n",
       "      <th>V5</th>\n",
       "      <th>V6</th>\n",
       "      <th>V7</th>\n",
       "      <th>Yes</th>\n",
       "    </tr>\n",
       "  </thead>\n",
       "  <tbody>\n",
       "    <tr>\n",
       "      <td>0</td>\n",
       "      <td>1</td>\n",
       "      <td>0</td>\n",
       "      <td>2</td>\n",
       "      <td>30.443518</td>\n",
       "      <td>-1.165083</td>\n",
       "      <td>1</td>\n",
       "      <td>1</td>\n",
       "      <td>3</td>\n",
       "      <td>2</td>\n",
       "      <td>0</td>\n",
       "    </tr>\n",
       "    <tr>\n",
       "      <td>1</td>\n",
       "      <td>3</td>\n",
       "      <td>0</td>\n",
       "      <td>3</td>\n",
       "      <td>32.159350</td>\n",
       "      <td>-0.645617</td>\n",
       "      <td>2</td>\n",
       "      <td>3</td>\n",
       "      <td>2</td>\n",
       "      <td>2</td>\n",
       "      <td>0</td>\n",
       "    </tr>\n",
       "    <tr>\n",
       "      <td>2</td>\n",
       "      <td>4</td>\n",
       "      <td>0</td>\n",
       "      <td>2</td>\n",
       "      <td>30.431659</td>\n",
       "      <td>0.133583</td>\n",
       "      <td>1</td>\n",
       "      <td>1</td>\n",
       "      <td>4</td>\n",
       "      <td>2</td>\n",
       "      <td>0</td>\n",
       "    </tr>\n",
       "    <tr>\n",
       "      <td>3</td>\n",
       "      <td>5</td>\n",
       "      <td>0</td>\n",
       "      <td>0</td>\n",
       "      <td>26.588914</td>\n",
       "      <td>-0.212728</td>\n",
       "      <td>2</td>\n",
       "      <td>1</td>\n",
       "      <td>4</td>\n",
       "      <td>2</td>\n",
       "      <td>0</td>\n",
       "    </tr>\n",
       "    <tr>\n",
       "      <td>4</td>\n",
       "      <td>8</td>\n",
       "      <td>0</td>\n",
       "      <td>3</td>\n",
       "      <td>28.044332</td>\n",
       "      <td>-0.385883</td>\n",
       "      <td>1</td>\n",
       "      <td>1</td>\n",
       "      <td>2</td>\n",
       "      <td>2</td>\n",
       "      <td>1</td>\n",
       "    </tr>\n",
       "  </tbody>\n",
       "</table>\n",
       "</div>"
      ],
      "text/plain": [
       "   ID  purchase  V1         V2        V3  V4  V5  V6  V7  Yes\n",
       "0   1         0   2  30.443518 -1.165083   1   1   3   2    0\n",
       "1   3         0   3  32.159350 -0.645617   2   3   2   2    0\n",
       "2   4         0   2  30.431659  0.133583   1   1   4   2    0\n",
       "3   5         0   0  26.588914 -0.212728   2   1   4   2    0\n",
       "4   8         0   3  28.044332 -0.385883   1   1   2   2    1"
      ]
     },
     "execution_count": 12,
     "metadata": {},
     "output_type": "execute_result"
    }
   ],
   "source": [
    "train_data_new.head()"
   ]
  },
  {
   "cell_type": "code",
   "execution_count": 13,
   "metadata": {},
   "outputs": [
    {
     "data": {
      "text/plain": [
       "<matplotlib.axes._subplots.AxesSubplot at 0x142bd4390>"
      ]
     },
     "execution_count": 13,
     "metadata": {},
     "output_type": "execute_result"
    },
    {
     "data": {
      "image/png": "[encoded data removed]",
      "text/plain": [
       "<Figure size 1296x576 with 2 Axes>"
      ]
     },
     "metadata": {
      "needs_background": "light"
     },
     "output_type": "display_data"
    }
   ],
   "source": [
    "plt.figure(figsize=(18,8))\n",
    "sns.heatmap(train_data_new.corr(), annot=True)"
   ]
  },
  {
   "cell_type": "code",
   "execution_count": 14,
   "metadata": {},
   "outputs": [
    {
     "data": {
      "text/plain": [
       "Index(['ID', 'purchase', 'V1', 'V2', 'V3', 'V4', 'V5', 'V6', 'V7', 'Yes'], dtype='object')"
      ]
     },
     "execution_count": 14,
     "metadata": {},
     "output_type": "execute_result"
    }
   ],
   "source": [
    "train_data_new.columns"
   ]
  },
  {
   "cell_type": "code",
   "execution_count": 25,
   "metadata": {},
   "outputs": [],
   "source": [
    "X = train_data_new[['Yes', 'V1', 'V2', 'V3', 'V4', 'V5', 'V6', 'V7']]\n",
    "#X = train_data_new[['V1', 'V2', 'V3', 'V4', 'V5', 'V6', 'V7']]\n",
    "y = train_data_new['purchase']\n",
    "X_train, X_test, y_train, y_test = train_test_split(X, y, test_size=0.4, random_state=101)\n"
   ]
  },
  {
   "cell_type": "code",
   "execution_count": 26,
   "metadata": {},
   "outputs": [],
   "source": [
    "logmodel = LogisticRegression()"
   ]
  },
  {
   "cell_type": "code",
   "execution_count": 27,
   "metadata": {},
   "outputs": [
    {
     "data": {
      "text/plain": [
       "LogisticRegression(C=1.0, class_weight=None, dual=False, fit_intercept=True,\n",
       "                   intercept_scaling=1, l1_ratio=None, max_iter=100,\n",
       "                   multi_class='auto', n_jobs=None, penalty='l2',\n",
       "                   random_state=None, solver='lbfgs', tol=0.0001, verbose=0,\n",
       "                   warm_start=False)"
      ]
     },
     "execution_count": 27,
     "metadata": {},
     "output_type": "execute_result"
    }
   ],
   "source": [
    "logmodel.fit(X_train, y_train)"
   ]
  },
  {
   "cell_type": "code",
   "execution_count": 28,
   "metadata": {},
   "outputs": [],
   "source": [
    "prediction = logmodel.predict(X_test)"
   ]
  },
  {
   "cell_type": "code",
   "execution_count": 29,
   "metadata": {},
   "outputs": [
    {
     "name": "stdout",
     "output_type": "stream",
     "text": [
      "              precision    recall  f1-score   support\n",
      "\n",
      "           0       0.99      1.00      0.99     33387\n",
      "           1       0.00      0.00      0.00       427\n",
      "\n",
      "    accuracy                           0.99     33814\n",
      "   macro avg       0.49      0.50      0.50     33814\n",
      "weighted avg       0.97      0.99      0.98     33814\n",
      "\n"
     ]
    },
    {
     "name": "stderr",
     "output_type": "stream",
     "text": [
      "/Users/akbaralishaikh/opt/anaconda3/lib/python3.7/site-packages/sklearn/metrics/_classification.py:1272: UndefinedMetricWarning: Precision and F-score are ill-defined and being set to 0.0 in labels with no predicted samples. Use `zero_division` parameter to control this behavior.\n",
      "  _warn_prf(average, modifier, msg_start, len(result))\n"
     ]
    }
   ],
   "source": [
    "print(classification_report(y_test,prediction))"
   ]
  },
  {
   "cell_type": "code",
   "execution_count": 30,
   "metadata": {},
   "outputs": [
    {
     "name": "stdout",
     "output_type": "stream",
     "text": [
      "[[33387     0]\n",
      " [  427     0]]\n"
     ]
    }
   ],
   "source": [
    "print(confusion_matrix(y_test,prediction))"
   ]
  },
  {
   "cell_type": "code",
   "execution_count": 31,
   "metadata": {},
   "outputs": [
    {
     "data": {
      "text/html": [
       "<div>\n",
       "<style scoped>\n",
       "    .dataframe tbody tr th:only-of-type {\n",
       "        vertical-align: middle;\n",
       "    }\n",
       "\n",
       "    .dataframe tbody tr th {\n",
       "        vertical-align: top;\n",
       "    }\n",
       "\n",
       "    .dataframe thead th {\n",
       "        text-align: right;\n",
       "    }\n",
       "</style>\n",
       "<table border=\"1\" class=\"dataframe\">\n",
       "  <thead>\n",
       "    <tr style=\"text-align: right;\">\n",
       "      <th></th>\n",
       "      <th>ID</th>\n",
       "      <th>purchase</th>\n",
       "      <th>V1</th>\n",
       "      <th>V2</th>\n",
       "      <th>V3</th>\n",
       "      <th>V4</th>\n",
       "      <th>V5</th>\n",
       "      <th>V6</th>\n",
       "      <th>V7</th>\n",
       "      <th>Yes</th>\n",
       "    </tr>\n",
       "  </thead>\n",
       "  <tbody>\n",
       "    <tr>\n",
       "      <td>107</td>\n",
       "      <td>162</td>\n",
       "      <td>1</td>\n",
       "      <td>1</td>\n",
       "      <td>33.030562</td>\n",
       "      <td>-0.732194</td>\n",
       "      <td>2</td>\n",
       "      <td>1</td>\n",
       "      <td>1</td>\n",
       "      <td>1</td>\n",
       "      <td>1</td>\n",
       "    </tr>\n",
       "    <tr>\n",
       "      <td>328</td>\n",
       "      <td>503</td>\n",
       "      <td>1</td>\n",
       "      <td>3</td>\n",
       "      <td>31.760033</td>\n",
       "      <td>1.518828</td>\n",
       "      <td>2</td>\n",
       "      <td>1</td>\n",
       "      <td>2</td>\n",
       "      <td>2</td>\n",
       "      <td>1</td>\n",
       "    </tr>\n",
       "    <tr>\n",
       "      <td>352</td>\n",
       "      <td>534</td>\n",
       "      <td>1</td>\n",
       "      <td>2</td>\n",
       "      <td>17.512709</td>\n",
       "      <td>1.259095</td>\n",
       "      <td>2</td>\n",
       "      <td>3</td>\n",
       "      <td>4</td>\n",
       "      <td>2</td>\n",
       "      <td>1</td>\n",
       "    </tr>\n",
       "    <tr>\n",
       "      <td>383</td>\n",
       "      <td>580</td>\n",
       "      <td>1</td>\n",
       "      <td>1</td>\n",
       "      <td>31.043735</td>\n",
       "      <td>-1.338239</td>\n",
       "      <td>2</td>\n",
       "      <td>1</td>\n",
       "      <td>2</td>\n",
       "      <td>1</td>\n",
       "      <td>1</td>\n",
       "    </tr>\n",
       "    <tr>\n",
       "      <td>423</td>\n",
       "      <td>639</td>\n",
       "      <td>1</td>\n",
       "      <td>1</td>\n",
       "      <td>34.901993</td>\n",
       "      <td>-0.905350</td>\n",
       "      <td>2</td>\n",
       "      <td>3</td>\n",
       "      <td>2</td>\n",
       "      <td>2</td>\n",
       "      <td>0</td>\n",
       "    </tr>\n",
       "  </tbody>\n",
       "</table>\n",
       "</div>"
      ],
      "text/plain": [
       "      ID  purchase  V1         V2        V3  V4  V5  V6  V7  Yes\n",
       "107  162         1   1  33.030562 -0.732194   2   1   1   1    1\n",
       "328  503         1   3  31.760033  1.518828   2   1   2   2    1\n",
       "352  534         1   2  17.512709  1.259095   2   3   4   2    1\n",
       "383  580         1   1  31.043735 -1.338239   2   1   2   1    1\n",
       "423  639         1   1  34.901993 -0.905350   2   3   2   2    0"
      ]
     },
     "execution_count": 31,
     "metadata": {},
     "output_type": "execute_result"
    }
   ],
   "source": [
    "train_data_new[(train_data_new['purchase']==1)].head()"
   ]
  },
  {
   "cell_type": "code",
   "execution_count": 32,
   "metadata": {},
   "outputs": [],
   "source": [
    "train_data_purchased = train_data_new[(train_data_new['purchase']==1)]"
   ]
  },
  {
   "cell_type": "code",
   "execution_count": 33,
   "metadata": {},
   "outputs": [
    {
     "data": {
      "text/plain": [
       "<matplotlib.axes._subplots.AxesSubplot at 0x1460a7ad0>"
      ]
     },
     "execution_count": 33,
     "metadata": {},
     "output_type": "execute_result"
    },
    {
     "data": {
      "image/png": "[encoded data removed]",
      "text/plain": [
       "<Figure size 1296x576 with 2 Axes>"
      ]
     },
     "metadata": {
      "needs_background": "light"
     },
     "output_type": "display_data"
    }
   ],
   "source": [
    "plt.figure(figsize=(18,8))\n",
    "sns.heatmap(train_data_purchased.corr(), annot=True)"
   ]
  },
  {
   "cell_type": "code",
   "execution_count": 44,
   "metadata": {},
   "outputs": [],
   "source": [
    "#!pip install -U imbalanced-learn\n",
    "#!pip install Tensorflow\n",
    "#!pip install imblearn\n",
    "#!pip install imbalanced-learn\n",
    "#!pip install xgboost\n",
    "#!pip install scikit-learn\n",
    "#!pip install scikit-learn==0.22.1 \n",
    "##################################################\n",
    "#from collections import Counter\n",
    "#from sklearn.datasets import make_classification\n",
    "#from imblearn.over_sampling import SMOTE\n",
    "#import imblearn as imb\n",
    "#import imblearn.over_sampling.SMOTE as smt\n",
    "##################################################"
   ]
  },
  {
   "cell_type": "code",
   "execution_count": 39,
   "metadata": {},
   "outputs": [],
   "source": [
    "\n",
    "# Resample the minority class. You can change the strategy to 'auto' if you are not sure.\n",
    "sm = SMOTE(sampling_strategy='minority', random_state=7)\n",
    "\n",
    "# Fit the model to generate the data.\n",
    "#oversampled_trainX, oversampled_trainY = sm.fit_sample(train_data_new.drop('Class', axis=1), credit_df['Class'])\n",
    "#oversampled_train = pd.concat([pd.DataFrame(oversampled_trainY), pd.DataFrame(oversampled_trainX)], axis=1)\n",
    "#oversampled_train.columns = normalized_df.columns"
   ]
  },
  {
   "cell_type": "code",
   "execution_count": 40,
   "metadata": {},
   "outputs": [],
   "source": [
    "sm = SMOTE(random_state=42, ratio=1.0)"
   ]
  },
  {
   "cell_type": "code",
   "execution_count": 41,
   "metadata": {},
   "outputs": [
    {
     "name": "stderr",
     "output_type": "stream",
     "text": [
      "/Users/akbaralishaikh/opt/anaconda3/lib/python3.7/site-packages/sklearn/utils/deprecation.py:87: FutureWarning: Function safe_indexing is deprecated; safe_indexing is deprecated in version 0.22 and will be removed in version 0.24.\n",
      "  warnings.warn(msg, category=FutureWarning)\n"
     ]
    }
   ],
   "source": [
    "X_train_res, y_train_res = sm.fit_sample(X_train, y_train.ravell()) "
   ]
  },
  {
   "cell_type": "code",
   "execution_count": 42,
   "metadata": {},
   "outputs": [
    {
     "name": "stdout",
     "output_type": "stream",
     "text": [
      "After OverSampling, the shape of train_X: (100214, 8)\n",
      "After OverSampling, the shape of train_y: (100214,) \n",
      "\n",
      "After OverSampling, counts of label '1': 50107\n",
      "After OverSampling, counts of label '0': 50107\n"
     ]
    }
   ],
   "source": [
    "print('After OverSampling, the shape of train_X: {}'.format(X_train_res.shape)) \n",
    "print('After OverSampling, the shape of train_y: {} \\n'.format(y_train_res.shape)) \n",
    "  \n",
    "print(\"After OverSampling, counts of label '1': {}\".format(sum(y_train_res == 1))) \n",
    "print(\"After OverSampling, counts of label '0': {}\".format(sum(y_train_res == 0))) "
   ]
  },
  {
   "cell_type": "code",
   "execution_count": 163,
   "metadata": {},
   "outputs": [
    {
     "name": "stdout",
     "output_type": "stream",
     "text": [
      "              precision    recall  f1-score   support\n",
      "\n",
      "       False       0.99      0.90      0.94     16699\n",
      "        True       0.01      0.09      0.02       208\n",
      "\n",
      "    accuracy                           0.89     16907\n",
      "   macro avg       0.50      0.50      0.48     16907\n",
      "weighted avg       0.98      0.89      0.93     16907\n",
      "\n"
     ]
    }
   ],
   "source": [
    "lr1 = LogisticRegression() \n",
    "lr1.fit(X_train_res, y_train_res.ravel()) \n",
    "predictions = lr1.predict(X_test)\n",
    "print(classification_report(y_test, predictions)) "
   ]
  },
  {
   "cell_type": "code",
   "execution_count": null,
   "metadata": {},
   "outputs": [],
   "source": [
    "#######################################"
   ]
  },
  {
   "cell_type": "code",
   "execution_count": 164,
   "metadata": {},
   "outputs": [],
   "source": [
    "train_data_1 = train_data.copy()\n"
   ]
  },
  {
   "cell_type": "code",
   "execution_count": 165,
   "metadata": {},
   "outputs": [],
   "source": [
    "train_data_1[\"response\"] = train_data_1[\"purchase\"] == 1\n"
   ]
  },
  {
   "cell_type": "code",
   "execution_count": 166,
   "metadata": {},
   "outputs": [
    {
     "data": {
      "text/plain": [
       "array([False,  True])"
      ]
     },
     "execution_count": 166,
     "metadata": {},
     "output_type": "execute_result"
    }
   ],
   "source": [
    "train_data_1[\"response\"].unique()"
   ]
  },
  {
   "cell_type": "code",
   "execution_count": 167,
   "metadata": {},
   "outputs": [],
   "source": [
    "features = [\"V\"+str(x) for x in range(1,8)] + [\"Promotion\"]"
   ]
  },
  {
   "cell_type": "code",
   "execution_count": 168,
   "metadata": {},
   "outputs": [],
   "source": [
    "X = pd.get_dummies(train_data_1[features])"
   ]
  },
  {
   "cell_type": "code",
   "execution_count": 169,
   "metadata": {},
   "outputs": [
    {
     "data": {
      "text/plain": [
       "(84534, 9)"
      ]
     },
     "execution_count": 169,
     "metadata": {},
     "output_type": "execute_result"
    }
   ],
   "source": [
    "X.shape"
   ]
  },
  {
   "cell_type": "code",
   "execution_count": 170,
   "metadata": {},
   "outputs": [],
   "source": [
    "features=X.columns"
   ]
  },
  {
   "cell_type": "code",
   "execution_count": 171,
   "metadata": {},
   "outputs": [],
   "source": [
    "Y = train_data_1[\"response\"]"
   ]
  },
  {
   "cell_type": "code",
   "execution_count": 172,
   "metadata": {},
   "outputs": [
    {
     "data": {
      "text/plain": [
       "False    83494\n",
       "True      1040\n",
       "Name: response, dtype: int64"
      ]
     },
     "execution_count": 172,
     "metadata": {},
     "output_type": "execute_result"
    }
   ],
   "source": [
    "Y.value_counts()"
   ]
  },
  {
   "cell_type": "code",
   "execution_count": 173,
   "metadata": {},
   "outputs": [],
   "source": [
    "X_train, X_test, y_train, y_test = train_test_split(X, Y, test_size=0.2, random_state=42)"
   ]
  },
  {
   "cell_type": "code",
   "execution_count": 174,
   "metadata": {},
   "outputs": [],
   "source": [
    "sm = SMOTE(random_state=42, ratio=1.0)"
   ]
  },
  {
   "cell_type": "code",
   "execution_count": 175,
   "metadata": {},
   "outputs": [
    {
     "name": "stderr",
     "output_type": "stream",
     "text": [
      "/Users/akbaralishaikh/opt/anaconda3/lib/python3.7/site-packages/sklearn/utils/deprecation.py:87: FutureWarning: Function safe_indexing is deprecated; safe_indexing is deprecated in version 0.22 and will be removed in version 0.24.\n",
      "  warnings.warn(msg, category=FutureWarning)\n"
     ]
    }
   ],
   "source": [
    "X_balanced_train, Y_balanced_train = sm.fit_resample(X_train, y_train)"
   ]
  },
  {
   "cell_type": "code",
   "execution_count": 176,
   "metadata": {},
   "outputs": [],
   "source": [
    "X_balanced_train = pd.DataFrame(X_balanced_train, columns=features)"
   ]
  },
  {
   "cell_type": "code",
   "execution_count": 177,
   "metadata": {},
   "outputs": [
    {
     "data": {
      "text/plain": [
       "Index(['V1', 'V2', 'V3', 'V4', 'V5', 'V6', 'V7', 'Promotion_No',\n",
       "       'Promotion_Yes'],\n",
       "      dtype='object')"
      ]
     },
     "execution_count": 177,
     "metadata": {},
     "output_type": "execute_result"
    }
   ],
   "source": [
    "X_balanced_train.columns"
   ]
  },
  {
   "cell_type": "code",
   "execution_count": 178,
   "metadata": {},
   "outputs": [],
   "source": [
    "Y_balanced_train = pd.Series(Y_balanced_train)"
   ]
  },
  {
   "cell_type": "code",
   "execution_count": 179,
   "metadata": {},
   "outputs": [
    {
     "name": "stdout",
     "output_type": "stream",
     "text": [
      "Elapsed computation time: 128.589 mins\n"
     ]
    }
   ],
   "source": [
    "\n",
    "cv = GridSearchCV(estimator=XGBClassifier(), param_grid={\n",
    "        \"max_depth\": range(5,8,1),\n",
    "        \"min_child_weight\": [5, 10, 20, 50],\n",
    "        \"gamma\": [0, 0.1, 0.2],\n",
    "        \"random_state\": [42],\n",
    "        \"n_estimators\": [1000]\n",
    "        },\n",
    "        scoring=\"f1\",\n",
    "         cv=3)\n",
    "\n",
    "\n",
    "start_time = time.time()\n",
    "fit_params= {\n",
    "            \"eval_set\": [(X_test, y_test)],\n",
    "            \"eval_metric\": \"logloss\",\n",
    "            \"early_stopping_rounds\":20,\n",
    "            \"verbose\": 0\n",
    "        }\n",
    "cv.fit(X_balanced_train, Y_balanced_train, **fit_params)\n",
    "elapsed_time = (time.time() - start_time) / 60\n",
    "print('Elapsed computation time: {:.3f} mins'.format(elapsed_time))"
   ]
  },
  {
   "cell_type": "code",
   "execution_count": 192,
   "metadata": {},
   "outputs": [
    {
     "data": {
      "text/plain": [
       "{'gamma': 0.1,\n",
       " 'max_depth': 6,\n",
       " 'min_child_weight': 10,\n",
       " 'n_estimators': 1000,\n",
       " 'random_state': 42}"
      ]
     },
     "execution_count": 192,
     "metadata": {},
     "output_type": "execute_result"
    }
   ],
   "source": [
    "cv.best_params_"
   ]
  },
  {
   "cell_type": "code",
   "execution_count": 193,
   "metadata": {},
   "outputs": [
    {
     "name": "stdout",
     "output_type": "stream",
     "text": [
      "[0]\tvalidation_0-logloss:0.651736\n",
      "Will train until validation_0-logloss hasn't improved in 10 rounds.\n",
      "[10]\tvalidation_0-logloss:0.467548\n",
      "[20]\tvalidation_0-logloss:0.361545\n",
      "[30]\tvalidation_0-logloss:0.298454\n",
      "[40]\tvalidation_0-logloss:0.25701\n",
      "[50]\tvalidation_0-logloss:0.230457\n",
      "[60]\tvalidation_0-logloss:0.211893\n",
      "[70]\tvalidation_0-logloss:0.19325\n",
      "[80]\tvalidation_0-logloss:0.179203\n",
      "[90]\tvalidation_0-logloss:0.163888\n",
      "[100]\tvalidation_0-logloss:0.152161\n",
      "[110]\tvalidation_0-logloss:0.139522\n",
      "[120]\tvalidation_0-logloss:0.132642\n",
      "[130]\tvalidation_0-logloss:0.124634\n",
      "[140]\tvalidation_0-logloss:0.117031\n",
      "[150]\tvalidation_0-logloss:0.110356\n",
      "[160]\tvalidation_0-logloss:0.104467\n",
      "[170]\tvalidation_0-logloss:0.100311\n",
      "[180]\tvalidation_0-logloss:0.094953\n",
      "[190]\tvalidation_0-logloss:0.090794\n",
      "[200]\tvalidation_0-logloss:0.088276\n",
      "[210]\tvalidation_0-logloss:0.085795\n",
      "[220]\tvalidation_0-logloss:0.084368\n",
      "[230]\tvalidation_0-logloss:0.082699\n",
      "[240]\tvalidation_0-logloss:0.080333\n",
      "[250]\tvalidation_0-logloss:0.079036\n",
      "[260]\tvalidation_0-logloss:0.077853\n",
      "[270]\tvalidation_0-logloss:0.076522\n",
      "[280]\tvalidation_0-logloss:0.075776\n",
      "[290]\tvalidation_0-logloss:0.075155\n",
      "[300]\tvalidation_0-logloss:0.074299\n",
      "[310]\tvalidation_0-logloss:0.073751\n",
      "[320]\tvalidation_0-logloss:0.073337\n",
      "[330]\tvalidation_0-logloss:0.073036\n",
      "[340]\tvalidation_0-logloss:0.072558\n",
      "[350]\tvalidation_0-logloss:0.072308\n",
      "[360]\tvalidation_0-logloss:0.072077\n",
      "[370]\tvalidation_0-logloss:0.071781\n",
      "[380]\tvalidation_0-logloss:0.07163\n",
      "[390]\tvalidation_0-logloss:0.071283\n",
      "[400]\tvalidation_0-logloss:0.071203\n",
      "[410]\tvalidation_0-logloss:0.071086\n",
      "[420]\tvalidation_0-logloss:0.07099\n",
      "[430]\tvalidation_0-logloss:0.070879\n",
      "[440]\tvalidation_0-logloss:0.070729\n",
      "[450]\tvalidation_0-logloss:0.070651\n",
      "[460]\tvalidation_0-logloss:0.070625\n",
      "[470]\tvalidation_0-logloss:0.070538\n",
      "[480]\tvalidation_0-logloss:0.070495\n",
      "[490]\tvalidation_0-logloss:0.070458\n",
      "[500]\tvalidation_0-logloss:0.070361\n",
      "[510]\tvalidation_0-logloss:0.070321\n",
      "[520]\tvalidation_0-logloss:0.070278\n",
      "[530]\tvalidation_0-logloss:0.070228\n",
      "Stopping. Best iteration:\n",
      "[527]\tvalidation_0-logloss:0.070218\n",
      "\n"
     ]
    },
    {
     "data": {
      "text/plain": [
       "XGBClassifier(base_score=0.5, booster='gbtree', colsample_bylevel=1,\n",
       "              colsample_bynode=1, colsample_bytree=1, gamma=0.1,\n",
       "              learning_rate=0.1, max_delta_step=0, max_depth=6,\n",
       "              min_child_weight=10, missing=None, n_estimators=1000, n_jobs=1,\n",
       "              nthread=None, objective='binary:logistic', random_state=42,\n",
       "              reg_alpha=0, reg_lambda=1, scale_pos_weight=1, seed=None,\n",
       "              silent=None, subsample=1, verbosity=1)"
      ]
     },
     "execution_count": 193,
     "metadata": {},
     "output_type": "execute_result"
    }
   ],
   "source": [
    "# This will help us deciding number of estimators\n",
    "xgb = XGBClassifier(n_estimators=1000)\n",
    "best_params_xgb = cv.best_params_\n",
    "xgb.set_params(**best_params_xgb)\n",
    "xgb.fit(X=X_balanced_train, y=Y_balanced_train.values.ravel(), eval_set=[(X_test, y_test)], \n",
    "        eval_metric=\"logloss\", early_stopping_rounds=10, verbose=10)"
   ]
  },
  {
   "cell_type": "code",
   "execution_count": 194,
   "metadata": {},
   "outputs": [],
   "source": [
    "optimal_n_estimators = xgb.best_ntree_limit"
   ]
  },
  {
   "cell_type": "code",
   "execution_count": 195,
   "metadata": {},
   "outputs": [
    {
     "name": "stderr",
     "output_type": "stream",
     "text": [
      "/Users/akbaralishaikh/opt/anaconda3/lib/python3.7/site-packages/sklearn/utils/deprecation.py:87: FutureWarning: Function safe_indexing is deprecated; safe_indexing is deprecated in version 0.22 and will be removed in version 0.24.\n",
      "  warnings.warn(msg, category=FutureWarning)\n"
     ]
    }
   ],
   "source": [
    "X_balanced, Y_balanced = sm.fit_sample(X,Y)\n",
    "X_balanced = pd.DataFrame(X_balanced, columns=features)\n",
    "Y_balanced = pd.Series(Y_balanced)"
   ]
  },
  {
   "cell_type": "code",
   "execution_count": 196,
   "metadata": {},
   "outputs": [
    {
     "data": {
      "text/plain": [
       "XGBClassifier(base_score=0.5, booster='gbtree', colsample_bylevel=1,\n",
       "              colsample_bynode=1, colsample_bytree=1, gamma=0.1,\n",
       "              learning_rate=0.1, max_delta_step=0, max_depth=6,\n",
       "              min_child_weight=10, missing=None, n_estimators=528, n_jobs=1,\n",
       "              nthread=None, objective='binary:logistic', random_state=42,\n",
       "              reg_alpha=0, reg_lambda=1, scale_pos_weight=1, seed=None,\n",
       "              silent=None, subsample=1, verbosity=1)"
      ]
     },
     "execution_count": 196,
     "metadata": {},
     "output_type": "execute_result"
    }
   ],
   "source": [
    "xgb = XGBClassifier(max_depth=best_params_xgb[\"max_depth\"],\n",
    "                    gamma=best_params_xgb[\"gamma\"],\n",
    "                    min_child_weight=best_params_xgb[\"min_child_weight\"],\n",
    "                    n_estimators=optimal_n_estimators,\n",
    "                    random_state=42)\n",
    "xgb.fit(X_balanced, Y_balanced)"
   ]
  },
  {
   "cell_type": "code",
   "execution_count": 197,
   "metadata": {},
   "outputs": [],
   "source": [
    "#pickle.dump(xgb, open(data_dir + 'xgb_best_approach_2.pkl', 'wb'))\n",
    "pickle.dump(xgb, open('xgb_best_approach_2.pkl', 'wb'))"
   ]
  },
  {
   "cell_type": "code",
   "execution_count": 198,
   "metadata": {},
   "outputs": [],
   "source": [
    "#model = pickle.load(open(data_dir + \"xgb_best_approach_2.pkl\", 'rb'))\n",
    "model = pickle.load(open(\"xgb_best_approach_2.pkl\", 'rb'))"
   ]
  },
  {
   "cell_type": "code",
   "execution_count": 199,
   "metadata": {},
   "outputs": [],
   "source": [
    "def evaluate(X, Y, diff_threshold, after_promotion_purchase_prob_threshold):\n",
    "    def score(df, promo_pred_col = 'Promotion'):\n",
    "        n_treat       = df.loc[df[promo_pred_col] == 'Yes',:].shape[0]\n",
    "        n_control     = df.loc[df[promo_pred_col] == 'No',:].shape[0]\n",
    "        n_treat_purch = df.loc[df[promo_pred_col] == 'Yes', 'purchase'].sum()\n",
    "        n_ctrl_purch  = df.loc[df[promo_pred_col] == 'No', 'purchase'].sum()\n",
    "        nir = 10 * n_treat_purch - 0.15 * n_treat - 10 * n_ctrl_purch\n",
    "        return nir\n",
    "    \n",
    "    nir_scores = []\n",
    "    kf = KFold(n_splits=10, random_state=42)\n",
    "    for train_index, test_index in kf.split(X):\n",
    "        X_train, X_valid = X.loc[train_index], X.loc[test_index]\n",
    "        Y_train, Y_valid = Y.loc[train_index], Y.loc[test_index]\n",
    "        \n",
    "        # As we have already trained the hyper parameters for XGBoost, we need not train it again here\n",
    "        # we can use the trained model, to calculate score for given threshold value\n",
    "        model = pickle.load(open(\"xgb_best_approach_2.pkl\", 'rb'))\n",
    "        \n",
    "        X_valid_with_promo = X_valid.copy()\n",
    "        # predict probability of purchase with promotion\n",
    "        X_valid_with_promo[\"Promotion_Yes\"] = 1\n",
    "        X_valid_with_promo[\"Promotion_No\"] = 0\n",
    "        probs_with_promotion = model.predict_proba(X_valid_with_promo)[:, 1]\n",
    "\n",
    "        # predict probability of purchase without promotion\n",
    "        X_valid_with_promo[\"Promotion_Yes\"] = 0\n",
    "        X_valid_with_promo[\"Promotion_No\"] = 1\n",
    "\n",
    "        probs_without_promotion = model.predict_proba(X_valid_with_promo)[:, 1]\n",
    "\n",
    "        # calculate the difference as diff\n",
    "        diff = probs_with_promotion - probs_without_promotion\n",
    "\n",
    "        # if diff is above threshold choose to promote else don't\n",
    "        promos = (probs_with_promotion > after_promotion_purchase_prob_threshold) & (diff > diff_threshold)\n",
    "        val_data = X_valid.copy()\n",
    "        val_data[\"Promotion\"] = \"No\"\n",
    "        val_data.loc[val_data[\"Promotion_Yes\"] == 1, \"Promotion\"] = \"Yes\"\n",
    "        val_data[\"purchase\"] = Y_valid.copy()\n",
    "        score_df = val_data.iloc[np.where(promos)]\n",
    "        nir = score(score_df)\n",
    "        nir_scores.append(nir)\n",
    "    return np.asscalar(np.mean(nir_scores))"
   ]
  },
  {
   "cell_type": "code",
   "execution_count": 200,
   "metadata": {},
   "outputs": [
    {
     "data": {
      "text/plain": [
       "True"
      ]
     },
     "execution_count": 200,
     "metadata": {},
     "output_type": "execute_result"
    }
   ],
   "source": [
    "(X_valid.index == y_valid.index).all()"
   ]
  },
  {
   "cell_type": "code",
   "execution_count": 201,
   "metadata": {},
   "outputs": [
    {
     "name": "stdout",
     "output_type": "stream",
     "text": [
      "{'after_promotion_purchase_prob_threshold': 0.1, 'diff_threshold': 0.02}\n",
      "  0%|          | 0/200 [00:00<?, ?trial/s, best loss=?]"
     ]
    },
    {
     "name": "stderr",
     "output_type": "stream",
     "text": [
      "/Users/akbaralishaikh/opt/anaconda3/lib/python3.7/site-packages/sklearn/model_selection/_split.py:296: FutureWarning: Setting a random_state has no effect since shuffle is False. This will raise an error in 0.24. You should leave random_state to its default (None), or set shuffle=True.\n",
      "  FutureWarning\n",
      "\n",
      "/Users/akbaralishaikh/opt/anaconda3/lib/python3.7/site-packages/ipykernel_launcher.py:13: FutureWarning: \n",
      "Passing list-likes to .loc or [] with any missing label will raise\n",
      "KeyError in the future, you can use .reindex() as an alternative.\n",
      "\n",
      "See the documentation here:\n",
      "https://pandas.pydata.org/pandas-docs/stable/user_guide/indexing.html#deprecate-loc-reindex-listlike\n",
      "  del sys.path[0]\n",
      "\n",
      "/Users/akbaralishaikh/opt/anaconda3/lib/python3.7/site-packages/ipykernel_launcher.py:14: FutureWarning: \n",
      "Passing list-likes to .loc or [] with any missing label will raise\n",
      "KeyError in the future, you can use .reindex() as an alternative.\n",
      "\n",
      "See the documentation here:\n",
      "https://pandas.pydata.org/pandas-docs/stable/user_guide/indexing.html#deprecate-loc-reindex-listlike\n",
      "  \n",
      "\n"
     ]
    },
    {
     "name": "stdout",
     "output_type": "stream",
     "text": [
      "nir: 13.01                                             \n",
      "{'after_promotion_purchase_prob_threshold': 0.5, 'diff_threshold': 0.032}\n",
      "  0%|          | 1/200 [00:00<03:02,  1.09trial/s, best loss: -13.01]"
     ]
    },
    {
     "name": "stderr",
     "output_type": "stream",
     "text": [
      "/Users/akbaralishaikh/opt/anaconda3/lib/python3.7/site-packages/ipykernel_launcher.py:44: DeprecationWarning: np.asscalar(a) is deprecated since NumPy v1.16, use a.item() instead\n",
      "\n"
     ]
    },
    {
     "name": "stdout",
     "output_type": "stream",
     "text": [
      "nir: 0.985                                                           \n",
      "{'after_promotion_purchase_prob_threshold': 0.8, 'diff_threshold': 0.033}\n",
      "nir: 0.0                                                             \n",
      "{'after_promotion_purchase_prob_threshold': 0.2, 'diff_threshold': 0.024}\n",
      "nir: 2.91                                                            \n",
      "{'after_promotion_purchase_prob_threshold': 0.0, 'diff_threshold': 0.028}\n",
      "nir: 14.184999999999999                                              \n",
      "{'after_promotion_purchase_prob_threshold': 0.4, 'diff_threshold': 0.033}         \n",
      "nir: 1.97                                                                         \n",
      "{'after_promotion_purchase_prob_threshold': 0.0, 'diff_threshold': 0.029}         \n",
      "nir: 13.409999999999997                                                           \n",
      "{'after_promotion_purchase_prob_threshold': 0.8, 'diff_threshold': 0.039}         \n",
      "nir: 0.0                                                                          \n",
      "{'after_promotion_purchase_prob_threshold': 0.1, 'diff_threshold': 0.027}         \n",
      "nir: 13.01                                                                        \n",
      "{'after_promotion_purchase_prob_threshold': 0.6, 'diff_threshold': 0.026}         \n",
      "nir: 0.985                                                                        \n",
      "{'after_promotion_purchase_prob_threshold': 0.3, 'diff_threshold': 0.023}          \n",
      "nir: 1.97                                                                          \n",
      "{'after_promotion_purchase_prob_threshold': 0.0, 'diff_threshold': 0.039}          \n",
      "nir: 12.85                                                                         \n",
      "{'after_promotion_purchase_prob_threshold': 0.2, 'diff_threshold': 0.039}          \n",
      "nir: 2.91                                                                          \n",
      "{'after_promotion_purchase_prob_threshold': 0.7, 'diff_threshold': 0.033}          \n",
      "nir: 0.0                                                                           \n",
      "{'after_promotion_purchase_prob_threshold': 0.1, 'diff_threshold': 0.038}          \n",
      "nir: 13.01                                                                         \n",
      "{'after_promotion_purchase_prob_threshold': 0.6, 'diff_threshold': 0.032}          \n",
      "nir: 0.985                                                                         \n",
      "{'after_promotion_purchase_prob_threshold': 0.5, 'diff_threshold': 0.039}          \n",
      "nir: 0.985                                                                         \n",
      "{'after_promotion_purchase_prob_threshold': 0.6, 'diff_threshold': 0.024}          \n",
      "nir: 0.985                                                                         \n",
      "{'after_promotion_purchase_prob_threshold': 0.4, 'diff_threshold': 0.034}          \n",
      "nir: 1.97                                                                          \n",
      "{'after_promotion_purchase_prob_threshold': 0.7, 'diff_threshold': 0.035}          \n",
      "nir: 0.0                                                                           \n",
      "{'after_promotion_purchase_prob_threshold': 0.9, 'diff_threshold': 0.028}          \n",
      "nir: 0.0                                                                           \n",
      "{'after_promotion_purchase_prob_threshold': 0.0, 'diff_threshold': 0.037}          \n",
      "nir: 14.535                                                                        \n",
      "{'after_promotion_purchase_prob_threshold': 0.3, 'diff_threshold': 0.03}           \n",
      "nir: 1.97                                                              \n",
      "{'after_promotion_purchase_prob_threshold': 0.9, 'diff_threshold': 0.025}\n",
      "nir: 0.0                                                               \n",
      "{'after_promotion_purchase_prob_threshold': 0.0, 'diff_threshold': 0.022}\n",
      "nir: 12.805000000000001                                                \n",
      "{'after_promotion_purchase_prob_threshold': 0.0, 'diff_threshold': 0.021}\n",
      "nir: 12.430000000000001                                                \n",
      "{'after_promotion_purchase_prob_threshold': 0.5, 'diff_threshold': 0.036}\n",
      "nir: 0.985                                                             \n",
      "{'after_promotion_purchase_prob_threshold': 0.8, 'diff_threshold': 0.031}\n",
      "nir: 0.0                                                               \n",
      "{'after_promotion_purchase_prob_threshold': 0.2, 'diff_threshold': 0.037}\n",
      "nir: 2.91                                                              \n",
      "{'after_promotion_purchase_prob_threshold': 0.9, 'diff_threshold': 0.02}\n",
      "nir: 0.0                                                               \n",
      "{'after_promotion_purchase_prob_threshold': 0.4, 'diff_threshold': 0.037}\n",
      "nir: 1.97                                                              \n",
      "{'after_promotion_purchase_prob_threshold': 0.7, 'diff_threshold': 0.027}\n",
      "nir: 0.0                                                               \n",
      "{'after_promotion_purchase_prob_threshold': 0.1, 'diff_threshold': 0.031}\n",
      "nir: 13.01                                                             \n",
      "{'after_promotion_purchase_prob_threshold': 0.8, 'diff_threshold': 0.021}\n",
      "nir: 0.0                                                               \n",
      "{'after_promotion_purchase_prob_threshold': 0.0, 'diff_threshold': 0.026}\n",
      "nir: 13.825                                                            \n",
      "{'after_promotion_purchase_prob_threshold': 0.5, 'diff_threshold': 0.035}\n",
      "nir: 0.985                                                             \n",
      "{'after_promotion_purchase_prob_threshold': 0.2, 'diff_threshold': 0.036}\n",
      "nir: 2.91                                                              \n",
      "{'after_promotion_purchase_prob_threshold': 0.0, 'diff_threshold': 0.038}\n",
      "nir: 12.715                                                            \n",
      "{'after_promotion_purchase_prob_threshold': 0.4, 'diff_threshold': 0.022}\n",
      "nir: 1.97                                                              \n",
      "{'after_promotion_purchase_prob_threshold': 0.1, 'diff_threshold': 0.032}\n",
      "nir: 13.01                                                             \n",
      "{'after_promotion_purchase_prob_threshold': 0.6, 'diff_threshold': 0.034}\n",
      "nir: 0.985                                                             \n",
      "{'after_promotion_purchase_prob_threshold': 0.0, 'diff_threshold': 0.025}\n",
      "nir: 12.51                                                             \n",
      "{'after_promotion_purchase_prob_threshold': 0.8, 'diff_threshold': 0.037}\n",
      "nir: 0.0                                                               \n",
      "{'after_promotion_purchase_prob_threshold': 0.3, 'diff_threshold': 0.033}\n",
      "nir: 1.97                                                              \n",
      "{'after_promotion_purchase_prob_threshold': 0.7, 'diff_threshold': 0.024}\n",
      "nir: 0.0                                                               \n",
      "{'after_promotion_purchase_prob_threshold': 0.0, 'diff_threshold': 0.02}\n",
      "nir: 13.084999999999999                                                \n",
      "{'after_promotion_purchase_prob_threshold': 0.2, 'diff_threshold': 0.03}\n",
      "nir: 2.91                                                              \n",
      "{'after_promotion_purchase_prob_threshold': 0.6, 'diff_threshold': 0.028}\n",
      "nir: 0.985                                                             \n",
      "{'after_promotion_purchase_prob_threshold': 0.5, 'diff_threshold': 0.029}\n",
      "nir: 0.985                                                             \n",
      "{'after_promotion_purchase_prob_threshold': 0.9, 'diff_threshold': 0.027}\n",
      "nir: 0.0                                                               \n",
      "{'after_promotion_purchase_prob_threshold': 0.1, 'diff_threshold': 0.023}\n",
      "nir: 13.01                                                             \n",
      "{'after_promotion_purchase_prob_threshold': 0.7, 'diff_threshold': 0.034}\n",
      "nir: 0.0                                                               \n",
      "{'after_promotion_purchase_prob_threshold': 0.3, 'diff_threshold': 0.039}\n",
      "nir: 1.97                                                              \n",
      "{'after_promotion_purchase_prob_threshold': 0.8, 'diff_threshold': 0.032}\n",
      "nir: 0.0                                                               \n",
      "{'after_promotion_purchase_prob_threshold': 0.6, 'diff_threshold': 0.035}\n",
      "nir: 0.985                                                             \n",
      "{'after_promotion_purchase_prob_threshold': 0.0, 'diff_threshold': 0.03}\n",
      "nir: 13.560000000000002                                                \n",
      "{'after_promotion_purchase_prob_threshold': 0.9, 'diff_threshold': 0.021}\n",
      "nir: 0.0                                                               \n",
      "{'after_promotion_purchase_prob_threshold': 0.5, 'diff_threshold': 0.031}\n",
      "nir: 0.985                                                             \n",
      "{'after_promotion_purchase_prob_threshold': 0.1, 'diff_threshold': 0.037}\n",
      "nir: 13.01                                                             \n",
      "{'after_promotion_purchase_prob_threshold': 0.3, 'diff_threshold': 0.025}\n",
      "nir: 1.97                                                              \n",
      "{'after_promotion_purchase_prob_threshold': 0.7, 'diff_threshold': 0.036}\n",
      "nir: 0.0                                                               \n",
      "{'after_promotion_purchase_prob_threshold': 0.8, 'diff_threshold': 0.029}\n",
      "nir: 0.0                                                               \n",
      "{'after_promotion_purchase_prob_threshold': 0.2, 'diff_threshold': 0.027}\n",
      "nir: 2.91                                                              \n",
      "{'after_promotion_purchase_prob_threshold': 0.9, 'diff_threshold': 0.026}\n",
      "nir: 0.0                                                               \n",
      "{'after_promotion_purchase_prob_threshold': 0.6, 'diff_threshold': 0.039}\n",
      "nir: 0.985                                                             \n",
      "{'after_promotion_purchase_prob_threshold': 0.5, 'diff_threshold': 0.038}\n",
      "nir: 0.985                                                             \n",
      "{'after_promotion_purchase_prob_threshold': 0.4, 'diff_threshold': 0.023}\n",
      "nir: 1.97                                                              \n",
      "{'after_promotion_purchase_prob_threshold': 0.1, 'diff_threshold': 0.035}\n",
      "nir: 13.01                                                             \n",
      "{'after_promotion_purchase_prob_threshold': 0.0, 'diff_threshold': 0.032}\n",
      "nir: 12.830000000000002                                                \n",
      "{'after_promotion_purchase_prob_threshold': 0.3, 'diff_threshold': 0.021}\n",
      "nir: 1.97                                                              \n",
      "{'after_promotion_purchase_prob_threshold': 0.6, 'diff_threshold': 0.033}\n",
      "nir: 0.985                                                             \n",
      "{'after_promotion_purchase_prob_threshold': 0.9, 'diff_threshold': 0.022}\n",
      "nir: 0.0                                                               \n",
      "{'after_promotion_purchase_prob_threshold': 0.0, 'diff_threshold': 0.024}\n",
      "nir: 12.315000000000001                                                \n",
      "{'after_promotion_purchase_prob_threshold': 0.5, 'diff_threshold': 0.03}\n",
      "nir: 0.985                                                             \n",
      "{'after_promotion_purchase_prob_threshold': 0.4, 'diff_threshold': 0.029}\n",
      "nir: 1.97                                                               \n",
      "{'after_promotion_purchase_prob_threshold': 0.0, 'diff_threshold': 0.036}\n",
      "nir: 13.415000000000001                                                 \n",
      "{'after_promotion_purchase_prob_threshold': 0.3, 'diff_threshold': 0.02}\n",
      "nir: 1.97                                                               \n",
      "{'after_promotion_purchase_prob_threshold': 0.7, 'diff_threshold': 0.028}\n",
      "nir: 0.0                                                                \n",
      "{'after_promotion_purchase_prob_threshold': 0.8, 'diff_threshold': 0.026}\n",
      "nir: 0.0                                                                \n",
      "{'after_promotion_purchase_prob_threshold': 0.6, 'diff_threshold': 0.023}\n",
      "nir: 0.985                                                              \n",
      "{'after_promotion_purchase_prob_threshold': 0.9, 'diff_threshold': 0.039}\n",
      "nir: 0.0                                                                \n",
      "{'after_promotion_purchase_prob_threshold': 0.2, 'diff_threshold': 0.038}\n",
      "nir: 2.91                                                               \n",
      "{'after_promotion_purchase_prob_threshold': 0.5, 'diff_threshold': 0.034}\n",
      "nir: 0.985                                                              \n",
      "{'after_promotion_purchase_prob_threshold': 0.0, 'diff_threshold': 0.035}\n",
      "nir: 13.325                                                             \n",
      "{'after_promotion_purchase_prob_threshold': 0.4, 'diff_threshold': 0.032}\n",
      "nir: 1.97                                                               \n",
      "{'after_promotion_purchase_prob_threshold': 0.0, 'diff_threshold': 0.031}\n",
      "nir: 12.725                                                             \n",
      "{'after_promotion_purchase_prob_threshold': 0.7, 'diff_threshold': 0.021}\n",
      "nir: 0.0                                                                \n",
      "{'after_promotion_purchase_prob_threshold': 0.6, 'diff_threshold': 0.022}\n",
      "nir: 0.985                                                              \n",
      "{'after_promotion_purchase_prob_threshold': 0.2, 'diff_threshold': 0.029}\n",
      "nir: 2.91                                                               \n",
      "{'after_promotion_purchase_prob_threshold': 0.5, 'diff_threshold': 0.037}\n",
      "nir: 0.985                                                              \n",
      "{'after_promotion_purchase_prob_threshold': 0.4, 'diff_threshold': 0.036}\n",
      "nir: 1.97                                                               \n",
      "{'after_promotion_purchase_prob_threshold': 0.1, 'diff_threshold': 0.026}\n",
      "nir: 13.01                                                              \n",
      "{'after_promotion_purchase_prob_threshold': 0.7, 'diff_threshold': 0.023}\n",
      "nir: 0.0                                                                \n",
      "{'after_promotion_purchase_prob_threshold': 0.3, 'diff_threshold': 0.037}\n",
      "nir: 1.97                                                               \n",
      "{'after_promotion_purchase_prob_threshold': 0.8, 'diff_threshold': 0.027}\n",
      "nir: 0.0                                                                \n",
      "{'after_promotion_purchase_prob_threshold': 0.9, 'diff_threshold': 0.035}\n",
      "nir: 0.0                                                                \n",
      "{'after_promotion_purchase_prob_threshold': 0.2, 'diff_threshold': 0.032}\n",
      "nir: 2.91                                                               \n",
      "{'after_promotion_purchase_prob_threshold': 0.0, 'diff_threshold': 0.033}\n",
      "nir: 12.934999999999999                                                 \n",
      "{'after_promotion_purchase_prob_threshold': 0.1, 'diff_threshold': 0.021}\n",
      "nir: 13.01                                                              \n",
      "{'after_promotion_purchase_prob_threshold': 0.4, 'diff_threshold': 0.031}\n",
      "nir: 1.97                                                               \n",
      "{'after_promotion_purchase_prob_threshold': 0.3, 'diff_threshold': 0.024}\n",
      "nir: 1.97                                                               \n",
      "{'after_promotion_purchase_prob_threshold': 0.8, 'diff_threshold': 0.025}\n",
      "nir: 0.0                                                                \n",
      "{'after_promotion_purchase_prob_threshold': 0.6, 'diff_threshold': 0.02}\n",
      "nir: 0.985                                                              \n",
      "{'after_promotion_purchase_prob_threshold': 0.5, 'diff_threshold': 0.026}\n",
      "nir: 0.985                                                              \n",
      "{'after_promotion_purchase_prob_threshold': 0.0, 'diff_threshold': 0.023}\n",
      "nir: 13.0                                                               \n",
      "{'after_promotion_purchase_prob_threshold': 0.7, 'diff_threshold': 0.038}\n",
      "nir: 0.0                                                                \n",
      "{'after_promotion_purchase_prob_threshold': 0.3, 'diff_threshold': 0.034}\n",
      "nir: 1.97                                                               \n",
      "{'after_promotion_purchase_prob_threshold': 0.9, 'diff_threshold': 0.031}\n",
      "nir: 0.0                                                                \n",
      "{'after_promotion_purchase_prob_threshold': 0.5, 'diff_threshold': 0.033}\n",
      "nir: 0.985                                                              \n",
      "{'after_promotion_purchase_prob_threshold': 0.4, 'diff_threshold': 0.028}\n",
      "nir: 1.97                                                               \n",
      "{'after_promotion_purchase_prob_threshold': 0.1, 'diff_threshold': 0.036}\n"
     ]
    },
    {
     "name": "stdout",
     "output_type": "stream",
     "text": [
      "nir: 13.01                                                              \n",
      "{'after_promotion_purchase_prob_threshold': 0.7, 'diff_threshold': 0.02}\n",
      "nir: 0.0                                                                \n",
      "{'after_promotion_purchase_prob_threshold': 0.9, 'diff_threshold': 0.037}\n",
      "nir: 0.0                                                                \n",
      "{'after_promotion_purchase_prob_threshold': 0.0, 'diff_threshold': 0.034}\n",
      "nir: 13.219999999999999                                                 \n",
      "{'after_promotion_purchase_prob_threshold': 0.4, 'diff_threshold': 0.035}\n",
      "nir: 1.97                                                               \n",
      "{'after_promotion_purchase_prob_threshold': 0.7, 'diff_threshold': 0.037}\n",
      "nir: 0.0                                                                \n",
      "{'after_promotion_purchase_prob_threshold': 0.8, 'diff_threshold': 0.036}\n",
      "nir: 0.0                                                                \n",
      "100%|██████████| 200/200 [01:39<00:00,  2.01trial/s, best loss: -14.535]\n",
      "{'after_promotion_purchase_prob_threshold': 0.0, 'diff_threshold': 0.037}\n",
      "Elapsed computation time: 1.658 mins\n"
     ]
    }
   ],
   "source": [
    "def float_range(start, stop, step):\n",
    "    start = decimal.Decimal(start)\n",
    "    stop = decimal.Decimal(stop)\n",
    "    step = decimal.Decimal(step)\n",
    "    while (start < stop):\n",
    "        yield float(start)\n",
    "        start += step\n",
    "        \n",
    "evaluated_point_scores = {}\n",
    "\n",
    "def objective_threshold(params):\n",
    "    if (str(params) in evaluated_point_scores):\n",
    "        return evaluated_point_scores[str(params)]\n",
    "    else:\n",
    "        print(params)\n",
    "        diff_threshold = params[\"diff_threshold\"]\n",
    "        after_promotion_purchase_prob_threshold = params[\"after_promotion_purchase_prob_threshold\"]\n",
    "        nir_score = evaluate(X=X_test, Y=y_test, \n",
    "                             diff_threshold=diff_threshold, \n",
    "                             after_promotion_purchase_prob_threshold=after_promotion_purchase_prob_threshold)\n",
    "        print(\"nir: \" + str(nir_score))        \n",
    "        evaluated_point_scores[str(params)] = -nir_score\n",
    "        return -nir_score\n",
    "\n",
    "param_space = {\n",
    "    \"diff_threshold\": hp.choice(\"diff_threshold\", list(float_range(\"0.02\", \"0.04\", \"0.001\"))),\n",
    "    \"after_promotion_purchase_prob_threshold\": hp.choice(\"after_promotion_purchase_prob_threshold\", list(float_range(\"0.0\", \"1.0\", \"0.1\")))\n",
    "}\n",
    "\n",
    "start_time = time.time()\n",
    "best_params_threshold = space_eval(\n",
    "    param_space, \n",
    "    fmin(objective_threshold, \n",
    "         param_space, \n",
    "         algo=hyperopt.tpe.suggest,\n",
    "         max_evals=200))\n",
    "print(best_params_threshold)\n",
    "elapsed_time = (time.time() - start_time) / 60\n",
    "print('Elapsed computation time: {:.3f} mins'.format(elapsed_time))\n",
    "best_diff_threshold = best_params_threshold[\"diff_threshold\"]\n",
    "best_after_promotion_purchase_prob_threshold = best_params_threshold[\"after_promotion_purchase_prob_threshold\"]"
   ]
  },
  {
   "cell_type": "code",
   "execution_count": 202,
   "metadata": {},
   "outputs": [],
   "source": [
    "def promotion_strategy(df):\n",
    "    '''\n",
    "    INPUT \n",
    "    df - a dataframe with *only* the columns V1 - V7 (same as train_data)\n",
    "\n",
    "    OUTPUT\n",
    "    promotion_df - np.array with the values\n",
    "                   'Yes' or 'No' related to whether or not an \n",
    "                   individual should recieve a promotion \n",
    "                   should be the length of df.shape[0]\n",
    "                \n",
    "    Ex:\n",
    "    INPUT: df\n",
    "    \n",
    "    V1\tV2\t  V3\tV4\tV5\tV6\tV7\n",
    "    2\t30\t-1.1\t1\t1\t3\t2\n",
    "    3\t32\t-0.6\t2\t3\t2\t2\n",
    "    2\t30\t0.13\t1\t1\t4\t2\n",
    "    \n",
    "    OUTPUT: promotion\n",
    "    \n",
    "    array(['Yes', 'Yes', 'No'])\n",
    "    indicating the first two users would recieve the promotion and \n",
    "    the last should not.\n",
    "    '''\n",
    "    X = df.copy()\n",
    "    # predict probability of purchase with promotion\n",
    "\n",
    "    X[\"Promotion_No\"] = 0\n",
    "    X[\"Promotion_Yes\"] = 1\n",
    "    probs_with_promotion = model.predict_proba(X)[:, 1]\n",
    "\n",
    "\n",
    "    # predict probability of purchase without promotion\n",
    "    \n",
    "    X[\"Promotion_No\"] = 1\n",
    "    X[\"Promotion_Yes\"] = 0\n",
    "    probs_without_promotion = model.predict_proba(X)[:, 1]\n",
    "\n",
    "    # calculate the difference as diff\n",
    "    diff = probs_with_promotion - probs_without_promotion        \n",
    "\n",
    "    should_promote = pd.DataFrame() \n",
    "    should_promote[\"promo\"] = (probs_with_promotion > best_after_promotion_purchase_prob_threshold) & (diff > best_diff_threshold)\n",
    "    \n",
    "    should_promote.loc[diff >= best_diff_threshold, \"promo\"] = \"Yes\"\n",
    "    should_promote.loc[diff < best_diff_threshold, \"promo\"] = \"No\"    \n",
    "    return should_promote[\"promo\"].to_numpy(dtype=\"str\")"
   ]
  },
  {
   "cell_type": "code",
   "execution_count": 203,
   "metadata": {},
   "outputs": [
    {
     "name": "stdout",
     "output_type": "stream",
     "text": [
      "Nice job!  See how well your strategy worked on our test data below!\n",
      "\n",
      "Your irr with this strategy is 0.0188.\n",
      "\n",
      "Your nir with this strategy is 98.30.\n",
      "We came up with a model with an irr of 0.0188 and an nir of 189.45 on the test set.\n",
      "\n",
      " How did you do?\n"
     ]
    },
    {
     "data": {
      "text/plain": [
       "(0.018826981638688733, 98.30000000000001)"
      ]
     },
     "execution_count": 203,
     "metadata": {},
     "output_type": "execute_result"
    }
   ],
   "source": [
    "test_results(promotion_strategy)"
   ]
  },
  {
   "cell_type": "code",
   "execution_count": null,
   "metadata": {},
   "outputs": [],
   "source": []
  }
 ],
 "metadata": {
  "kernelspec": {
   "display_name": "Python 3",
   "language": "python",
   "name": "python3"
  },
  "language_info": {
   "codemirror_mode": {
    "name": "ipython",
    "version": 3
   },
   "file_extension": ".py",
   "mimetype": "text/x-python",
   "name": "python",
   "nbconvert_exporter": "python",
   "pygments_lexer": "ipython3",
   "version": "3.7.4"
  }
 },
 "nbformat": 4,
 "nbformat_minor": 2
}
